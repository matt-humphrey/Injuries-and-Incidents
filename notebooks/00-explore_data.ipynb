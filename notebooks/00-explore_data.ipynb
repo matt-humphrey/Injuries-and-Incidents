{
 "cells": [
  {
   "cell_type": "markdown",
   "metadata": {},
   "source": [
    "# Explore Data"
   ]
  },
  {
   "cell_type": "markdown",
   "metadata": {},
   "source": [
    "**IMPLEMENT TDD**\n",
    "\n",
    "Write this notebook in such a way that it's easy to swap datasets/variables in and out: it should be multipurpose.  \n",
    "Write comments and clearly work out what you WANT before you implement."
   ]
  },
  {
   "cell_type": "markdown",
   "metadata": {},
   "source": [
    "## Set up"
   ]
  },
  {
   "cell_type": "code",
   "execution_count": 1,
   "metadata": {},
   "outputs": [],
   "source": [
    "%load_ext autoreload\n",
    "%autoreload 2\n",
    "\n",
    "import pandas as pd\n",
    "import polars as pl\n",
    "import numpy as np\n",
    "import importlib\n",
    "from pydantic import ValidationError\n",
    "\n",
    "import raine_tools as rn\n",
    "from data_harmonising.data import *\n",
    "\n",
    "from src.config import RAW_DATA, INTERIM_DATA, WORKBOOK, SHEETNAME, DOCS\n",
    "from src.utils import value_counts, string_to_dict\n",
    "\n",
    "importlib.reload(rn);"
   ]
  },
  {
   "cell_type": "code",
   "execution_count": 2,
   "metadata": {},
   "outputs": [
    {
     "name": "stderr",
     "output_type": "stream",
     "text": [
      "c:\\Users\\00113294\\Anaconda3\\envs\\my_env\\Lib\\site-packages\\openpyxl\\worksheet\\_read_only.py:85: UserWarning: Data Validation extension is not supported and will be removed\n",
      "  for idx, row in parser.parse():\n"
     ]
    }
   ],
   "source": [
    "value_labels = pd.read_excel(DOCS / \"Value_Labels.xlsx\")\n",
    "value_labels = value_labels.loc[(value_labels['Harmonised by'] == \"Matt\") & (value_labels['Harmonised Status'] == \"In Progress\")]\n",
    "\n",
    "wb = pd.read_excel(WORKBOOK, sheet_name=SHEETNAME)\n",
    "wb['vn_old'] = wb['Dataset'] + '_' + wb['Variable Name']\n",
    "wb['vn_new'] = wb['Dataset'] + '_' + wb['Harmonised Variable Name']\n",
    "\n",
    "VAR_MAP = wb.set_index('vn_old')['vn_new'].to_dict()\n",
    "VARS = wb['vn_old'].dropna().unique()"
   ]
  },
  {
   "cell_type": "markdown",
   "metadata": {},
   "source": [
    "Check all variables from the Value Labels spreadsheet have been captured."
   ]
  },
  {
   "cell_type": "code",
   "execution_count": 3,
   "metadata": {},
   "outputs": [
    {
     "data": {
      "text/plain": [
       "[array([], dtype='<U19'), array([], dtype='<U19')]"
      ]
     },
     "execution_count": 3,
     "metadata": {},
     "output_type": "execute_result"
    }
   ],
   "source": [
    "# Which variables are not shared between the workbook and value labels spreadsheet?\n",
    "vars1 = wb['vn_old'].to_list()\n",
    "vars2 = value_labels[\"Actual Variable Name\"].to_list()\n",
    "rn.diff(vars1, vars2)"
   ]
  },
  {
   "cell_type": "markdown",
   "metadata": {},
   "source": [
    "xxx"
   ]
  },
  {
   "cell_type": "code",
   "execution_count": 4,
   "metadata": {},
   "outputs": [
    {
     "data": {
      "text/plain": [
       "array(['G201_IF1', 'G201_IF2', 'G201_IF3', 'G201_IF4', 'G201_IF5',\n",
       "       'G201_IF6', 'G201_IF7', 'G201_IF8', 'G201_IF9', 'G201_IF10',\n",
       "       'G201_IF11', 'G201_IF12', 'G201_IF13', 'G201_IC1', 'G201_IC2',\n",
       "       'G201_IC3', 'G201_IC4', 'G201_IC5', 'G201_IC6', 'G201_IC7',\n",
       "       'G201_IC8', 'G201_IC9', 'G201_IC10', 'G201_IC11', 'G201_IC12',\n",
       "       'G201_INF1', 'G201_INF2', 'G201_INF3', 'G201_INF4', 'G201_INF5',\n",
       "       'G201_INC1', 'G201_INC2', 'G201_INC3', 'G201_INC4', 'G201_INC5',\n",
       "       'G201_HOH1', 'G201_HOH2', 'G201_HOH3', 'G201_HOH4', 'G201_HOH5',\n",
       "       'G201_HOH6', 'G201_HOC1', 'G201_HOC2', 'G201_HOC3', 'G201_HOC4',\n",
       "       'G201_HOC5', 'G201_HOC6', 'G201_HOF1', 'G201_HOF2', 'G201_HOF3',\n",
       "       'G201_HOF4', 'G201_HOF5', 'G201_HOF6', 'G202_IL', 'G202_IF1',\n",
       "       'G202_IF2', 'G202_IF3', 'G202_IF4', 'G202_IF5', 'G202_IF6',\n",
       "       'G202_IF7', 'G202_IF8', 'G202_IF9', 'G202_IF10', 'G202_IF11',\n",
       "       'G202_IF12', 'G202_IC1', 'G202_IC2', 'G202_IC3', 'G202_IC4',\n",
       "       'G202_IC5', 'G202_IC6', 'G202_IC7', 'G202_IC8', 'G202_IC9',\n",
       "       'G202_IC10', 'G202_IC11', 'G202_IC12', 'G202_INJ', 'G202_INF1',\n",
       "       'G202_INF2', 'G202_INF3', 'G202_INC1', 'G202_INC2', 'G202_INC3',\n",
       "       'G202_HO', 'G202_HOH1', 'G202_HOH2', 'G202_HOH3', 'G202_HOH4',\n",
       "       'G202_HOH5', 'G202_HOF1', 'G202_HOF2', 'G202_HOF3', 'G202_HOF4',\n",
       "       'G202_HOF5', 'G202_HOC1', 'G202_HOC2', 'G202_HOC3', 'G202_HOC4',\n",
       "       'G202_HOC5', 'G203_IL', 'G203_IF1', 'G203_IF2', 'G203_IF3',\n",
       "       'G203_IF4', 'G203_IF5', 'G203_IF6', 'G203_IF7', 'G203_IF8',\n",
       "       'G203_IF9', 'G203_IF10', 'G203_IF11', 'G203_IF12', 'G203_IC1',\n",
       "       'G203_IC2', 'G203_IC3', 'G203_IC4', 'G203_IC5', 'G203_IC6',\n",
       "       'G203_IC7', 'G203_IC8', 'G203_IC9', 'G203_IC10', 'G203_IC11',\n",
       "       'G203_IC12', 'G203_OM1A', 'G203_OM1B', 'G203_OM2', 'G203_CVLNA',\n",
       "       'G203_CVLNB', 'G203_UTIA', 'G203_UTIB', 'G203_INJ', 'G203_INF1',\n",
       "       'G203_INF2', 'G203_INF3', 'G203_INF4', 'G203_INC1', 'G203_INC2',\n",
       "       'G203_INC3', 'G203_INC4', 'G203_HO', 'G203_HOH1', 'G203_HOH2',\n",
       "       'G203_HOH3', 'G203_HOH4', 'G203_HOH5', 'G203_HOH6', 'G203_HOF1',\n",
       "       'G203_HOF2', 'G203_HOF3', 'G203_HOF4', 'G203_HOF5', 'G203_HOF6',\n",
       "       'G203_HOC1', 'G203_HOC2', 'G203_HOC3', 'G203_HOC4', 'G203_HOC5',\n",
       "       'G203_HOC6', 'G205_IL', 'G205_IF1', 'G205_IF2', 'G205_IF3',\n",
       "       'G205_IF4', 'G205_IF5', 'G205_IF6', 'G205_IF7', 'G205_IF8',\n",
       "       'G205_IF9', 'G205_IF10', 'G205_IF11', 'G205_IF12', 'G205_IF13',\n",
       "       'G205_IF14', 'G205_IF15', 'G205_IC1', 'G205_IC2', 'G205_IC3',\n",
       "       'G205_IC4', 'G205_IC5', 'G205_IC6', 'G205_IC7', 'G205_IC8',\n",
       "       'G205_IC9', 'G205_IC10', 'G205_IC11', 'G205_IC12', 'G205_IC13',\n",
       "       'G205_IC14', 'G205_IC15', 'G205_IL15', 'G205_INJ', 'G205_INF1',\n",
       "       'G205_INF2', 'G205_INF3', 'G205_INF4', 'G205_INC1', 'G205_INC2',\n",
       "       'G205_INC3', 'G205_INC4', 'G205_INJ4', 'G205_HO', 'G205_HOH1',\n",
       "       'G205_HOH2', 'G205_HOH3', 'G205_HOH4', 'G205_HOH5', 'G205_HOH6',\n",
       "       'G205_HOH7', 'G205_HOH8', 'G205_HOD1', 'G205_HOD2', 'G205_HOD3',\n",
       "       'G205_HOD4', 'G205_HOD5', 'G205_HOD6', 'G205_HOD7', 'G205_HOD8',\n",
       "       'G205_HOF1', 'G205_HOF2', 'G205_HOF3', 'G205_HOF4', 'G205_HOF5',\n",
       "       'G205_HOF6', 'G205_HOF7', 'G205_HOF8', 'G205_HOC1', 'G205_HOC2',\n",
       "       'G205_HOC3', 'G205_HOC4', 'G205_HOC5', 'G205_HOC6', 'G205_HOC7',\n",
       "       'G205_HOC8', 'G205_HO8', 'G205_OM1', 'G205_OM1A', 'G205_OM1B',\n",
       "       'G205_OM2', 'G205_CVLN', 'G205_CVLNA', 'G205_CVLNB', 'G205_UTI',\n",
       "       'G205_UTIA', 'G205_UTIB', 'G208_INJ', 'G208_INF1', 'G208_INF2',\n",
       "       'G208_INF3', 'G208_INF4', 'G208_INF5', 'G208_INF6', 'G208_INC1',\n",
       "       'G208_INC2', 'G208_INC3', 'G208_INC4', 'G208_INC5', 'G208_INC6',\n",
       "       'G208_HO', 'G208_HOH1', 'G208_HOH2', 'G208_HOH3', 'G208_HOH4',\n",
       "       'G208_HOH5', 'G208_HOH6', 'G208_HOD1', 'G208_HOD2', 'G208_HOD3',\n",
       "       'G208_HOD4', 'G208_HOD5', 'G208_HOD6', 'G208_HOF1', 'G208_HOF2',\n",
       "       'G208_HOF3', 'G208_HOF4', 'G208_HOF5', 'G208_HOF6', 'G208_HOC1',\n",
       "       'G208_HOC2', 'G208_HOC3', 'G208_HOC4', 'G208_HOC5', 'G208_HOC6',\n",
       "       'G210_INJ', 'G210_INC1', 'G210_INC2', 'G210_INC3', 'G210_INC4',\n",
       "       'G210_INF1', 'G210_INF2', 'G210_INF3', 'G210_INF4', 'G210_HO',\n",
       "       'G210_HOD1', 'G210_HOD2', 'G210_HOD3', 'G210_HOD4', 'G210_HOD5',\n",
       "       'G210_HOH1', 'G210_HOH2', 'G210_HOH3', 'G210_HOH4', 'G210_HOH5',\n",
       "       'G210_HOH6', 'G210_HOC1', 'G210_HOC2', 'G210_HOC3', 'G210_HOC4',\n",
       "       'G210_HOC5', 'G210_HOC6', 'G214_PQ_INJ', 'G214_PQ_INC1',\n",
       "       'G214_PQ_INC2', 'G214_PQ_INC3', 'G214_PQ_INC4', 'G214_PQ_INC5',\n",
       "       'G214_PQ_INC6', 'G214_PQ_INF1', 'G214_PQ_INF2', 'G214_PQ_INF3',\n",
       "       'G214_PQ_INF4', 'G214_PQ_INF5', 'G214_PQ_INF6', 'G214_PQ_HO',\n",
       "       'G214_PQ_HOC1', 'G214_PQ_HOC2', 'G214_PQ_HOC3', 'G214_PQ_HOC4',\n",
       "       'G214_PQ_HOC5', 'G214_PQ_HOC6', 'G214_PQ_HOC7', 'G214_PQ_HOC8',\n",
       "       'G214_PQ_HOD1', 'G214_PQ_HOD2', 'G214_PQ_HOD3', 'G214_PQ_HOD4',\n",
       "       'G214_PQ_HOD5', 'G214_PQ_HOD6', 'G214_PQ_HOD7', 'G214_PQ_HOD8',\n",
       "       'G214_PQ_HOH1', 'G214_PQ_HOH2', 'G214_PQ_HOH3', 'G214_PQ_HOH4',\n",
       "       'G214_PQ_HOH5', 'G214_PQ_HOH6', 'G214_PQ_HOH7', 'G214_PQ_HOH8',\n",
       "       'G217_INJ', 'G217_INF1', 'G217_INF2', 'G217_INF3', 'G217_INF4',\n",
       "       'G217_INF5', 'G217_INC1', 'G217_INC2', 'G217_INC3', 'G217_INC4',\n",
       "       'G217_INC5', 'G217_HO', 'G217_HOD1', 'G217_HOH1', 'G217_HOC1',\n",
       "       'G217_HOD2', 'G217_HOH2', 'G217_HOC2', 'G217_HOD3', 'G217_HOH3',\n",
       "       'G217_HOC3', 'G217_HOD4', 'G217_HOH4', 'G217_HOC4', 'G217_HOD5',\n",
       "       'G217_HOH5', 'G217_HOC5', 'G217_HOD6', 'G217_HOH6', 'G217_HOC6',\n",
       "       'G217_HOD7', 'G217_HOH7', 'G217_HOC7', 'G217_HOD8', 'G217_HOH8',\n",
       "       'G217_HOC8', 'G217_HOD9', 'G217_HOH9', 'G217_HOC9', 'G217_HD10',\n",
       "       'G217_HH10', 'G217_HC10', 'G217_PQ_INJ', 'G217_PQ_INF1',\n",
       "       'G217_PQ_INF2', 'G217_PQ_INF3', 'G217_PQ_INF4', 'G217_PQ_INF5',\n",
       "       'G217_PQ_INC1', 'G217_PQ_INC2', 'G217_PQ_INC3', 'G217_PQ_INC4',\n",
       "       'G217_PQ_INC5', 'G217_PQ_HO', 'G217_PQ_HOD1', 'G217_PQ_HOH1',\n",
       "       'G217_PQ_HOC1', 'G217_PQ_HOD2', 'G217_PQ_HOH2', 'G217_PQ_HOC2',\n",
       "       'G217_PQ_HOD3', 'G217_PQ_HOH3', 'G217_PQ_HOC3', 'G217_PQ_HOD4',\n",
       "       'G217_PQ_HOH4', 'G217_PQ_HOC4', 'G217_PQ_HOD5', 'G217_PQ_HOH5',\n",
       "       'G217_PQ_HOC5', 'G217_PQ_HOD6', 'G217_PQ_HOH6', 'G217_PQ_HOC6',\n",
       "       'G217_PQ_HOD7', 'G217_PQ_HOH7', 'G217_PQ_HOC7', 'G217_PQ_HOD8',\n",
       "       'G217_PQ_HOH8', 'G217_PQ_HOC8', 'G217_PQ_HOD9', 'G217_PQ_HOH9',\n",
       "       'G217_PQ_HOC9', 'G217_PQ_HD10', 'G217_PQ_HH10', 'G217_PQ_HC10',\n",
       "       'G220_INJ', 'G220_INF1', 'G220_INF2', 'G220_INF3', 'G220_INF4',\n",
       "       'G220_INF5', 'G220_INC1', 'G220_INC2', 'G220_INC3', 'G220_INC4',\n",
       "       'G220_INC5', 'G220_HO', 'G220_HOD1', 'G220_HOH1', 'G220_HOC1',\n",
       "       'G220_HOD2', 'G220_HOH2', 'G220_HOC2', 'G220_HOD3', 'G220_HOH3',\n",
       "       'G220_HOC3', 'G220_HOD4', 'G220_HOH4', 'G220_HOC4', 'G220_HOD5',\n",
       "       'G220_HOH5', 'G220_HOC5', 'G222_INJ', 'G222_INF1', 'G222_INF2',\n",
       "       'G222_INF3', 'G222_INF4', 'G222_INF5', 'G222_INC1', 'G222_INC2',\n",
       "       'G222_INC3', 'G222_INC4', 'G222_INC5', 'G222_INA1', 'G222_INA2',\n",
       "       'G222_INA3', 'G222_INA4', 'G222_INA5', 'G222_HO', 'G222_HOD1',\n",
       "       'G222_HOH1', 'G222_HOC1', 'G222_HOD2', 'G222_HOH2', 'G222_HOC2',\n",
       "       'G222_HOD3', 'G222_HOH3', 'G222_HOC3', 'G222_HOD4', 'G222_HOH4',\n",
       "       'G222_HOC4', 'G222_HOD5', 'G222_HOH5', 'G222_HOC5', 'G227_HOSP',\n",
       "       'G227_HOSP1_INJ', 'G227_HOSP2_INJ', 'G227_HOSP3_INJ',\n",
       "       'G227_HOSP4_INJ', 'G227_HOSP1_CAUSE', 'G227_HOSP2_CAUSE',\n",
       "       'G227_HOSP3_CAUSE', 'G227_HOSP4_CAUSE', 'G227_HOSP1_TIME',\n",
       "       'G227_HOSP2_TIME', 'G227_HOSP3_TIME', 'G227_HOSP4_TIME',\n",
       "       'G227_HOSP1_TREAT', 'G227_HOSP2_TREAT', 'G227_HOSP3_TREAT',\n",
       "       'G227_HOSP4_TREAT', 'G227_AE', 'G227_AE1_ICD10_DAT',\n",
       "       'G227_AE2_ICD10_DAT', 'G227_AE3_ICD10_DAT', 'G227_AE4_ICD10_DAT',\n",
       "       'G227_AE1_HOSP', 'G227_AE2_HOSP', 'G227_AE3_HOSP', 'G227_AE4_HOSP',\n",
       "       'G227_AE1_REA', 'G227_AE2_REA', 'G227_AE3_REA', 'G227_AE4_REA',\n",
       "       'G227_AE1_ICD10', 'G227_AE2_ICD10', 'G227_AE3_ICD10',\n",
       "       'G227_AE4_ICD10', 'G228_HOSP', 'G228_HOSP1_INJ',\n",
       "       'G228_HOSP1_CAUSE', 'G228_HOSP1_TREAT', 'G228_HOSP1_TIME',\n",
       "       'G228_HOSP1_ICD10', 'G228_HOSP2_INJ', 'G228_HOSP2_CAUSE',\n",
       "       'G228_HOSP2_TREAT', 'G228_HOSP2_TIME', 'G228_HOSP2_ICD10',\n",
       "       'G228_HOSP3_INJ', 'G228_HOSP3_CAUSE', 'G228_HOSP3_TREAT',\n",
       "       'G228_HOSP3_TIME', 'G228_HOSP3_ICD10', 'G228_HOSP4_INJ',\n",
       "       'G228_HOSP4_CAUSE', 'G228_HOSP4_TREAT', 'G228_HOSP4_TIME',\n",
       "       'G228_HOSP4_ICD10', 'G228_HOSP5_INJ', 'G228_HOSP5_CAUSE',\n",
       "       'G228_HOSP5_TREAT', 'G228_HOSP5_TIME', 'G228_HOSP5_ICD10',\n",
       "       'G228_AE', 'G228_AE1_REA', 'G228_AE1_HOSP', 'G228_AE1_ICD10_DAT',\n",
       "       'G228_AE1_ICD10', 'G228_AE1_ICD10_HOSP', 'G228_AE2_REA',\n",
       "       'G228_AE2_HOSP', 'G228_AE2_ICD10_DAT', 'G228_AE2_ICD10',\n",
       "       'G228_AE2_ICD10_HOSP', 'G228_AE3_REA', 'G228_AE3_HOSP',\n",
       "       'G228_AE3_ICD10_DAT', 'G228_AE3_ICD10', 'G228_AE3_ICD10_HOSP',\n",
       "       'G228_AE4_REA', 'G228_AE4_HOSP', 'G228_AE4_ICD10_DAT',\n",
       "       'G228_AE4_ICD10', 'G228_AE4_ICD10_HOSP', 'G0G1_HOSP_5Y',\n",
       "       'G0G1_HOSP1_INJ', 'G0G1_HOSP1_CAUSE', 'G0G1_HOSP1_TREAT',\n",
       "       'G0G1_HOSP1_TIME', 'G0G1_HOSP1_ICD10', 'G0G1_HOSP2_INJ',\n",
       "       'G0G1_HOSP2_CAUSE', 'G0G1_HOSP2_TREAT', 'G0G1_HOSP2_TIME',\n",
       "       'G0G1_HOSP2_ICD10', 'G0G1_HOSP3_INJ', 'G0G1_HOSP3_CAUSE',\n",
       "       'G0G1_HOSP3_TREAT', 'G0G1_HOSP3_TIME', 'G0G1_HOSP3_ICD10',\n",
       "       'G0G1_HOSP4_INJ', 'G0G1_HOSP4_CAUSE', 'G0G1_HOSP4_TREAT',\n",
       "       'G0G1_HOSP4_TIME', 'G0G1_HOSP4_ICD10', 'G0G1_AE_5Y',\n",
       "       'G0G1_AE1_ICD10_DAT', 'G0G1_AE1_HOSP', 'G0G1_AE1_ICD10_HOSP',\n",
       "       'G0G1_AE1_REA', 'G0G1_AE1_ICD10', 'G0G1_AE2_REA',\n",
       "       'G0G1_AE2_ICD10_DAT', 'G0G1_AE2_HOSP', 'G0G1_AE2_ICD10_HOSP',\n",
       "       'G0G1_AE2_ICD10', 'G0G1_AE3_REA', 'G0G1_AE3_ICD10_DAT',\n",
       "       'G0G1_AE3_HOSP', 'G0G1_AE3_ICD10_HOSP', 'G0G1_AE3_ICD10',\n",
       "       'G0G1_AE4_REA', 'G0G1_AE4_ICD10_DAT', 'G0G1_AE4_HOSP',\n",
       "       'G0G1_AE4_ICD10_HOSP', 'G0G1_AE4_ICD10'], dtype=object)"
      ]
     },
     "execution_count": 4,
     "metadata": {},
     "output_type": "execute_result"
    }
   ],
   "source": [
    "VARS"
   ]
  }
 ],
 "metadata": {
  "kernelspec": {
   "display_name": "my_env",
   "language": "python",
   "name": "python3"
  },
  "language_info": {
   "codemirror_mode": {
    "name": "ipython",
    "version": 3
   },
   "file_extension": ".py",
   "mimetype": "text/x-python",
   "name": "python",
   "nbconvert_exporter": "python",
   "pygments_lexer": "ipython3",
   "version": "3.12.4"
  }
 },
 "nbformat": 4,
 "nbformat_minor": 2
}
