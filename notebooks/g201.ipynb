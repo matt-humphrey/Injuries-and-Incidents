{
 "cells": [
  {
   "cell_type": "markdown",
   "metadata": {},
   "source": [
    "# G201"
   ]
  },
  {
   "cell_type": "markdown",
   "metadata": {},
   "source": [
    "## Set up"
   ]
  },
  {
   "cell_type": "code",
   "execution_count": 1,
   "metadata": {},
   "outputs": [],
   "source": [
    "from fastcore.test import *\n",
    "from fastcore.utils import *\n",
    "import pandas as pd\n",
    "from pandas import DataFrame\n",
    "import numpy as np\n",
    "import pyspssio\n",
    "\n",
    "import raine_tools as rn\n",
    "from data_harmonising.data import *\n",
    "from data_harmonising.transforms import *\n",
    "from data_harmonising.tests import *\n",
    "\n",
    "from src.config import WORKBOOK, SHEETNAME"
   ]
  },
  {
   "cell_type": "code",
   "execution_count": 2,
   "metadata": {},
   "outputs": [],
   "source": [
    "INPUT = \"../data/raw/G201_Quest_PA.sav\"\n",
    "OUTPUT = \"../data/interim/G201_Quest_PA.sav\"\n",
    "FINAL = \"../data/processed/G201_Quest_PA.sav\""
   ]
  },
  {
   "cell_type": "code",
   "execution_count": 3,
   "metadata": {},
   "outputs": [],
   "source": [
    "df, meta = read_sav(INPUT, index=\"ID\")"
   ]
  },
  {
   "cell_type": "markdown",
   "metadata": {},
   "source": [
    "## Data exploration"
   ]
  },
  {
   "cell_type": "markdown",
   "metadata": {},
   "source": [
    "### The strange case of `G201_IF13`"
   ]
  },
  {
   "cell_type": "markdown",
   "metadata": {},
   "source": [
    "Why does `G201_IF13` exist, especially when there's no corresponding `G201_IC13`?  \n",
    "Furthermore, the values don't align with the previous IC? variables."
   ]
  },
  {
   "cell_type": "code",
   "execution_count": 4,
   "metadata": {},
   "outputs": [
    {
     "data": {
      "text/plain": [
       "G201_IF13\n",
       "0.0          2414\n",
       "9.0            27\n",
       "1.0             4\n",
       "2.0             1\n",
       "Name: count, dtype: int64"
      ]
     },
     "execution_count": 4,
     "metadata": {},
     "output_type": "execute_result"
    }
   ],
   "source": [
    "df.loc[:, [\"G201_IF13\"]].value_counts() "
   ]
  },
  {
   "cell_type": "markdown",
   "metadata": {},
   "source": [
    "For all other cases of `G201_IF1` to `G201_IF12`, a 0 means that the incident is related to the incident in the previous IF? variable.  \n",
    "When `G201_IF13` is 0, the majority of cases were N/A, and values range across the board; this doesn't fit with the existing logic."
   ]
  },
  {
   "cell_type": "code",
   "execution_count": 5,
   "metadata": {},
   "outputs": [
    {
     "data": {
      "text/plain": [
       "G201_IF12  G201_IF13\n",
       "88.0       0.0          2404\n",
       "1.0        0.0             6\n",
       "0.0        0.0             2\n",
       "2.0        0.0             1\n",
       "999.0      0.0             1\n",
       "Name: count, dtype: int64"
      ]
     },
     "execution_count": 5,
     "metadata": {},
     "output_type": "execute_result"
    }
   ],
   "source": [
    "df.loc[df[\"G201_IF13\"] == 0, \"G201_IF12\":\"G201_IF13\"].value_counts()"
   ]
  },
  {
   "cell_type": "markdown",
   "metadata": {},
   "source": [
    "At least when `G201_IF13` is missing (9), the previous value was also missing (999)."
   ]
  },
  {
   "cell_type": "code",
   "execution_count": 6,
   "metadata": {},
   "outputs": [
    {
     "data": {
      "text/plain": [
       "G201_IF12  G201_IF13\n",
       "999.0      9.0          27\n",
       "Name: count, dtype: int64"
      ]
     },
     "execution_count": 6,
     "metadata": {},
     "output_type": "execute_result"
    }
   ],
   "source": [
    "df.loc[df[\"G201_IF13\"] == 9, \"G201_IF12\":\"G201_IF13\"].value_counts()"
   ]
  },
  {
   "cell_type": "markdown",
   "metadata": {},
   "source": [
    "Finally, when `G201_IF13` is 1 or 2, the previous values are 0 or 1; this doesn't specifically highlight any errors."
   ]
  },
  {
   "cell_type": "code",
   "execution_count": 7,
   "metadata": {},
   "outputs": [
    {
     "data": {
      "text/plain": [
       "G201_IF12  G201_IF13\n",
       "1.0        1.0          3\n",
       "0.0        1.0          1\n",
       "1.0        2.0          1\n",
       "Name: count, dtype: int64"
      ]
     },
     "execution_count": 7,
     "metadata": {},
     "output_type": "execute_result"
    }
   ],
   "source": [
    "df.loc[df[\"G201_IF13\"].between(1, 2), \"G201_IF12\":\"G201_IF13\"].value_counts()"
   ]
  },
  {
   "cell_type": "markdown",
   "metadata": {},
   "source": [
    "`G201_IF13` does not align with the previous values, and there are clear logical discrepancies.  \n",
    "Given there is no corresponding `G201_IC13` to explain the few instances of a 1 or 2, and the 0s appear to be unreliable, I plan to drop it."
   ]
  },
  {
   "cell_type": "markdown",
   "metadata": {},
   "source": [
    "### Check if there are variables that don't contain data\n",
    "\n",
    "Verify that all columns contain at least one row with data, and drop any that don't."
   ]
  },
  {
   "cell_type": "markdown",
   "metadata": {},
   "source": [
    "`G201_IF12` and `G201_IC12` contain values."
   ]
  },
  {
   "cell_type": "code",
   "execution_count": 8,
   "metadata": {},
   "outputs": [
    {
     "data": {
      "text/plain": [
       "G201_IF12\n",
       "88.0     2404\n",
       "999.0      28\n",
       "1.0        10\n",
       "0.0         3\n",
       "2.0         1\n",
       "Name: count, dtype: int64"
      ]
     },
     "execution_count": 8,
     "metadata": {},
     "output_type": "execute_result"
    }
   ],
   "source": [
    "df[\"G201_IF12\"].value_counts()"
   ]
  },
  {
   "cell_type": "markdown",
   "metadata": {},
   "source": [
    "`G201_INF5` and `G201_INC5` don't contain data: **drop them**."
   ]
  },
  {
   "cell_type": "code",
   "execution_count": 9,
   "metadata": {},
   "outputs": [
    {
     "data": {
      "text/plain": [
       "G201_INF5\n",
       "0.0      2423\n",
       "999.0      23\n",
       "Name: count, dtype: int64"
      ]
     },
     "execution_count": 9,
     "metadata": {},
     "output_type": "execute_result"
    }
   ],
   "source": [
    "df[\"G201_INF5\"].value_counts()"
   ]
  },
  {
   "cell_type": "markdown",
   "metadata": {},
   "source": [
    "`G201_HOH6`, `G201_HOC6`, and `G201_HOF6` contain values."
   ]
  },
  {
   "cell_type": "code",
   "execution_count": 10,
   "metadata": {},
   "outputs": [
    {
     "data": {
      "text/plain": [
       "G201_HOH6\n",
       "0.0      2416\n",
       "999.0      22\n",
       "103.0       6\n",
       "631.0       1\n",
       "104.0       1\n",
       "Name: count, dtype: int64"
      ]
     },
     "execution_count": 10,
     "metadata": {},
     "output_type": "execute_result"
    }
   ],
   "source": [
    "df[\"G201_HOH6\"].value_counts()"
   ]
  },
  {
   "cell_type": "markdown",
   "metadata": {},
   "source": [
    "### Checking that IF? and IC? variables are correctly aligned"
   ]
  },
  {
   "cell_type": "code",
   "execution_count": 11,
   "metadata": {},
   "outputs": [],
   "source": [
    "IF_ROWS = ['G201_IF1', 'G201_IF2', 'G201_IF3', 'G201_IF4', 'G201_IF5', 'G201_IF6',\n",
    "           'G201_IF7', 'G201_IF8', 'G201_IF9', 'G201_IF10', 'G201_IF11', 'G201_IF12']\n",
    "\n",
    "IC_ROWS = ['G201_IC1', 'G201_IC2', 'G201_IC3', 'G201_IC4', 'G201_IC5', 'G201_IC6',\n",
    "           'G201_IC7', 'G201_IC8', 'G201_IC9', 'G201_IC10', 'G201_IC11', 'G201_IC12']"
   ]
  },
  {
   "cell_type": "markdown",
   "metadata": {},
   "source": [
    "If `G201_IC?` is N/A (\"88888\"), the corresponding `G201_IF?` should also be N/A (88).  \n",
    "Else if `G201_IC?` is Missing (\"99999\"), the corresponding `G201_IF?` should also be Missing (999).    \n",
    "Otherwise, the corresponding `G201_IF?` should not be N/A or Missing."
   ]
  },
  {
   "cell_type": "code",
   "execution_count": 12,
   "metadata": {},
   "outputs": [],
   "source": [
    "for n in range(1, 13): \n",
    "    assert (df.loc[df[f\"G201_IC{n}\"] == \"88888\", f\"G201_IF{n}\"] == 88).all()\n",
    "    assert (df.loc[df[f\"G201_IC{n}\"] == \"99999\", f\"G201_IF{n}\"] == 999).all()\n",
    "    assert not df.loc[~df[f\"G201_IC{n}\"].isin([\"88888\", \"99999\"]), f\"G201_IF{n}\"].isin([88, 999]).all()"
   ]
  },
  {
   "cell_type": "markdown",
   "metadata": {},
   "source": [
    "The reverse of this should also be true, such that if `G201_IF?` is N/A, the corresponding `G201_IC?` value should also be N/A, and so on."
   ]
  },
  {
   "cell_type": "code",
   "execution_count": 13,
   "metadata": {},
   "outputs": [],
   "source": [
    "for n in range(1, 13): \n",
    "    assert (df.loc[df[f\"G201_IF{n}\"] == 88, f\"G201_IC{n}\"] == \"88888\").all()\n",
    "    assert (df.loc[df[f\"G201_IF{n}\"] == 999, f\"G201_IC{n}\"] == \"99999\").all()\n",
    "    assert not df.loc[~df[f\"G201_IF{n}\"].isin([88, 999]), f\"G201_IC{n}\"].isin([\"88888\", \"99999\"]).all()"
   ]
  },
  {
   "cell_type": "markdown",
   "metadata": {},
   "source": [
    "If `G201_IF1` is No (0), then remaining `G201_IF?` values should be N/A (88).  \n",
    "However, a single instance of this was located at ID 10080. "
   ]
  },
  {
   "cell_type": "code",
   "execution_count": 14,
   "metadata": {},
   "outputs": [
    {
     "data": {
      "text/html": [
       "<div>\n",
       "<style scoped>\n",
       "    .dataframe tbody tr th:only-of-type {\n",
       "        vertical-align: middle;\n",
       "    }\n",
       "\n",
       "    .dataframe tbody tr th {\n",
       "        vertical-align: top;\n",
       "    }\n",
       "\n",
       "    .dataframe thead th {\n",
       "        text-align: right;\n",
       "    }\n",
       "</style>\n",
       "<table border=\"1\" class=\"dataframe\">\n",
       "  <thead>\n",
       "    <tr style=\"text-align: right;\">\n",
       "      <th></th>\n",
       "      <th>G201_IC1</th>\n",
       "      <th>G201_IC2</th>\n",
       "      <th>G201_IC3</th>\n",
       "      <th>G201_IC4</th>\n",
       "      <th>G201_IC5</th>\n",
       "      <th>G201_IF1</th>\n",
       "      <th>G201_IF2</th>\n",
       "      <th>G201_IF3</th>\n",
       "      <th>G201_IF4</th>\n",
       "      <th>G201_IF5</th>\n",
       "    </tr>\n",
       "    <tr>\n",
       "      <th>ID</th>\n",
       "      <th></th>\n",
       "      <th></th>\n",
       "      <th></th>\n",
       "      <th></th>\n",
       "      <th></th>\n",
       "      <th></th>\n",
       "      <th></th>\n",
       "      <th></th>\n",
       "      <th></th>\n",
       "      <th></th>\n",
       "    </tr>\n",
       "  </thead>\n",
       "  <tbody>\n",
       "    <tr>\n",
       "      <th>10080.0</th>\n",
       "      <td>69100</td>\n",
       "      <td>69290</td>\n",
       "      <td>88888</td>\n",
       "      <td>88888</td>\n",
       "      <td>88888</td>\n",
       "      <td>0.0</td>\n",
       "      <td>1.0</td>\n",
       "      <td>88.0</td>\n",
       "      <td>88.0</td>\n",
       "      <td>88.0</td>\n",
       "    </tr>\n",
       "  </tbody>\n",
       "</table>\n",
       "</div>"
      ],
      "text/plain": [
       "        G201_IC1 G201_IC2 G201_IC3 G201_IC4 G201_IC5  G201_IF1  G201_IF2  \\\n",
       "ID                                                                         \n",
       "10080.0    69100    69290    88888    88888    88888       0.0       1.0   \n",
       "\n",
       "         G201_IF3  G201_IF4  G201_IF5  \n",
       "ID                                     \n",
       "10080.0      88.0      88.0      88.0  "
      ]
     },
     "execution_count": 14,
     "metadata": {},
     "output_type": "execute_result"
    }
   ],
   "source": [
    "df.loc[df[\"G201_IF1\"] == 0].filter(regex=r'I(C|F)[1-5]\\b')"
   ]
  },
  {
   "cell_type": "markdown",
   "metadata": {},
   "source": [
    "For ID 10080, given both conditions are interrelatated (dermatitis), I believe it's likely the participant would have seen the doctor once for both cases.  \n",
    "Therefore, it makes sense to change IF1 to 1 and IF2 to 0."
   ]
  },
  {
   "cell_type": "code",
   "execution_count": 15,
   "metadata": {},
   "outputs": [],
   "source": [
    "idx = [10080]\n",
    "df.loc[idx, \"G201_IF1\"] = 1\n",
    "df.loc[idx, \"G201_IF2\"] = 0"
   ]
  },
  {
   "cell_type": "markdown",
   "metadata": {},
   "source": [
    "Participants with IDs 17890, 19270, and 20370 had missing values in place of N/A values, detected during testing process."
   ]
  },
  {
   "cell_type": "code",
   "execution_count": 16,
   "metadata": {},
   "outputs": [],
   "source": [
    "idx = [17890, 19270, 20370]\n",
    "df.loc[idx, \"G201_IC1\":\"G201_IF12\"] = df.loc[idx, \"G201_IC1\":\"G201_IF12\"].replace({\"99999\": \"88888\", 999: 88})"
   ]
  },
  {
   "cell_type": "code",
   "execution_count": 17,
   "metadata": {},
   "outputs": [],
   "source": [
    "# If any IF or IC value is missing, all others in that row are also missing\n",
    "for index, row in df.iterrows():\n",
    "    if row[IF_ROWS].isin([999]).any():\n",
    "        assert row[IF_ROWS].isin([999]).all(), f\"ID {index}: Not all IF values are missing when one is missing.\"\n",
    "    if row[IC_ROWS].isin(['99999']).any():\n",
    "        assert row[IC_ROWS].isin(['99999']).all(), f\"ID {index}: Not all IC values are missing when one is missing.\""
   ]
  },
  {
   "cell_type": "markdown",
   "metadata": {},
   "source": [
    "ID 11642: two values for IF and IC that follow a N/A value.\n",
    "It appears a couple of cells of data were accidentally copied down a line, for IF3, IF4, IC3 and IC4.\n",
    "\n",
    "ID 23180: one value for IF and IC that follows a N/A value.\n",
    "Given IF4 and IC4 match IF2 and IC2, and there's a N/A value in-between, it seems likely they've been accidentally copied over."
   ]
  },
  {
   "cell_type": "code",
   "execution_count": 18,
   "metadata": {},
   "outputs": [],
   "source": [
    "df.loc[11642, [\"G201_IF3\", \"G201_IF4\"]] = 88\n",
    "df.loc[11642, [\"G201_IC3\", \"G201_IC4\"]] = \"88888\"\n",
    "\n",
    "df.loc[23180, [\"G201_IF4\"]] = 88\n",
    "df.loc[23180, [\"G201_IC4\"]] = \"88888\""
   ]
  },
  {
   "cell_type": "code",
   "execution_count": 19,
   "metadata": {},
   "outputs": [],
   "source": [
    "# If any IF or IC value is N/A, all following values are also N/A\n",
    "for index, row in df.iterrows():\n",
    "    if row[IF_ROWS].isin([88]).any():\n",
    "        assert row[IF_ROWS].loc[row[IF_ROWS].isin([88]).idxmax():].isin([88]).all(), f\"Row {index}: Not all following IF values are N/A.\"\n",
    "    if row[IC_ROWS].isin(['88888']).any():\n",
    "        assert row[IC_ROWS].loc[row[IC_ROWS].isin(['88888']).idxmax():].isin(['88888']).all(), f\"Row {index}: Not all following IC values are N/A.\""
   ]
  },
  {
   "cell_type": "markdown",
   "metadata": {},
   "source": [
    "Finally, confirm that if the first variable for all of `G201_IF1`, `G201_INF1`, and `G201_HOF1` are 88, all subsequent values are 88."
   ]
  },
  {
   "cell_type": "code",
   "execution_count": 20,
   "metadata": {},
   "outputs": [],
   "source": [
    "assert all(df.loc[df[\"G201_IF1\"] == 88, \"G201_IF1\":\"G201_IF12\"] == 88)\n",
    "assert all(df.loc[df[\"G201_INF1\"] == 88, \"G201_INF1\":\"G201_INF5\"] == 88)\n",
    "assert all(df.loc[df[\"G201_HOF1\"] == 88, \"G201_HOF1\":\"G201_HOF6\"] == 88)"
   ]
  },
  {
   "cell_type": "markdown",
   "metadata": {},
   "source": [
    "### Check ICD9 codes"
   ]
  },
  {
   "cell_type": "markdown",
   "metadata": {},
   "source": [
    "Verify all `INC1` codes are either E- or V-codes."
   ]
  },
  {
   "cell_type": "code",
   "execution_count": 21,
   "metadata": {},
   "outputs": [],
   "source": [
    "dfx = df.loc[~df[\"G201_INC1\"].isin([\"88888\", \"99999\"]), \"G201_INC1\"].copy()\n",
    "assert np.all(dfx.str.startswith((\"E\", \"V\")))"
   ]
  },
  {
   "cell_type": "markdown",
   "metadata": {},
   "source": [
    "Verify all cases where no frequency for illness was reported is aligned with no ICD-9 code for that illness being reported.  \n",
    "Do the same for injuries, and hospital admissions."
   ]
  },
  {
   "cell_type": "code",
   "execution_count": 22,
   "metadata": {},
   "outputs": [],
   "source": [
    "test_eq(np.where(df[\"G201_IF1\"] == 88), np.where(df[\"G201_IC1\"] == \"88888\"))\n",
    "# test_eq(np.where(df[\"G201_INF1\"] == 0), np.where(df[\"G201_INC1\"] == \"88888\"))\n",
    "# test_eq(np.where(df[\"G201_HOF1\"] == 0), np.where(df[\"G201_HOC1\"] == \"88888\"))"
   ]
  },
  {
   "cell_type": "markdown",
   "metadata": {},
   "source": [
    "### Hospital Admission Variables"
   ]
  },
  {
   "cell_type": "markdown",
   "metadata": {},
   "source": [
    "The problem is extremely pronounced for hospital admissions.\n",
    "There is a huge range of cases where there is misalignment; the frequency is 0 when there is a valid ICD-9 code and hospital code, and in other instances, there is a frequency of 1 or more when there is no valid ICD-9 code and/or hospital code.\n",
    "Comparing back to a previous, superseded version of the dataset from 2013 shows this data hasn't been changed in that time.\n",
    "Therefore, this is either reflective of the data that was captured, or errors introduced earlier than 2013, meaning they can't be verified.\n",
    "\n",
    "It appears, from investigating the data, that even though it's not been labelled as such, 0s are in some cases used to indicate that there WAS a hospital admission, and it was for multiple ICD-9 codes. \n",
    "I've subsequently tried to identify where 0s simply represented \"N/A\" and have recoded those to 88 (when the corresponding ICD-9 code and hospital code were both not provided)."
   ]
  },
  {
   "cell_type": "code",
   "execution_count": 23,
   "metadata": {},
   "outputs": [
    {
     "name": "stdout",
     "output_type": "stream",
     "text": [
      "         G201_HOF1 G201_HOC1  G201_HOH1\n",
      "ID                                     \n",
      "10060.0        1.0     46610        0.0\n",
      "10180.0        1.0     03390        0.0\n",
      "10210.0        1.0     S4572        0.0\n",
      "10290.0        1.0     S2161        0.0\n",
      "10510.0        1.0     78060        0.0\n",
      "...            ...       ...        ...\n",
      "54350.0        1.0     88888        0.0\n",
      "54360.0        1.0     88888        0.0\n",
      "54400.0        1.0     88888        0.0\n",
      "54530.0        1.0     88888        0.0\n",
      "54540.0        1.0     88888        0.0\n",
      "\n",
      "[164 rows x 3 columns]\n",
      "\n",
      "         G201_HOF2 G201_HOC2  G201_HOH2\n",
      "ID                                     \n",
      "10290.0        0.0     S2830        0.0\n",
      "10610.0        1.0     S2759        0.0\n",
      "10840.0        1.0     51980        0.0\n",
      "11010.0        1.0     78030        0.0\n",
      "11030.0        1.0     78030        0.0\n",
      "...            ...       ...        ...\n",
      "52790.0        1.0     S0943        0.0\n",
      "53380.0        1.0     88888        0.0\n",
      "53630.0        1.0     88888        0.0\n",
      "54062.0        1.0     88888        0.0\n",
      "54220.0        0.0     07990      103.0\n",
      "\n",
      "[96 rows x 3 columns]\n",
      "\n",
      "         G201_HOF3 G201_HOC3  G201_HOH3\n",
      "ID                                     \n",
      "10290.0        0.0     S2001        0.0\n",
      "11060.0        0.0     13300      102.0\n",
      "11220.0        0.0     S0820        0.0\n",
      "15130.0        0.0     S9903      103.0\n",
      "16110.0        0.0     00900      103.0\n",
      "16780.0        0.0     S1698      985.0\n",
      "17420.0        0.0     74550      103.0\n",
      "18530.0        0.0     S3323      103.0\n",
      "20540.0        0.0     30730      631.0\n",
      "22970.0        0.0     S9214      103.0\n",
      "45260.0        0.0     59900      103.0\n",
      "46330.0        0.0     78340      103.0\n",
      "46390.0        0.0     27130      103.0\n",
      "47660.0        0.0     S9023      103.0\n",
      "47850.0        0.0     77460      103.0\n",
      "49270.0        0.0     S3129      103.0\n",
      "49330.0        0.0     38290      103.0\n",
      "49410.0        0.0     S2001      103.0\n",
      "50920.0        0.0     S8717      102.0\n",
      "52640.0        0.0     V7180      102.0\n",
      "54500.0        0.0     78610      103.0\n",
      "\n",
      "         G201_HOF4 G201_HOC4  G201_HOH4\n",
      "ID                                     \n",
      "18740.0        0.0     51980      103.0\n",
      "22910.0        0.0     53010      203.0\n",
      "23840.0        0.0     37230      103.0\n",
      "45260.0        0.0     S4824      103.0\n",
      "46920.0        0.0     25110      103.0\n",
      "47660.0        0.0     59900      103.0\n",
      "47980.0        0.0     53010      102.0\n",
      "50920.0        0.0     S8703      102.0\n",
      "52280.0        0.0     S2759      103.0\n",
      "54500.0        1.0     88888        0.0\n",
      "\n",
      "         G201_HOF5 G201_HOC5  G201_HOH5\n",
      "ID                                     \n",
      "40690.0        0.0     78340      103.0\n",
      "46920.0        0.0     31590      103.0\n",
      "\n",
      "         G201_HOF6 G201_HOC6  G201_HOH6\n",
      "ID                                     \n",
      "40690.0        0.0     27130      103.0\n",
      "46330.0        0.0     55890      103.0\n",
      "54590.0        0.0     37600      103.0\n",
      "\n"
     ]
    }
   ],
   "source": [
    "vars = [\n",
    "    (\"G201_HOF1\", \"G201_HOC1\", \"G201_HOH1\"),\n",
    "    (\"G201_HOF2\", \"G201_HOC2\", \"G201_HOH2\"),\n",
    "    (\"G201_HOF3\", \"G201_HOC3\", \"G201_HOH3\"),\n",
    "    (\"G201_HOF4\", \"G201_HOC4\", \"G201_HOH4\"),\n",
    "    (\"G201_HOF5\", \"G201_HOC5\", \"G201_HOH5\"),\n",
    "    (\"G201_HOF6\", \"G201_HOC6\", \"G201_HOH6\"),\n",
    "]\n",
    "\n",
    "for a, b, c in vars:\n",
    "    m1 = (df[a] == 0) & (df[b] == \"88888\") & (df[c] == 0)\n",
    "    m2 = (df[a] == 0) | (df[b] == \"88888\") | (df[c] == 0)\n",
    "    print(df.loc[~m1 & m2, [a, b, c]])\n",
    "    print(\"\")"
   ]
  },
  {
   "cell_type": "code",
   "execution_count": 24,
   "metadata": {},
   "outputs": [
    {
     "data": {
      "text/html": [
       "<div>\n",
       "<style scoped>\n",
       "    .dataframe tbody tr th:only-of-type {\n",
       "        vertical-align: middle;\n",
       "    }\n",
       "\n",
       "    .dataframe tbody tr th {\n",
       "        vertical-align: top;\n",
       "    }\n",
       "\n",
       "    .dataframe thead th {\n",
       "        text-align: right;\n",
       "    }\n",
       "</style>\n",
       "<table border=\"1\" class=\"dataframe\">\n",
       "  <thead>\n",
       "    <tr style=\"text-align: right;\">\n",
       "      <th></th>\n",
       "      <th>G201_HOF6</th>\n",
       "      <th>G201_HOC6</th>\n",
       "      <th>G201_HOH6</th>\n",
       "    </tr>\n",
       "    <tr>\n",
       "      <th>ID</th>\n",
       "      <th></th>\n",
       "      <th></th>\n",
       "      <th></th>\n",
       "    </tr>\n",
       "  </thead>\n",
       "  <tbody>\n",
       "    <tr>\n",
       "      <th>40690.0</th>\n",
       "      <td>0.0</td>\n",
       "      <td>27130</td>\n",
       "      <td>103.0</td>\n",
       "    </tr>\n",
       "    <tr>\n",
       "      <th>46330.0</th>\n",
       "      <td>0.0</td>\n",
       "      <td>55890</td>\n",
       "      <td>103.0</td>\n",
       "    </tr>\n",
       "    <tr>\n",
       "      <th>54590.0</th>\n",
       "      <td>0.0</td>\n",
       "      <td>37600</td>\n",
       "      <td>103.0</td>\n",
       "    </tr>\n",
       "  </tbody>\n",
       "</table>\n",
       "</div>"
      ],
      "text/plain": [
       "         G201_HOF6 G201_HOC6  G201_HOH6\n",
       "ID                                     \n",
       "40690.0        0.0     27130      103.0\n",
       "46330.0        0.0     55890      103.0\n",
       "54590.0        0.0     37600      103.0"
      ]
     },
     "execution_count": 24,
     "metadata": {},
     "output_type": "execute_result"
    }
   ],
   "source": [
    "# For example, a subset of IDs with the aforementioned problems\n",
    "df.loc[[40690, 46330, 54590], [\"G201_HOF6\", \"G201_HOC6\", \"G201_HOH6\"]]"
   ]
  },
  {
   "cell_type": "markdown",
   "metadata": {},
   "source": [
    "There's a singular example where HOF1 has the value No (0), where there is a corresponding ICD-9 code and hospital code; change the value for HOF1 to Missing (999)."
   ]
  },
  {
   "cell_type": "code",
   "execution_count": 25,
   "metadata": {},
   "outputs": [
    {
     "data": {
      "text/html": [
       "<div>\n",
       "<style scoped>\n",
       "    .dataframe tbody tr th:only-of-type {\n",
       "        vertical-align: middle;\n",
       "    }\n",
       "\n",
       "    .dataframe tbody tr th {\n",
       "        vertical-align: top;\n",
       "    }\n",
       "\n",
       "    .dataframe thead th {\n",
       "        text-align: right;\n",
       "    }\n",
       "</style>\n",
       "<table border=\"1\" class=\"dataframe\">\n",
       "  <thead>\n",
       "    <tr style=\"text-align: right;\">\n",
       "      <th></th>\n",
       "      <th>G201_HOF1</th>\n",
       "      <th>G201_HOC1</th>\n",
       "      <th>G201_HOH1</th>\n",
       "    </tr>\n",
       "    <tr>\n",
       "      <th>ID</th>\n",
       "      <th></th>\n",
       "      <th></th>\n",
       "      <th></th>\n",
       "    </tr>\n",
       "  </thead>\n",
       "  <tbody>\n",
       "    <tr>\n",
       "      <th>42320.0</th>\n",
       "      <td>0.0</td>\n",
       "      <td>S5310</td>\n",
       "      <td>985.0</td>\n",
       "    </tr>\n",
       "  </tbody>\n",
       "</table>\n",
       "</div>"
      ],
      "text/plain": [
       "         G201_HOF1 G201_HOC1  G201_HOH1\n",
       "ID                                     \n",
       "42320.0        0.0     S5310      985.0"
      ]
     },
     "execution_count": 25,
     "metadata": {},
     "output_type": "execute_result"
    }
   ],
   "source": [
    "df.loc[(df[\"G201_HOF1\"] == 0) & ((df[\"G201_HOC1\"] != \"88888\") | (df[\"G201_HOH1\"] != 0)), [\"G201_HOF1\", \"G201_HOC1\", \"G201_HOH1\"]]"
   ]
  },
  {
   "cell_type": "code",
   "execution_count": 26,
   "metadata": {},
   "outputs": [],
   "source": [
    "df.at[42320, \"G201_HOF1\"] = 999"
   ]
  },
  {
   "cell_type": "markdown",
   "metadata": {},
   "source": [
    "The following code identifies where all frequency values (from the second variable onwards) have been recorded as 0, and there is no corresponding ICD-9 code.\n",
    "It then changes those values from 0 to 88. For HOF1, all values of 0 should be classified as N/A, as there are no \"previous visit\" to refer to."
   ]
  },
  {
   "cell_type": "code",
   "execution_count": 27,
   "metadata": {},
   "outputs": [],
   "source": [
    "idx_HOF1 = df.loc[(df[\"G201_HOF1\"] == 0)].index\n",
    "idx_HOF2 = df.loc[(df[\"G201_HOF2\"] == 0) & (df[\"G201_HOC2\"] == \"88888\")].index\n",
    "idx_HOF3 = df.loc[(df[\"G201_HOF3\"] == 0) & (df[\"G201_HOC3\"] == \"88888\")].index\n",
    "idx_HOF4 = df.loc[(df[\"G201_HOF4\"] == 0) & (df[\"G201_HOC4\"] == \"88888\")].index\n",
    "idx_HOF5 = df.loc[(df[\"G201_HOF5\"] == 0) & (df[\"G201_HOC5\"] == \"88888\")].index\n",
    "idx_HOF6 = df.loc[(df[\"G201_HOF6\"] == 0) & (df[\"G201_HOC6\"] == \"88888\")].index\n",
    "\n",
    "idxs = [\n",
    "    (idx_HOF1, \"G201_HOF1\"),\n",
    "    (idx_HOF2, \"G201_HOF2\"), \n",
    "    (idx_HOF3, \"G201_HOF3\"), \n",
    "    (idx_HOF4, \"G201_HOF4\"), \n",
    "    (idx_HOF5, \"G201_HOF5\"), \n",
    "    (idx_HOF6, \"G201_HOF6\")\n",
    "]\n",
    "\n",
    "for idx, var in idxs:\n",
    "    df.loc[idx, var] = 88"
   ]
  },
  {
   "cell_type": "markdown",
   "metadata": {},
   "source": [
    "Recode the hospital codes also, such that if HOH is 0, and there is no valid ICD-9 code, HOH = -88 (N/A), and if there **is** a valid ICD-9 code, HOH = -99 (Missing)."
   ]
  },
  {
   "cell_type": "code",
   "execution_count": 28,
   "metadata": {},
   "outputs": [],
   "source": [
    "idx_HOH1_NA = df.loc[(df[\"G201_HOH1\"] == 0) & (df[\"G201_HOC1\"] == \"88888\"), [\"G201_HOH1\"]].index\n",
    "idx_HOH1_MISS = df.loc[(df[\"G201_HOH1\"] == 0) & (df[\"G201_HOC1\"] != \"88888\"), [\"G201_HOH1\"]].index\n",
    "idx_HOH2_NA = df.loc[(df[\"G201_HOH2\"] == 0) & (df[\"G201_HOC2\"] == \"88888\"), [\"G201_HOH2\"]].index\n",
    "idx_HOH2_MISS = df.loc[(df[\"G201_HOH2\"] == 0) & (df[\"G201_HOC2\"] != \"88888\"), [\"G201_HOH2\"]].index\n",
    "idx_HOH3_NA = df.loc[(df[\"G201_HOH3\"] == 0) & (df[\"G201_HOC3\"] == \"88888\"), [\"G201_HOH3\"]].index\n",
    "idx_HOH3_MISS = df.loc[(df[\"G201_HOH3\"] == 0) & (df[\"G201_HOC3\"] != \"88888\"), [\"G201_HOH3\"]].index\n",
    "idx_HOH4_NA = df.loc[(df[\"G201_HOH4\"] == 0) & (df[\"G201_HOC4\"] == \"88888\"), [\"G201_HOH4\"]].index\n",
    "idx_HOH4_MISS = df.loc[(df[\"G201_HOH4\"] == 0) & (df[\"G201_HOC4\"] != \"88888\"), [\"G201_HOH4\"]].index\n",
    "idx_HOH5_NA = df.loc[(df[\"G201_HOH5\"] == 0) & (df[\"G201_HOC5\"] == \"88888\"), [\"G201_HOH5\"]].index\n",
    "idx_HOH5_MISS = df.loc[(df[\"G201_HOH5\"] == 0) & (df[\"G201_HOC5\"] != \"88888\"), [\"G201_HOH5\"]].index\n",
    "idx_HOH6_NA = df.loc[(df[\"G201_HOH6\"] == 0) & (df[\"G201_HOC6\"] == \"88888\"), [\"G201_HOH6\"]].index\n",
    "idx_HOH6_MISS = df.loc[(df[\"G201_HOH6\"] == 0) & (df[\"G201_HOC6\"] != \"88888\"), [\"G201_HOH6\"]].index\n",
    "\n",
    "idxs = [\n",
    "    (idx_HOH1_NA, idx_HOH1_MISS, \"G201_HOH1\"),\n",
    "    (idx_HOH2_NA, idx_HOH2_MISS, \"G201_HOH2\"),\n",
    "    (idx_HOH3_NA, idx_HOH3_MISS, \"G201_HOH3\"),\n",
    "    (idx_HOH4_NA, idx_HOH4_MISS, \"G201_HOH4\"),\n",
    "    (idx_HOH5_NA, idx_HOH5_MISS, \"G201_HOH5\"),\n",
    "    (idx_HOH6_NA, idx_HOH6_MISS, \"G201_HOH6\"),\n",
    "]\n",
    "\n",
    "for na, miss, var in idxs:\n",
    "    df.loc[na, var] = 88\n",
    "    df.loc[miss, var] = 999"
   ]
  },
  {
   "cell_type": "markdown",
   "metadata": {},
   "source": [
    "### Injury variables"
   ]
  },
  {
   "cell_type": "markdown",
   "metadata": {},
   "source": [
    "There are 29 cases where `G201_IC1` is N/A where `G201_IF1` is not 0; the variables are misaligned.\n",
    "This could be because the IF1 value is incorrect, there have been errors introduced into the data, or perhaps missing data was incorrectly labelled as N/A.\n",
    "Without further information available, this data has been left as is, and is up to researchers to determine how to respond."
   ]
  },
  {
   "cell_type": "code",
   "execution_count": 29,
   "metadata": {},
   "outputs": [
    {
     "name": "stdout",
     "output_type": "stream",
     "text": [
      "         G201_INF1 G201_INC1\n",
      "ID                          \n",
      "21950.0        4.0     88888\n",
      "23570.0        1.0     88888\n",
      "51750.0        1.0     88888\n",
      "52020.0        1.0     88888\n",
      "52031.0        1.0     88888\n",
      "52060.0        2.0     88888\n",
      "52080.0        1.0     88888\n",
      "52120.0        1.0     88888\n",
      "52140.0        1.0     88888\n",
      "52170.0        1.0     88888\n",
      "53200.0        1.0     88888\n",
      "53340.0        1.0     88888\n",
      "53360.0        1.0     88888\n",
      "53450.0        1.0     88888\n",
      "53460.0        1.0     88888\n",
      "53490.0        1.0     88888\n",
      "53500.0        1.0     88888\n",
      "53560.0        1.0     88888\n",
      "53590.0        1.0     88888\n",
      "53600.0        1.0     88888\n",
      "53720.0        1.0     88888\n",
      "53790.0        1.0     88888\n",
      "53880.0        1.0     88888\n",
      "53890.0        1.0     88888\n",
      "54230.0        1.0     88888\n",
      "54250.0        1.0     88888\n",
      "54350.0        2.0     88888\n",
      "54400.0        1.0     88888\n",
      "54470.0        1.0     88888\n",
      "\n",
      "         G201_INF2 G201_INC2\n",
      "ID                          \n",
      "45380.0        0.0     10000\n",
      "51750.0        1.0     88888\n",
      "52060.0        1.0     88888\n",
      "52140.0        1.0     88888\n",
      "53500.0        1.0     88888\n",
      "53890.0        1.0     88888\n",
      "54230.0        1.0     88888\n",
      "54250.0        1.0     88888\n",
      "\n",
      "Empty DataFrame\n",
      "Columns: [G201_INF3, G201_INC3]\n",
      "Index: []\n",
      "\n",
      "Empty DataFrame\n",
      "Columns: [G201_INF4, G201_INC4]\n",
      "Index: []\n",
      "\n",
      "Empty DataFrame\n",
      "Columns: [G201_INF5, G201_INC5]\n",
      "Index: []\n",
      "\n"
     ]
    }
   ],
   "source": [
    "vars = [\n",
    "    (\"G201_INF1\", \"G201_INC1\"),\n",
    "    (\"G201_INF2\", \"G201_INC2\"),\n",
    "    (\"G201_INF3\", \"G201_INC3\"),\n",
    "    (\"G201_INF4\", \"G201_INC4\"),\n",
    "    (\"G201_INF5\", \"G201_INC5\"),\n",
    "]\n",
    "\n",
    "for a, b in vars:\n",
    "    m1 = (df[a] == 0) & (df[b] == \"88888\")\n",
    "    m2 = (df[a] == 0) | (df[b] == \"88888\")\n",
    "    print(df.loc[~m1 & m2, [a, b]])\n",
    "    print(\"\")"
   ]
  },
  {
   "cell_type": "markdown",
   "metadata": {},
   "source": [
    "0s only represent \"N/A\"; convert ALL 0s to 88s."
   ]
  },
  {
   "cell_type": "code",
   "execution_count": 30,
   "metadata": {},
   "outputs": [],
   "source": [
    "idx_INF2 = df.loc[df[\"G201_INF2\"] == 0].index\n",
    "idx_INF1 = df.loc[df[\"G201_INF1\"] == 0].index\n",
    "idx_INF3 = df.loc[df[\"G201_INF3\"] == 0].index\n",
    "idx_INF4 = df.loc[df[\"G201_INF4\"] == 0].index\n",
    "\n",
    "idxs = [\n",
    "    (idx_INF1, \"G201_INF1\"),\n",
    "    (idx_INF2, \"G201_INF2\"),\n",
    "    (idx_INF3, \"G201_INF3\"),\n",
    "    (idx_INF4, \"G201_INF4\"),\n",
    "]\n",
    "\n",
    "for idx, var in idxs:\n",
    "    df.loc[idx, var] = 88"
   ]
  },
  {
   "cell_type": "markdown",
   "metadata": {},
   "source": [
    "## Create, Rename, and Delete Variables"
   ]
  },
  {
   "cell_type": "markdown",
   "metadata": {},
   "source": [
    "### Reading changes from the spreadsheet"
   ]
  },
  {
   "cell_type": "code",
   "execution_count": 31,
   "metadata": {},
   "outputs": [],
   "source": [
    "wb = pd.read_excel(WORKBOOK, sheet_name=SHEETNAME)\n",
    "wb = wb[wb[\"Dataset\"] == \"G201\"]\n",
    "wb['vn_old'] = wb['Dataset'] + '_' + wb['Variable Name']\n",
    "wb['vn_new'] = wb['Dataset'] + '_' + wb['Harmonised Variable Name']"
   ]
  },
  {
   "cell_type": "code",
   "execution_count": 32,
   "metadata": {},
   "outputs": [],
   "source": [
    "var_map = wb[[\"vn_old\", \"vn_new\"]].dropna()\n",
    "var_map = var_map.set_index(\"vn_old\").to_dict()[\"vn_new\"]"
   ]
  },
  {
   "cell_type": "markdown",
   "metadata": {},
   "source": [
    "### Create"
   ]
  },
  {
   "cell_type": "markdown",
   "metadata": {},
   "source": [
    "Create following binary variables (for all cases: in past 12 months that required a visit to hospital)\n",
    "- `G201_ILL`: illnesses or problems (Yes if `G201_IF1` is Yes); \n",
    "- `G201_INJ`: any accidents or injuries (Yes if `G201_INF1` is Yes); and\n",
    "- `G201_HOSP`: admitted to hospital (Yes if `G201_HO1` is Yes)"
   ]
  },
  {
   "cell_type": "code",
   "execution_count": 33,
   "metadata": {},
   "outputs": [],
   "source": [
    "conditions = [\n",
    "    # When the value for the conditional col is Missing (999) set to Missing\n",
    "    {\"condition\": 999, \"value\": -99},\n",
    "    # When value is N/A (88), set to 0 (No)\n",
    "    {\"condition\": 88, \"value\": 0},\n",
    "    # When value is No (0), retain the 0\n",
    "    {\"condition\": 0, \"value\": 0},\n",
    "    # When value is neither No, N/A nor Missing, set to 1 (Yes)\n",
    "    {\"condition\": lambda x: x not in [0, 88, 999], \"value\": 1}\n",
    "]\n",
    "\n",
    "CREATE = [\n",
    "    {\n",
    "        \"target_col\": \"G201_ILL\",\n",
    "        \"condition_col\": \"G201_IF1\",\n",
    "        \"conditions\": conditions\n",
    "    },\n",
    "    {\n",
    "        \"target_col\": \"G201_INJ\",\n",
    "        \"condition_col\": \"G201_INF1\",\n",
    "        \"conditions\": conditions\n",
    "    },\n",
    "    {\n",
    "        \"target_col\": \"G201_HOSP\",\n",
    "        \"condition_col\": \"G201_HOF1\",\n",
    "        \"conditions\": conditions\n",
    "    }\n",
    "]"
   ]
  },
  {
   "cell_type": "code",
   "execution_count": 34,
   "metadata": {},
   "outputs": [],
   "source": [
    "df, meta = create_variables(df, meta, CREATE)"
   ]
  },
  {
   "cell_type": "code",
   "execution_count": 35,
   "metadata": {},
   "outputs": [],
   "source": [
    "# Shift added columns to the same section of the dataset\n",
    "df = reorder_columns(df, [\"G201_ILL\",  \"G201_INJ\", \"G201_HOSP\"], after_column=\"G201_IMPLC\")"
   ]
  },
  {
   "cell_type": "markdown",
   "metadata": {},
   "source": [
    "Test to ensure changes were correctly implemented."
   ]
  },
  {
   "cell_type": "code",
   "execution_count": 36,
   "metadata": {},
   "outputs": [],
   "source": [
    "TEST = {\n",
    "    \"G201_ILL\": \"G201_IF1\", \n",
    "    \"G201_INJ\": \"G201_INF1\",\n",
    "    \"G201_HOSP\": \"G201_HOF1\"\n",
    "}\n",
    "\n",
    "for target_col, condition_col in TEST.items():\n",
    "    assert all(df.loc[~df[condition_col].isin([0, 88, 999]), target_col] == 1) \n",
    "    assert all(df.loc[df[condition_col] == 0, target_col] == 0)\n",
    "    assert all(df.loc[df[condition_col] == 88, target_col] == 0) \n",
    "    assert all(df.loc[df[condition_col] == 999, target_col] == -99) "
   ]
  },
  {
   "cell_type": "markdown",
   "metadata": {},
   "source": [
    "### Delete"
   ]
  },
  {
   "cell_type": "code",
   "execution_count": 37,
   "metadata": {},
   "outputs": [],
   "source": [
    "DELETE = [\n",
    "    \"DOB\", # should not be included in the dataset; captured in Longitudinal Data/Gen2_Ages.sav\n",
    "    \"G201_IF13\",\n",
    "    \"G201_INF5\",\n",
    "    \"G201_INC5\"\n",
    "]"
   ]
  },
  {
   "cell_type": "code",
   "execution_count": 38,
   "metadata": {},
   "outputs": [],
   "source": [
    "df, meta = delete_variables(df, meta, DELETE)"
   ]
  },
  {
   "cell_type": "markdown",
   "metadata": {},
   "source": [
    "### Rename"
   ]
  },
  {
   "cell_type": "code",
   "execution_count": 39,
   "metadata": {},
   "outputs": [],
   "source": [
    "RENAME = {\n",
    "    'G201_IF1': 'G201_ILL_N_1',\n",
    "    'G201_IF2': 'G201_ILL_N_2',\n",
    "    'G201_IF3': 'G201_ILL_N_3',\n",
    "    'G201_IF4': 'G201_ILL_N_4',\n",
    "    'G201_IF5': 'G201_ILL_N_5',\n",
    "    'G201_IF6': 'G201_ILL_N_6',\n",
    "    'G201_IF7': 'G201_ILL_N_7',\n",
    "    'G201_IF8': 'G201_ILL_N_8',\n",
    "    'G201_IF9': 'G201_ILL_N_9',\n",
    "    'G201_IF10': 'G201_ILL_N_10',\n",
    "    'G201_IF11': 'G201_ILL_N_11',\n",
    "    'G201_IF12': 'G201_ILL_N_12',\n",
    "    'G201_IC1': 'G201_ILL_ICD9_1',\n",
    "    'G201_IC2': 'G201_ILL_ICD9_2',\n",
    "    'G201_IC3': 'G201_ILL_ICD9_3',\n",
    "    'G201_IC4': 'G201_ILL_ICD9_4',\n",
    "    'G201_IC5': 'G201_ILL_ICD9_5',\n",
    "    'G201_IC6': 'G201_ILL_ICD9_6',\n",
    "    'G201_IC7': 'G201_ILL_ICD9_7',\n",
    "    'G201_IC8': 'G201_ILL_ICD9_8',\n",
    "    'G201_IC9': 'G201_ILL_ICD9_9',\n",
    "    'G201_IC10': 'G201_ILL_ICD9_10',\n",
    "    'G201_IC11': 'G201_ILL_ICD9_11',\n",
    "    'G201_IC12': 'G201_ILL_ICD9_12',\n",
    "    'G201_INF1': 'G201_INJ_N_1',\n",
    "    'G201_INF2': 'G201_INJ_N_2',\n",
    "    'G201_INF3': 'G201_INJ_N_3',\n",
    "    'G201_INF4': 'G201_INJ_N_4',\n",
    "    'G201_INC1': 'G201_INJ_ICD9_1',\n",
    "    'G201_INC2': 'G201_INJ_ICD9_2',\n",
    "    'G201_INC3': 'G201_INJ_ICD9_3',\n",
    "    'G201_INC4': 'G201_INJ_ICD9_4',\n",
    "    'G201_HOH1': 'G201_HOSP_CODE_1',\n",
    "    'G201_HOH2': 'G201_HOSP_CODE_2',\n",
    "    'G201_HOH3': 'G201_HOSP_CODE_3',\n",
    "    'G201_HOH4': 'G201_HOSP_CODE_4',\n",
    "    'G201_HOH5': 'G201_HOSP_CODE_5',\n",
    "    'G201_HOH6': 'G201_HOSP_CODE_6',\n",
    "    'G201_HOC1': 'G201_HOSP_ICD9_1',\n",
    "    'G201_HOC2': 'G201_HOSP_ICD9_2',\n",
    "    'G201_HOC3': 'G201_HOSP_ICD9_3',\n",
    "    'G201_HOC4': 'G201_HOSP_ICD9_4',\n",
    "    'G201_HOC5': 'G201_HOSP_ICD9_5',\n",
    "    'G201_HOC6': 'G201_HOSP_ICD9_6',\n",
    "    'G201_HOF1': 'G201_HOSP_N_1',\n",
    "    'G201_HOF2': 'G201_HOSP_N_2',\n",
    "    'G201_HOF3': 'G201_HOSP_N_3',\n",
    "    'G201_HOF4': 'G201_HOSP_N_4',\n",
    "    'G201_HOF5': 'G201_HOSP_N_5',\n",
    "    'G201_HOF6': 'G201_HOSP_N_6'\n",
    "}"
   ]
  },
  {
   "cell_type": "code",
   "execution_count": 40,
   "metadata": {},
   "outputs": [],
   "source": [
    "df, meta = rename_variables(df, meta, RENAME)"
   ]
  },
  {
   "cell_type": "markdown",
   "metadata": {},
   "source": [
    "## Harmonise Metadata"
   ]
  },
  {
   "cell_type": "code",
   "execution_count": 41,
   "metadata": {},
   "outputs": [
    {
     "data": {
      "text/html": [
       "<div>\n",
       "<style scoped>\n",
       "    .dataframe tbody tr th:only-of-type {\n",
       "        vertical-align: middle;\n",
       "    }\n",
       "\n",
       "    .dataframe tbody tr th {\n",
       "        vertical-align: top;\n",
       "    }\n",
       "\n",
       "    .dataframe thead th {\n",
       "        text-align: right;\n",
       "    }\n",
       "</style>\n",
       "<table border=\"1\" class=\"dataframe\">\n",
       "  <thead>\n",
       "    <tr style=\"text-align: right;\">\n",
       "      <th></th>\n",
       "      <th>G201_ILL_N_1</th>\n",
       "      <th>G201_ILL_N_2</th>\n",
       "      <th>G201_ILL_N_3</th>\n",
       "      <th>G201_ILL_N_4</th>\n",
       "      <th>G201_ILL_N_5</th>\n",
       "      <th>G201_ILL_N_6</th>\n",
       "      <th>G201_ILL_N_7</th>\n",
       "      <th>G201_ILL_N_8</th>\n",
       "      <th>G201_ILL_N_9</th>\n",
       "      <th>G201_ILL_N_10</th>\n",
       "      <th>...</th>\n",
       "      <th>G201_HOSP_ICD9_3</th>\n",
       "      <th>G201_HOSP_ICD9_4</th>\n",
       "      <th>G201_HOSP_ICD9_5</th>\n",
       "      <th>G201_HOSP_ICD9_6</th>\n",
       "      <th>G201_HOSP_N_1</th>\n",
       "      <th>G201_HOSP_N_2</th>\n",
       "      <th>G201_HOSP_N_3</th>\n",
       "      <th>G201_HOSP_N_4</th>\n",
       "      <th>G201_HOSP_N_5</th>\n",
       "      <th>G201_HOSP_N_6</th>\n",
       "    </tr>\n",
       "  </thead>\n",
       "  <tbody>\n",
       "    <tr>\n",
       "      <th>Label</th>\n",
       "      <td>Illness no.times</td>\n",
       "      <td>Illness no.times</td>\n",
       "      <td>Illness no.times</td>\n",
       "      <td>Illness no.times</td>\n",
       "      <td>Illness no.times</td>\n",
       "      <td>Illness no.times</td>\n",
       "      <td>Illness no.times</td>\n",
       "      <td>Illness no.times</td>\n",
       "      <td>Illness no.times</td>\n",
       "      <td>Illness no.times</td>\n",
       "      <td>...</td>\n",
       "      <td>Hospital ICD-9 code</td>\n",
       "      <td>Hospital ICD-9 code</td>\n",
       "      <td>Hospital ICD-9 code</td>\n",
       "      <td>Hospital ICD-9 code</td>\n",
       "      <td>Hospital Number of times</td>\n",
       "      <td>Hospital Number of times</td>\n",
       "      <td>Hospital Number of times</td>\n",
       "      <td>Hospital Number of times</td>\n",
       "      <td>Hospital Number of times</td>\n",
       "      <td>Hospital Number of times</td>\n",
       "    </tr>\n",
       "    <tr>\n",
       "      <th>Field Values</th>\n",
       "      <td>{999.0: 'missing'}</td>\n",
       "      <td>{0.0: 'Related to previous illnesses', 88.0: '...</td>\n",
       "      <td>{0.0: 'Related to previous illnesses', 88.0: '...</td>\n",
       "      <td>{0.0: 'Related to previous illnesses', 88.0: '...</td>\n",
       "      <td>{0.0: 'Related to previous illnesses', 88.0: '...</td>\n",
       "      <td>{0.0: 'Related to previous illnesses', 88.0: '...</td>\n",
       "      <td>{0.0: 'Related to previous illnesses', 88.0: '...</td>\n",
       "      <td>{0.0: 'Related to previous illnesses', 88.0: '...</td>\n",
       "      <td>{0.0: 'Related to previous illnesses', 88.0: '...</td>\n",
       "      <td>{0.0: 'Related to previous illnesses', 88.0: '...</td>\n",
       "      <td>...</td>\n",
       "      <td>{'99999': 'missing'}</td>\n",
       "      <td>{'99999': 'missing'}</td>\n",
       "      <td>{'99999': 'missing'}</td>\n",
       "      <td>{'99999': 'missing'}</td>\n",
       "      <td>{999.0: 'missing'}</td>\n",
       "      <td>{999.0: 'missing'}</td>\n",
       "      <td>{999.0: 'missing'}</td>\n",
       "      <td>{999.0: 'missing'}</td>\n",
       "      <td>{999.0: 'missing'}</td>\n",
       "      <td>{999.0: 'missing'}</td>\n",
       "    </tr>\n",
       "  </tbody>\n",
       "</table>\n",
       "<p>2 rows × 50 columns</p>\n",
       "</div>"
      ],
      "text/plain": [
       "                    G201_ILL_N_1  \\\n",
       "Label           Illness no.times   \n",
       "Field Values  {999.0: 'missing'}   \n",
       "\n",
       "                                                   G201_ILL_N_2  \\\n",
       "Label                                          Illness no.times   \n",
       "Field Values  {0.0: 'Related to previous illnesses', 88.0: '...   \n",
       "\n",
       "                                                   G201_ILL_N_3  \\\n",
       "Label                                          Illness no.times   \n",
       "Field Values  {0.0: 'Related to previous illnesses', 88.0: '...   \n",
       "\n",
       "                                                   G201_ILL_N_4  \\\n",
       "Label                                          Illness no.times   \n",
       "Field Values  {0.0: 'Related to previous illnesses', 88.0: '...   \n",
       "\n",
       "                                                   G201_ILL_N_5  \\\n",
       "Label                                          Illness no.times   \n",
       "Field Values  {0.0: 'Related to previous illnesses', 88.0: '...   \n",
       "\n",
       "                                                   G201_ILL_N_6  \\\n",
       "Label                                          Illness no.times   \n",
       "Field Values  {0.0: 'Related to previous illnesses', 88.0: '...   \n",
       "\n",
       "                                                   G201_ILL_N_7  \\\n",
       "Label                                          Illness no.times   \n",
       "Field Values  {0.0: 'Related to previous illnesses', 88.0: '...   \n",
       "\n",
       "                                                   G201_ILL_N_8  \\\n",
       "Label                                          Illness no.times   \n",
       "Field Values  {0.0: 'Related to previous illnesses', 88.0: '...   \n",
       "\n",
       "                                                   G201_ILL_N_9  \\\n",
       "Label                                          Illness no.times   \n",
       "Field Values  {0.0: 'Related to previous illnesses', 88.0: '...   \n",
       "\n",
       "                                                  G201_ILL_N_10  ...  \\\n",
       "Label                                          Illness no.times  ...   \n",
       "Field Values  {0.0: 'Related to previous illnesses', 88.0: '...  ...   \n",
       "\n",
       "                  G201_HOSP_ICD9_3      G201_HOSP_ICD9_4  \\\n",
       "Label          Hospital ICD-9 code   Hospital ICD-9 code   \n",
       "Field Values  {'99999': 'missing'}  {'99999': 'missing'}   \n",
       "\n",
       "                  G201_HOSP_ICD9_5      G201_HOSP_ICD9_6  \\\n",
       "Label          Hospital ICD-9 code   Hospital ICD-9 code   \n",
       "Field Values  {'99999': 'missing'}  {'99999': 'missing'}   \n",
       "\n",
       "                         G201_HOSP_N_1             G201_HOSP_N_2  \\\n",
       "Label         Hospital Number of times  Hospital Number of times   \n",
       "Field Values        {999.0: 'missing'}        {999.0: 'missing'}   \n",
       "\n",
       "                         G201_HOSP_N_3             G201_HOSP_N_4  \\\n",
       "Label         Hospital Number of times  Hospital Number of times   \n",
       "Field Values        {999.0: 'missing'}        {999.0: 'missing'}   \n",
       "\n",
       "                         G201_HOSP_N_5             G201_HOSP_N_6  \n",
       "Label         Hospital Number of times  Hospital Number of times  \n",
       "Field Values        {999.0: 'missing'}        {999.0: 'missing'}  \n",
       "\n",
       "[2 rows x 50 columns]"
      ]
     },
     "execution_count": 41,
     "metadata": {},
     "output_type": "execute_result"
    }
   ],
   "source": [
    "cols = list(var_map.values())\n",
    "meta.loc[[\"Label\", \"Field Values\"], cols]"
   ]
  },
  {
   "cell_type": "markdown",
   "metadata": {},
   "source": [
    "Investigate 0s for ILL_N_? INJ_N_? and HOSP_N_?"
   ]
  },
  {
   "cell_type": "markdown",
   "metadata": {},
   "source": [
    "Verify a value of 0 for `ILL_N_2` is not just a missing or N/A value, and contains legitimate data"
   ]
  },
  {
   "cell_type": "code",
   "execution_count": 42,
   "metadata": {},
   "outputs": [],
   "source": [
    "assert ~np.any(df.loc[df['G201_ILL_N_2'] == 0, ['G201_ILL_ICD9_2']] == \"88888\")\n",
    "assert np.all(df.loc[df['G201_ILL_N_2'] == 88, ['G201_ILL_ICD9_2']] == \"88888\")"
   ]
  },
  {
   "cell_type": "markdown",
   "metadata": {},
   "source": [
    "FOR `INJ_N`, 0 appears to refer to N/A in all cases."
   ]
  },
  {
   "cell_type": "code",
   "execution_count": 43,
   "metadata": {},
   "outputs": [
    {
     "data": {
      "text/plain": [
       "G201_INJ_N_1\n",
       "88.0     2045\n",
       "1.0       364\n",
       "999.0      23\n",
       "2.0        10\n",
       "4.0         3\n",
       "3.0         1\n",
       "Name: count, dtype: int64"
      ]
     },
     "execution_count": 43,
     "metadata": {},
     "output_type": "execute_result"
    }
   ],
   "source": [
    "df['G201_INJ_N_1'].value_counts()"
   ]
  },
  {
   "cell_type": "markdown",
   "metadata": {},
   "source": [
    "When `INJ_N_1` != 0 and `INJ_N_2` == 0, the following variables also have a value of 0."
   ]
  },
  {
   "cell_type": "code",
   "execution_count": 44,
   "metadata": {},
   "outputs": [
    {
     "data": {
      "text/plain": [
       "Series([], Name: count, dtype: int64)"
      ]
     },
     "execution_count": 44,
     "metadata": {},
     "output_type": "execute_result"
    }
   ],
   "source": [
    "df.loc[(df['G201_INJ_N_2'] == 0) & (df['G201_INJ_N_1'] != 0), ['G201_INJ_N_1', 'G201_INJ_N_2', 'G201_INJ_N_3', 'G201_INJ_N_4']].value_counts()"
   ]
  },
  {
   "cell_type": "markdown",
   "metadata": {},
   "source": [
    "When `INJ_N_1` != 0 and `INJ_N_2` == 0, all corresponding values for `INJ_ICD9` are \"88888\" (N/A)."
   ]
  },
  {
   "cell_type": "code",
   "execution_count": 45,
   "metadata": {},
   "outputs": [
    {
     "data": {
      "text/plain": [
       "Series([], Name: count, dtype: int64)"
      ]
     },
     "execution_count": 45,
     "metadata": {},
     "output_type": "execute_result"
    }
   ],
   "source": [
    "df.loc[(df['G201_INJ_N_2'] == 0) & (df['G201_INJ_N_1'] != 0), ['G201_INJ_ICD9_2']].value_counts()"
   ]
  },
  {
   "cell_type": "markdown",
   "metadata": {},
   "source": [
    "For `HOSP_N`, "
   ]
  },
  {
   "cell_type": "code",
   "execution_count": 46,
   "metadata": {},
   "outputs": [
    {
     "data": {
      "text/plain": [
       "G201_HOSP_N_1\n",
       "88.0     1957\n",
       "1.0       445\n",
       "999.0      23\n",
       "2.0        16\n",
       "3.0         3\n",
       "4.0         1\n",
       "5.0         1\n",
       "Name: count, dtype: int64"
      ]
     },
     "execution_count": 46,
     "metadata": {},
     "output_type": "execute_result"
    }
   ],
   "source": [
    "df['G201_HOSP_N_1'].value_counts()"
   ]
  },
  {
   "cell_type": "markdown",
   "metadata": {},
   "source": [
    "When HOSP_N_1 == 0, HOSP_ICD9_1 and HOSP_CODE_1 should be Missing or N/A.  \n",
    "However, in one case (ID: 42320), there is a real value for HOSP_ICD9_1 and HOSP_CODE_1.  \n",
    "TODO: Investigate if there was previously a value. If not, recode HOSP_N_1 to Missing."
   ]
  },
  {
   "cell_type": "code",
   "execution_count": 47,
   "metadata": {},
   "outputs": [
    {
     "data": {
      "text/html": [
       "<div>\n",
       "<style scoped>\n",
       "    .dataframe tbody tr th:only-of-type {\n",
       "        vertical-align: middle;\n",
       "    }\n",
       "\n",
       "    .dataframe tbody tr th {\n",
       "        vertical-align: top;\n",
       "    }\n",
       "\n",
       "    .dataframe thead th {\n",
       "        text-align: right;\n",
       "    }\n",
       "</style>\n",
       "<table border=\"1\" class=\"dataframe\">\n",
       "  <thead>\n",
       "    <tr style=\"text-align: right;\">\n",
       "      <th></th>\n",
       "      <th>G201_HOSP_CODE_1</th>\n",
       "    </tr>\n",
       "    <tr>\n",
       "      <th>ID</th>\n",
       "      <th></th>\n",
       "    </tr>\n",
       "  </thead>\n",
       "  <tbody>\n",
       "  </tbody>\n",
       "</table>\n",
       "</div>"
      ],
      "text/plain": [
       "Empty DataFrame\n",
       "Columns: [G201_HOSP_CODE_1]\n",
       "Index: []"
      ]
     },
     "execution_count": 47,
     "metadata": {},
     "output_type": "execute_result"
    }
   ],
   "source": [
    "# assert np.all(df.loc[df['G201_HOSP_N_1'] == 0, [\"G201_HOSP_ICD9_1\"]] == \"88888\")\n",
    "# assert np.all(df.loc[df['G201_HOSP_N_1'] == 0, [\"G201_HOSP_CODE_1\"]] == 0)\n",
    "df.loc[(df['G201_HOSP_N_1'] == 0) & (df[\"G201_HOSP_ICD9_1\"] != \"88888\"), [\"G201_HOSP_ICD9_1\"]]\n",
    "df.loc[(df['G201_HOSP_N_1'] == 0) & (df[\"G201_HOSP_CODE_1\"] != 0), [\"G201_HOSP_CODE_1\"]]"
   ]
  },
  {
   "cell_type": "markdown",
   "metadata": {},
   "source": [
    "When HOSP_N_1 == 0, all subsequent values for HOSP_N_?, HOSP_CODE_?, and HOSP_ICD9_? should be N/A.  \n",
    "TODO: Change these values for HOSP_N and HOSP_CODE to appropriate N/A values."
   ]
  },
  {
   "cell_type": "code",
   "execution_count": 48,
   "metadata": {},
   "outputs": [],
   "source": [
    "HOSP_N = ['G201_HOSP_N_2', 'G201_HOSP_N_3', 'G201_HOSP_N_4', 'G201_HOSP_N_5', 'G201_HOSP_N_6']\n",
    "HOSP_CODE = ['G201_HOSP_CODE_2', 'G201_HOSP_CODE_3', 'G201_HOSP_CODE_4', 'G201_HOSP_CODE_5', 'G201_HOSP_CODE_6']\n",
    "HOSP_ICD9 = ['G201_HOSP_ICD9_2', 'G201_HOSP_ICD9_3', 'G201_HOSP_ICD9_4', 'G201_HOSP_ICD9_5', 'G201_HOSP_ICD9_6']\n",
    "\n",
    "assert np.all(df.loc[(df['G201_HOSP_N_1'] == 0), HOSP_N] == 88)\n",
    "assert np.all(df.loc[(df['G201_HOSP_N_1'] == 0), HOSP_CODE] == 0)\n",
    "assert np.all(df.loc[(df['G201_HOSP_N_1'] == 0), HOSP_ICD9] == \"88888\")"
   ]
  },
  {
   "cell_type": "code",
   "execution_count": 49,
   "metadata": {},
   "outputs": [
    {
     "data": {
      "text/plain": [
       "G201_HOSP_N_1  G201_HOSP_N_2  G201_HOSP_N_3  G201_HOSP_N_4\n",
       "1.0            0.0            88.0           88.0             43\n",
       "                              0.0            88.0              7\n",
       "                              1.0            88.0              7\n",
       "                                             1.0               3\n",
       "                              0.0            0.0               2\n",
       "                                             1.0               2\n",
       "                              1.0            0.0               2\n",
       "                              2.0            88.0              1\n",
       "2.0            0.0            0.0            0.0               1\n",
       "Name: count, dtype: int64"
      ]
     },
     "execution_count": 49,
     "metadata": {},
     "output_type": "execute_result"
    }
   ],
   "source": [
    "df.loc[(df['G201_HOSP_N_2'] == 0) & (df['G201_HOSP_N_1'] != 0), ['G201_HOSP_N_1', 'G201_HOSP_N_2', 'G201_HOSP_N_3', 'G201_HOSP_N_4']].value_counts()"
   ]
  },
  {
   "cell_type": "markdown",
   "metadata": {},
   "source": [
    "For ID: 43600, it appears `HOSP_CODE_2` should be 102.  "
   ]
  },
  {
   "cell_type": "code",
   "execution_count": 50,
   "metadata": {},
   "outputs": [
    {
     "data": {
      "text/html": [
       "<div>\n",
       "<style scoped>\n",
       "    .dataframe tbody tr th:only-of-type {\n",
       "        vertical-align: middle;\n",
       "    }\n",
       "\n",
       "    .dataframe tbody tr th {\n",
       "        vertical-align: top;\n",
       "    }\n",
       "\n",
       "    .dataframe thead th {\n",
       "        text-align: right;\n",
       "    }\n",
       "</style>\n",
       "<table border=\"1\" class=\"dataframe\">\n",
       "  <thead>\n",
       "    <tr style=\"text-align: right;\">\n",
       "      <th></th>\n",
       "      <th>G201_HOSP_CODE_1</th>\n",
       "      <th>G201_HOSP_CODE_2</th>\n",
       "      <th>G201_HOSP_ICD9_1</th>\n",
       "      <th>G201_HOSP_ICD9_2</th>\n",
       "    </tr>\n",
       "    <tr>\n",
       "      <th>ID</th>\n",
       "      <th></th>\n",
       "      <th></th>\n",
       "      <th></th>\n",
       "      <th></th>\n",
       "    </tr>\n",
       "  </thead>\n",
       "  <tbody>\n",
       "    <tr>\n",
       "      <th>11160.0</th>\n",
       "      <td>999.0</td>\n",
       "      <td>999.0</td>\n",
       "      <td>38290</td>\n",
       "      <td>99520</td>\n",
       "    </tr>\n",
       "    <tr>\n",
       "      <th>11800.0</th>\n",
       "      <td>999.0</td>\n",
       "      <td>999.0</td>\n",
       "      <td>78609</td>\n",
       "      <td>00900</td>\n",
       "    </tr>\n",
       "    <tr>\n",
       "      <th>12240.0</th>\n",
       "      <td>103.0</td>\n",
       "      <td>103.0</td>\n",
       "      <td>46610</td>\n",
       "      <td>38290</td>\n",
       "    </tr>\n",
       "    <tr>\n",
       "      <th>12830.0</th>\n",
       "      <td>103.0</td>\n",
       "      <td>999.0</td>\n",
       "      <td>59900</td>\n",
       "      <td>03810</td>\n",
       "    </tr>\n",
       "    <tr>\n",
       "      <th>13900.0</th>\n",
       "      <td>608.0</td>\n",
       "      <td>608.0</td>\n",
       "      <td>S6400</td>\n",
       "      <td>S3998</td>\n",
       "    </tr>\n",
       "    <tr>\n",
       "      <th>13950.0</th>\n",
       "      <td>102.0</td>\n",
       "      <td>102.0</td>\n",
       "      <td>11200</td>\n",
       "      <td>11230</td>\n",
       "    </tr>\n",
       "    <tr>\n",
       "      <th>14460.0</th>\n",
       "      <td>608.0</td>\n",
       "      <td>608.0</td>\n",
       "      <td>S0959</td>\n",
       "      <td>S0944</td>\n",
       "    </tr>\n",
       "    <tr>\n",
       "      <th>15330.0</th>\n",
       "      <td>103.0</td>\n",
       "      <td>103.0</td>\n",
       "      <td>55310</td>\n",
       "      <td>S6250</td>\n",
       "    </tr>\n",
       "    <tr>\n",
       "      <th>16310.0</th>\n",
       "      <td>631.0</td>\n",
       "      <td>631.0</td>\n",
       "      <td>78050</td>\n",
       "      <td>78330</td>\n",
       "    </tr>\n",
       "    <tr>\n",
       "      <th>16650.0</th>\n",
       "      <td>103.0</td>\n",
       "      <td>103.0</td>\n",
       "      <td>S2860</td>\n",
       "      <td>S2199</td>\n",
       "    </tr>\n",
       "    <tr>\n",
       "      <th>16680.0</th>\n",
       "      <td>102.0</td>\n",
       "      <td>102.0</td>\n",
       "      <td>S8875</td>\n",
       "      <td>S8776</td>\n",
       "    </tr>\n",
       "    <tr>\n",
       "      <th>16700.0</th>\n",
       "      <td>103.0</td>\n",
       "      <td>103.0</td>\n",
       "      <td>32290</td>\n",
       "      <td>71105</td>\n",
       "    </tr>\n",
       "    <tr>\n",
       "      <th>16950.0</th>\n",
       "      <td>103.0</td>\n",
       "      <td>103.0</td>\n",
       "      <td>S5311</td>\n",
       "      <td>S6310</td>\n",
       "    </tr>\n",
       "    <tr>\n",
       "      <th>17210.0</th>\n",
       "      <td>103.0</td>\n",
       "      <td>103.0</td>\n",
       "      <td>77400</td>\n",
       "      <td>28220</td>\n",
       "    </tr>\n",
       "    <tr>\n",
       "      <th>17870.0</th>\n",
       "      <td>103.0</td>\n",
       "      <td>103.0</td>\n",
       "      <td>05790</td>\n",
       "      <td>78330</td>\n",
       "    </tr>\n",
       "    <tr>\n",
       "      <th>18430.0</th>\n",
       "      <td>103.0</td>\n",
       "      <td>103.0</td>\n",
       "      <td>78700</td>\n",
       "      <td>78340</td>\n",
       "    </tr>\n",
       "    <tr>\n",
       "      <th>19440.0</th>\n",
       "      <td>103.0</td>\n",
       "      <td>103.0</td>\n",
       "      <td>04790</td>\n",
       "      <td>E9672</td>\n",
       "    </tr>\n",
       "    <tr>\n",
       "      <th>20380.0</th>\n",
       "      <td>103.0</td>\n",
       "      <td>103.0</td>\n",
       "      <td>59900</td>\n",
       "      <td>59370</td>\n",
       "    </tr>\n",
       "    <tr>\n",
       "      <th>20520.0</th>\n",
       "      <td>103.0</td>\n",
       "      <td>103.0</td>\n",
       "      <td>00900</td>\n",
       "      <td>05590</td>\n",
       "    </tr>\n",
       "    <tr>\n",
       "      <th>20670.0</th>\n",
       "      <td>103.0</td>\n",
       "      <td>103.0</td>\n",
       "      <td>34590</td>\n",
       "      <td>69190</td>\n",
       "    </tr>\n",
       "    <tr>\n",
       "      <th>20920.0</th>\n",
       "      <td>631.0</td>\n",
       "      <td>631.0</td>\n",
       "      <td>78330</td>\n",
       "      <td>V6120</td>\n",
       "    </tr>\n",
       "    <tr>\n",
       "      <th>20980.0</th>\n",
       "      <td>103.0</td>\n",
       "      <td>103.0</td>\n",
       "      <td>00900</td>\n",
       "      <td>77080</td>\n",
       "    </tr>\n",
       "    <tr>\n",
       "      <th>21260.0</th>\n",
       "      <td>103.0</td>\n",
       "      <td>103.0</td>\n",
       "      <td>96509</td>\n",
       "      <td>E8502</td>\n",
       "    </tr>\n",
       "    <tr>\n",
       "      <th>22260.0</th>\n",
       "      <td>103.0</td>\n",
       "      <td>103.0</td>\n",
       "      <td>59900</td>\n",
       "      <td>27650</td>\n",
       "    </tr>\n",
       "    <tr>\n",
       "      <th>22830.0</th>\n",
       "      <td>103.0</td>\n",
       "      <td>103.0</td>\n",
       "      <td>48090</td>\n",
       "      <td>00900</td>\n",
       "    </tr>\n",
       "    <tr>\n",
       "      <th>40060.0</th>\n",
       "      <td>999.0</td>\n",
       "      <td>999.0</td>\n",
       "      <td>46610</td>\n",
       "      <td>78609</td>\n",
       "    </tr>\n",
       "    <tr>\n",
       "      <th>40410.0</th>\n",
       "      <td>999.0</td>\n",
       "      <td>999.0</td>\n",
       "      <td>31800</td>\n",
       "      <td>34590</td>\n",
       "    </tr>\n",
       "    <tr>\n",
       "      <th>41330.0</th>\n",
       "      <td>103.0</td>\n",
       "      <td>103.0</td>\n",
       "      <td>59900</td>\n",
       "      <td>59370</td>\n",
       "    </tr>\n",
       "    <tr>\n",
       "      <th>42230.0</th>\n",
       "      <td>277.0</td>\n",
       "      <td>277.0</td>\n",
       "      <td>S0943</td>\n",
       "      <td>E9384</td>\n",
       "    </tr>\n",
       "    <tr>\n",
       "      <th>43250.0</th>\n",
       "      <td>103.0</td>\n",
       "      <td>103.0</td>\n",
       "      <td>59900</td>\n",
       "      <td>59370</td>\n",
       "    </tr>\n",
       "    <tr>\n",
       "      <th>43600.0</th>\n",
       "      <td>102.0</td>\n",
       "      <td>999.0</td>\n",
       "      <td>46600</td>\n",
       "      <td>78609</td>\n",
       "    </tr>\n",
       "    <tr>\n",
       "      <th>44920.0</th>\n",
       "      <td>102.0</td>\n",
       "      <td>102.0</td>\n",
       "      <td>00900</td>\n",
       "      <td>07900</td>\n",
       "    </tr>\n",
       "    <tr>\n",
       "      <th>45750.0</th>\n",
       "      <td>103.0</td>\n",
       "      <td>103.0</td>\n",
       "      <td>34590</td>\n",
       "      <td>51980</td>\n",
       "    </tr>\n",
       "    <tr>\n",
       "      <th>46370.0</th>\n",
       "      <td>103.0</td>\n",
       "      <td>103.0</td>\n",
       "      <td>78060</td>\n",
       "      <td>38290</td>\n",
       "    </tr>\n",
       "    <tr>\n",
       "      <th>46920.0</th>\n",
       "      <td>103.0</td>\n",
       "      <td>103.0</td>\n",
       "      <td>78060</td>\n",
       "      <td>38290</td>\n",
       "    </tr>\n",
       "    <tr>\n",
       "      <th>47550.0</th>\n",
       "      <td>999.0</td>\n",
       "      <td>999.0</td>\n",
       "      <td>46440</td>\n",
       "      <td>46610</td>\n",
       "    </tr>\n",
       "    <tr>\n",
       "      <th>47600.0</th>\n",
       "      <td>999.0</td>\n",
       "      <td>999.0</td>\n",
       "      <td>S2181</td>\n",
       "      <td>V7180</td>\n",
       "    </tr>\n",
       "    <tr>\n",
       "      <th>47840.0</th>\n",
       "      <td>103.0</td>\n",
       "      <td>103.0</td>\n",
       "      <td>59900</td>\n",
       "      <td>59370</td>\n",
       "    </tr>\n",
       "    <tr>\n",
       "      <th>47911.0</th>\n",
       "      <td>999.0</td>\n",
       "      <td>999.0</td>\n",
       "      <td>78609</td>\n",
       "      <td>53010</td>\n",
       "    </tr>\n",
       "    <tr>\n",
       "      <th>47980.0</th>\n",
       "      <td>102.0</td>\n",
       "      <td>102.0</td>\n",
       "      <td>46610</td>\n",
       "      <td>77930</td>\n",
       "    </tr>\n",
       "    <tr>\n",
       "      <th>48110.0</th>\n",
       "      <td>103.0</td>\n",
       "      <td>103.0</td>\n",
       "      <td>E8610</td>\n",
       "      <td>S4413</td>\n",
       "    </tr>\n",
       "    <tr>\n",
       "      <th>48140.0</th>\n",
       "      <td>103.0</td>\n",
       "      <td>103.0</td>\n",
       "      <td>46610</td>\n",
       "      <td>38290</td>\n",
       "    </tr>\n",
       "    <tr>\n",
       "      <th>48360.0</th>\n",
       "      <td>999.0</td>\n",
       "      <td>999.0</td>\n",
       "      <td>46440</td>\n",
       "      <td>46610</td>\n",
       "    </tr>\n",
       "    <tr>\n",
       "      <th>48510.0</th>\n",
       "      <td>102.0</td>\n",
       "      <td>102.0</td>\n",
       "      <td>78030</td>\n",
       "      <td>38290</td>\n",
       "    </tr>\n",
       "    <tr>\n",
       "      <th>49220.0</th>\n",
       "      <td>103.0</td>\n",
       "      <td>103.0</td>\n",
       "      <td>55890</td>\n",
       "      <td>79620</td>\n",
       "    </tr>\n",
       "    <tr>\n",
       "      <th>49310.0</th>\n",
       "      <td>103.0</td>\n",
       "      <td>103.0</td>\n",
       "      <td>77080</td>\n",
       "      <td>75400</td>\n",
       "    </tr>\n",
       "    <tr>\n",
       "      <th>49480.0</th>\n",
       "      <td>999.0</td>\n",
       "      <td>999.0</td>\n",
       "      <td>S5310</td>\n",
       "      <td>S6310</td>\n",
       "    </tr>\n",
       "    <tr>\n",
       "      <th>49500.0</th>\n",
       "      <td>999.0</td>\n",
       "      <td>999.0</td>\n",
       "      <td>33430</td>\n",
       "      <td>S8891</td>\n",
       "    </tr>\n",
       "    <tr>\n",
       "      <th>49530.0</th>\n",
       "      <td>999.0</td>\n",
       "      <td>999.0</td>\n",
       "      <td>49390</td>\n",
       "      <td>49390</td>\n",
       "    </tr>\n",
       "    <tr>\n",
       "      <th>49720.0</th>\n",
       "      <td>999.0</td>\n",
       "      <td>999.0</td>\n",
       "      <td>78030</td>\n",
       "      <td>05780</td>\n",
       "    </tr>\n",
       "    <tr>\n",
       "      <th>50070.0</th>\n",
       "      <td>999.0</td>\n",
       "      <td>999.0</td>\n",
       "      <td>46610</td>\n",
       "      <td>28090</td>\n",
       "    </tr>\n",
       "    <tr>\n",
       "      <th>50110.0</th>\n",
       "      <td>999.0</td>\n",
       "      <td>999.0</td>\n",
       "      <td>07990</td>\n",
       "      <td>S0331</td>\n",
       "    </tr>\n",
       "    <tr>\n",
       "      <th>50370.0</th>\n",
       "      <td>999.0</td>\n",
       "      <td>999.0</td>\n",
       "      <td>51980</td>\n",
       "      <td>69190</td>\n",
       "    </tr>\n",
       "    <tr>\n",
       "      <th>51110.0</th>\n",
       "      <td>999.0</td>\n",
       "      <td>999.0</td>\n",
       "      <td>46610</td>\n",
       "      <td>46440</td>\n",
       "    </tr>\n",
       "    <tr>\n",
       "      <th>52400.0</th>\n",
       "      <td>999.0</td>\n",
       "      <td>999.0</td>\n",
       "      <td>59900</td>\n",
       "      <td>00900</td>\n",
       "    </tr>\n",
       "    <tr>\n",
       "      <th>54220.0</th>\n",
       "      <td>103.0</td>\n",
       "      <td>103.0</td>\n",
       "      <td>S5300</td>\n",
       "      <td>07990</td>\n",
       "    </tr>\n",
       "  </tbody>\n",
       "</table>\n",
       "</div>"
      ],
      "text/plain": [
       "         G201_HOSP_CODE_1  G201_HOSP_CODE_2 G201_HOSP_ICD9_1 G201_HOSP_ICD9_2\n",
       "ID                                                                           \n",
       "11160.0             999.0             999.0            38290            99520\n",
       "11800.0             999.0             999.0            78609            00900\n",
       "12240.0             103.0             103.0            46610            38290\n",
       "12830.0             103.0             999.0            59900            03810\n",
       "13900.0             608.0             608.0            S6400            S3998\n",
       "13950.0             102.0             102.0            11200            11230\n",
       "14460.0             608.0             608.0            S0959            S0944\n",
       "15330.0             103.0             103.0            55310            S6250\n",
       "16310.0             631.0             631.0            78050            78330\n",
       "16650.0             103.0             103.0            S2860            S2199\n",
       "16680.0             102.0             102.0            S8875            S8776\n",
       "16700.0             103.0             103.0            32290            71105\n",
       "16950.0             103.0             103.0            S5311            S6310\n",
       "17210.0             103.0             103.0            77400            28220\n",
       "17870.0             103.0             103.0            05790            78330\n",
       "18430.0             103.0             103.0            78700            78340\n",
       "19440.0             103.0             103.0            04790            E9672\n",
       "20380.0             103.0             103.0            59900            59370\n",
       "20520.0             103.0             103.0            00900            05590\n",
       "20670.0             103.0             103.0            34590            69190\n",
       "20920.0             631.0             631.0            78330            V6120\n",
       "20980.0             103.0             103.0            00900            77080\n",
       "21260.0             103.0             103.0            96509            E8502\n",
       "22260.0             103.0             103.0            59900            27650\n",
       "22830.0             103.0             103.0            48090            00900\n",
       "40060.0             999.0             999.0            46610            78609\n",
       "40410.0             999.0             999.0            31800            34590\n",
       "41330.0             103.0             103.0            59900            59370\n",
       "42230.0             277.0             277.0            S0943            E9384\n",
       "43250.0             103.0             103.0            59900            59370\n",
       "43600.0             102.0             999.0            46600            78609\n",
       "44920.0             102.0             102.0            00900            07900\n",
       "45750.0             103.0             103.0            34590            51980\n",
       "46370.0             103.0             103.0            78060            38290\n",
       "46920.0             103.0             103.0            78060            38290\n",
       "47550.0             999.0             999.0            46440            46610\n",
       "47600.0             999.0             999.0            S2181            V7180\n",
       "47840.0             103.0             103.0            59900            59370\n",
       "47911.0             999.0             999.0            78609            53010\n",
       "47980.0             102.0             102.0            46610            77930\n",
       "48110.0             103.0             103.0            E8610            S4413\n",
       "48140.0             103.0             103.0            46610            38290\n",
       "48360.0             999.0             999.0            46440            46610\n",
       "48510.0             102.0             102.0            78030            38290\n",
       "49220.0             103.0             103.0            55890            79620\n",
       "49310.0             103.0             103.0            77080            75400\n",
       "49480.0             999.0             999.0            S5310            S6310\n",
       "49500.0             999.0             999.0            33430            S8891\n",
       "49530.0             999.0             999.0            49390            49390\n",
       "49720.0             999.0             999.0            78030            05780\n",
       "50070.0             999.0             999.0            46610            28090\n",
       "50110.0             999.0             999.0            07990            S0331\n",
       "50370.0             999.0             999.0            51980            69190\n",
       "51110.0             999.0             999.0            46610            46440\n",
       "52400.0             999.0             999.0            59900            00900\n",
       "54220.0             103.0             103.0            S5300            07990"
      ]
     },
     "execution_count": 50,
     "metadata": {},
     "output_type": "execute_result"
    }
   ],
   "source": [
    "df.loc[(df['G201_HOSP_N_2'] == 0) & (df['G201_HOSP_N_1'] != 0) & (df['G201_HOSP_N_3'] != 0), ['G201_HOSP_CODE_1', 'G201_HOSP_CODE_2', 'G201_HOSP_ICD9_1', 'G201_HOSP_ICD9_2',]]"
   ]
  },
  {
   "cell_type": "markdown",
   "metadata": {},
   "source": [
    "Verify that when `HOSP_N_?` == 0, the corresponding `HOSP_CODE` and `HOSP_ICD9` values are not Missing or N/A, and that `HOSP_CODE` is equal to the previous `HOSP_CODE` value.  \n",
    "TODO: continue fleshing out these tests."
   ]
  },
  {
   "cell_type": "code",
   "execution_count": 51,
   "metadata": {},
   "outputs": [
    {
     "data": {
      "text/html": [
       "<div>\n",
       "<style scoped>\n",
       "    .dataframe tbody tr th:only-of-type {\n",
       "        vertical-align: middle;\n",
       "    }\n",
       "\n",
       "    .dataframe tbody tr th {\n",
       "        vertical-align: top;\n",
       "    }\n",
       "\n",
       "    .dataframe thead th {\n",
       "        text-align: right;\n",
       "    }\n",
       "</style>\n",
       "<table border=\"1\" class=\"dataframe\">\n",
       "  <thead>\n",
       "    <tr style=\"text-align: right;\">\n",
       "      <th></th>\n",
       "      <th>G201_HOSP_CODE_1</th>\n",
       "      <th>G201_HOSP_CODE_2</th>\n",
       "      <th>G201_HOSP_ICD9_1</th>\n",
       "      <th>G201_HOSP_ICD9_2</th>\n",
       "    </tr>\n",
       "    <tr>\n",
       "      <th>ID</th>\n",
       "      <th></th>\n",
       "      <th></th>\n",
       "      <th></th>\n",
       "      <th></th>\n",
       "    </tr>\n",
       "  </thead>\n",
       "  <tbody>\n",
       "    <tr>\n",
       "      <th>10290.0</th>\n",
       "      <td>999.0</td>\n",
       "      <td>999.0</td>\n",
       "      <td>S2161</td>\n",
       "      <td>S2830</td>\n",
       "    </tr>\n",
       "    <tr>\n",
       "      <th>11160.0</th>\n",
       "      <td>999.0</td>\n",
       "      <td>999.0</td>\n",
       "      <td>38290</td>\n",
       "      <td>99520</td>\n",
       "    </tr>\n",
       "    <tr>\n",
       "      <th>11800.0</th>\n",
       "      <td>999.0</td>\n",
       "      <td>999.0</td>\n",
       "      <td>78609</td>\n",
       "      <td>00900</td>\n",
       "    </tr>\n",
       "    <tr>\n",
       "      <th>12240.0</th>\n",
       "      <td>103.0</td>\n",
       "      <td>103.0</td>\n",
       "      <td>46610</td>\n",
       "      <td>38290</td>\n",
       "    </tr>\n",
       "    <tr>\n",
       "      <th>12830.0</th>\n",
       "      <td>103.0</td>\n",
       "      <td>999.0</td>\n",
       "      <td>59900</td>\n",
       "      <td>03810</td>\n",
       "    </tr>\n",
       "    <tr>\n",
       "      <th>...</th>\n",
       "      <td>...</td>\n",
       "      <td>...</td>\n",
       "      <td>...</td>\n",
       "      <td>...</td>\n",
       "    </tr>\n",
       "    <tr>\n",
       "      <th>50370.0</th>\n",
       "      <td>999.0</td>\n",
       "      <td>999.0</td>\n",
       "      <td>51980</td>\n",
       "      <td>69190</td>\n",
       "    </tr>\n",
       "    <tr>\n",
       "      <th>50920.0</th>\n",
       "      <td>102.0</td>\n",
       "      <td>102.0</td>\n",
       "      <td>34990</td>\n",
       "      <td>S8914</td>\n",
       "    </tr>\n",
       "    <tr>\n",
       "      <th>51110.0</th>\n",
       "      <td>999.0</td>\n",
       "      <td>999.0</td>\n",
       "      <td>46610</td>\n",
       "      <td>46440</td>\n",
       "    </tr>\n",
       "    <tr>\n",
       "      <th>52400.0</th>\n",
       "      <td>999.0</td>\n",
       "      <td>999.0</td>\n",
       "      <td>59900</td>\n",
       "      <td>00900</td>\n",
       "    </tr>\n",
       "    <tr>\n",
       "      <th>54220.0</th>\n",
       "      <td>103.0</td>\n",
       "      <td>103.0</td>\n",
       "      <td>S5300</td>\n",
       "      <td>07990</td>\n",
       "    </tr>\n",
       "  </tbody>\n",
       "</table>\n",
       "<p>68 rows × 4 columns</p>\n",
       "</div>"
      ],
      "text/plain": [
       "         G201_HOSP_CODE_1  G201_HOSP_CODE_2 G201_HOSP_ICD9_1 G201_HOSP_ICD9_2\n",
       "ID                                                                           \n",
       "10290.0             999.0             999.0            S2161            S2830\n",
       "11160.0             999.0             999.0            38290            99520\n",
       "11800.0             999.0             999.0            78609            00900\n",
       "12240.0             103.0             103.0            46610            38290\n",
       "12830.0             103.0             999.0            59900            03810\n",
       "...                   ...               ...              ...              ...\n",
       "50370.0             999.0             999.0            51980            69190\n",
       "50920.0             102.0             102.0            34990            S8914\n",
       "51110.0             999.0             999.0            46610            46440\n",
       "52400.0             999.0             999.0            59900            00900\n",
       "54220.0             103.0             103.0            S5300            07990\n",
       "\n",
       "[68 rows x 4 columns]"
      ]
     },
     "execution_count": 51,
     "metadata": {},
     "output_type": "execute_result"
    }
   ],
   "source": [
    "df.loc[(df['G201_HOSP_N_1'] != 0) & (df['G201_HOSP_N_2'] == 0), ['G201_HOSP_CODE_1', 'G201_HOSP_CODE_2', 'G201_HOSP_ICD9_1', 'G201_HOSP_ICD9_2',]]"
   ]
  },
  {
   "cell_type": "markdown",
   "metadata": {},
   "source": [
    "### Update metadata"
   ]
  },
  {
   "cell_type": "code",
   "execution_count": 52,
   "metadata": {},
   "outputs": [],
   "source": [
    "wb[\"Base Variable\"] = (\n",
    "    wb[\"Harmonised Variable Name\"]\n",
    "    .str\n",
    "    .replace(r\"N_([2-9]|1[0-2])\", \"N\", regex=True)\n",
    "    .replace(r\"ICD9_\\d+\", \"ICD9\", regex=True)\n",
    "    .replace(r\"CODE_\\d+\", \"CODE\", regex=True)\n",
    ")\n",
    "m1 = wb[[\"vn_new\", \"Base Variable\"]].rename(columns={\"vn_new\": \"Variable\"})\n",
    "m2 = pd.read_excel(WORKBOOK, sheet_name=\"Harmonised\")\n",
    "\n",
    "updated_metadata = m1.merge(m2, on=\"Base Variable\")\n",
    "updated_metadata = format_metadata_pyspssio(updated_metadata)\n",
    "meta[updated_metadata.columns] = updated_metadata"
   ]
  },
  {
   "cell_type": "markdown",
   "metadata": {},
   "source": [
    "## Save Interim Data"
   ]
  },
  {
   "cell_type": "code",
   "execution_count": 53,
   "metadata": {},
   "outputs": [],
   "source": [
    "write_sav(OUTPUT, df, meta)"
   ]
  },
  {
   "cell_type": "markdown",
   "metadata": {},
   "source": [
    "## Testing and Validating Changes"
   ]
  },
  {
   "cell_type": "code",
   "execution_count": 54,
   "metadata": {},
   "outputs": [],
   "source": [
    "df_old, meta_old = read_sav(INPUT, index=\"ID\")\n",
    "df_new, meta_new = read_sav(OUTPUT, index=\"ID\")"
   ]
  },
  {
   "cell_type": "markdown",
   "metadata": {},
   "source": [
    "### Data"
   ]
  },
  {
   "cell_type": "markdown",
   "metadata": {},
   "source": [
    "Specify the precise changes expected from the updated dataset in terms of recoding."
   ]
  },
  {
   "cell_type": "code",
   "execution_count": 55,
   "metadata": {},
   "outputs": [],
   "source": [
    "# Changes should capture each specific changes; column (variable name), the IDs that are affected, and the corresponding change\n",
    "CHANGES = [\n",
    "    {\n",
    "        \"columns\": [\"G201_ILL_N_1\"],\n",
    "        \"idx\": [10080],\n",
    "        \"value\": 1 \n",
    "    },\n",
    "    {\n",
    "        \"columns\": [\"G201_ILL_N_2\"],\n",
    "        \"idx\": [10080],\n",
    "        \"value\": 0 \n",
    "    },\n",
    "    {\n",
    "        \"columns\": [\"G201_ILL_N_3\", \"G201_ILL_N_4\"],\n",
    "        \"idx\": [11642],\n",
    "        \"value\": 88 \n",
    "    },\n",
    "    {\n",
    "        \"columns\": [\"G201_ILL_ICD9_3\"],\n",
    "        \"idx\": [11642],\n",
    "        \"value\": \"88888\"\n",
    "    },\n",
    "    {\n",
    "        \"columns\": [\"G201_ILL_ICD9_4\"],\n",
    "        \"idx\": [11642],\n",
    "        \"value\": \"88888\"\n",
    "    },\n",
    "    {\n",
    "        \"columns\": [\"G201_ILL_N_4\"],\n",
    "        \"idx\": [23180],\n",
    "        \"value\": 88\n",
    "    },\n",
    "    {\n",
    "        \"columns\": [\"G201_ILL_ICD9_4\"],\n",
    "        \"idx\": [23180],\n",
    "        \"value\": \"88888\"\n",
    "    },\n",
    "    {\n",
    "        \"columns\": ['G201_ILL_ICD9_2', 'G201_ILL_ICD9_3', 'G201_ILL_ICD9_4', 'G201_ILL_ICD9_5', 'G201_ILL_ICD9_6', 'G201_ILL_ICD9_7', 'G201_ILL_ICD9_8', 'G201_ILL_ICD9_9', 'G201_ILL_ICD9_10', 'G201_ILL_ICD9_11', 'G201_ILL_ICD9_12'],\n",
    "        \"idx\": [19270, 17890],\n",
    "        \"value\": \"88888\"\n",
    "    },\n",
    "    {\n",
    "        \"columns\": ['G201_ILL_N_2', 'G201_ILL_N_3', 'G201_ILL_N_4', 'G201_ILL_N_5', 'G201_ILL_N_6', 'G201_ILL_N_7', 'G201_ILL_N_8', 'G201_ILL_N_9', 'G201_ILL_N_10', 'G201_ILL_N_11', 'G201_ILL_N_12'],\n",
    "        \"idx\": [19270, 17890],\n",
    "        \"value\": 88\n",
    "    },\n",
    "    {\n",
    "        \"columns\": ['G201_ILL_ICD9_4', 'G201_ILL_ICD9_5', 'G201_ILL_ICD9_6', 'G201_ILL_ICD9_7', 'G201_ILL_ICD9_8', 'G201_ILL_ICD9_9', 'G201_ILL_ICD9_10', 'G201_ILL_ICD9_11', 'G201_ILL_ICD9_12'],\n",
    "        \"idx\": [20370],\n",
    "        \"value\": \"88888\"\n",
    "    },\n",
    "    {\n",
    "        \"columns\": ['G201_ILL_N_4', 'G201_ILL_N_5', 'G201_ILL_N_6', 'G201_ILL_N_7', 'G201_ILL_N_8', 'G201_ILL_N_9', 'G201_ILL_N_10', 'G201_ILL_N_11', 'G201_ILL_N_12'],\n",
    "        \"idx\": [20370],\n",
    "        \"value\": 88\n",
    "    },\n",
    "    {\n",
    "        \"columns\": [\"G201_HOSP_N_1\"],\n",
    "        \"idx\": [42320],\n",
    "        \"value\": 999\n",
    "    },\n",
    "    {\n",
    "        \"columns\": [\"G201_HOSP_N_1\"],\n",
    "        \"idx\": idx_HOF1,\n",
    "        \"value\": 88\n",
    "    },\n",
    "    {\n",
    "        \"columns\": [\"G201_HOSP_N_2\"],\n",
    "        \"idx\": idx_HOF2,\n",
    "        \"value\": 88\n",
    "    },\n",
    "    {\n",
    "        \"columns\": [\"G201_HOSP_N_3\"],\n",
    "        \"idx\": idx_HOF3,\n",
    "        \"value\": 88\n",
    "    },\n",
    "    {\n",
    "        \"columns\": [\"G201_HOSP_N_4\"],\n",
    "        \"idx\": idx_HOF4,\n",
    "        \"value\": 88\n",
    "    },\n",
    "    {\n",
    "        \"columns\": [\"G201_HOSP_N_5\"],\n",
    "        \"idx\": idx_HOF5,\n",
    "        \"value\": 88\n",
    "    },\n",
    "    {\n",
    "        \"columns\": [\"G201_HOSP_N_6\"],\n",
    "        \"idx\": idx_HOF6,\n",
    "        \"value\": 88\n",
    "    },\n",
    "    {\n",
    "        \"columns\": [\"G201_INJ_N_1\"],\n",
    "        \"idx\": idx_INF1,\n",
    "        \"value\": 88\n",
    "    },\n",
    "    {\n",
    "        \"columns\": [\"G201_INJ_N_2\"],\n",
    "        \"idx\": idx_INF2,\n",
    "        \"value\": 88\n",
    "    },\n",
    "    {\n",
    "        \"columns\": [\"G201_INJ_N_3\"],\n",
    "        \"idx\": idx_INF3,\n",
    "        \"value\": 88\n",
    "    },\n",
    "    {\n",
    "        \"columns\": [\"G201_INJ_N_4\"],\n",
    "        \"idx\": idx_INF4,\n",
    "        \"value\": 88\n",
    "    },\n",
    "    {\n",
    "        \"columns\": [\"G201_HOSP_CODE_1\"],\n",
    "        \"idx\": idx_HOH1_NA,\n",
    "        \"value\": 88\n",
    "    },\n",
    "    {\n",
    "        \"columns\": [\"G201_HOSP_CODE_1\"],\n",
    "        \"idx\": idx_HOH1_MISS,\n",
    "        \"value\": 999\n",
    "    },\n",
    "    {\n",
    "        \"columns\": [\"G201_HOSP_CODE_2\"],\n",
    "        \"idx\": idx_HOH2_NA,\n",
    "        \"value\": 88\n",
    "    },\n",
    "    {\n",
    "        \"columns\": [\"G201_HOSP_CODE_2\"],\n",
    "        \"idx\": idx_HOH2_MISS,\n",
    "        \"value\": 999\n",
    "    },\n",
    "    {\n",
    "        \"columns\": [\"G201_HOSP_CODE_3\"],\n",
    "        \"idx\": idx_HOH3_NA,\n",
    "        \"value\": 88\n",
    "    },\n",
    "    {\n",
    "        \"columns\": [\"G201_HOSP_CODE_3\"],\n",
    "        \"idx\": idx_HOH3_MISS,\n",
    "        \"value\": 999\n",
    "    },\n",
    "    {\n",
    "        \"columns\": [\"G201_HOSP_CODE_4\"],\n",
    "        \"idx\": idx_HOH4_NA,\n",
    "        \"value\": 88\n",
    "    },\n",
    "    {\n",
    "        \"columns\": [\"G201_HOSP_CODE_4\"],\n",
    "        \"idx\": idx_HOH4_MISS,\n",
    "        \"value\": 999\n",
    "    },\n",
    "    {\n",
    "        \"columns\": [\"G201_HOSP_CODE_5\"],\n",
    "        \"idx\": idx_HOH5_NA,\n",
    "        \"value\": 88\n",
    "    },\n",
    "    {\n",
    "        \"columns\": [\"G201_HOSP_CODE_5\"],\n",
    "        \"idx\": idx_HOH5_MISS,\n",
    "        \"value\": 999\n",
    "    },\n",
    "    {\n",
    "        \"columns\": [\"G201_HOSP_CODE_6\"],\n",
    "        \"idx\": idx_HOH6_NA,\n",
    "        \"value\": 88\n",
    "    },\n",
    "    {\n",
    "        \"columns\": [\"G201_HOSP_CODE_6\"],\n",
    "        \"idx\": idx_HOH6_MISS,\n",
    "        \"value\": 999\n",
    "    },\n",
    "]"
   ]
  },
  {
   "cell_type": "code",
   "execution_count": 56,
   "metadata": {},
   "outputs": [],
   "source": [
    "run_full_test_suite(df_new, df_old, CREATE, RENAME, DELETE, CHANGES)"
   ]
  },
  {
   "cell_type": "markdown",
   "metadata": {},
   "source": [
    "### Metadata"
   ]
  },
  {
   "cell_type": "markdown",
   "metadata": {},
   "source": [
    "Verify metadata for all unchanged variables (those not harmonised, and not intentionally removed), remains the same."
   ]
  },
  {
   "cell_type": "code",
   "execution_count": 57,
   "metadata": {},
   "outputs": [],
   "source": [
    "changed_variables = wb[\"vn_old\"].dropna().to_list()\n",
    "unchanged_variables = list(set(df_old.columns) - set(changed_variables))\n",
    "unchanged_variables = [col for col in unchanged_variables if col not in DELETE]"
   ]
  },
  {
   "cell_type": "code",
   "execution_count": 58,
   "metadata": {},
   "outputs": [],
   "source": [
    "pd.testing.assert_frame_equal(meta_new[unchanged_variables], meta_old[unchanged_variables])"
   ]
  },
  {
   "cell_type": "markdown",
   "metadata": {},
   "source": [
    "Verify all harmonised variables (and those newly created) contain valid metadata."
   ]
  },
  {
   "cell_type": "code",
   "execution_count": 59,
   "metadata": {},
   "outputs": [],
   "source": [
    "harmonised_variables = wb[\"vn_new\"].dropna().to_list()"
   ]
  },
  {
   "cell_type": "code",
   "execution_count": 60,
   "metadata": {},
   "outputs": [
    {
     "data": {
      "text/html": [
       "<div>\n",
       "<style scoped>\n",
       "    .dataframe tbody tr th:only-of-type {\n",
       "        vertical-align: middle;\n",
       "    }\n",
       "\n",
       "    .dataframe tbody tr th {\n",
       "        vertical-align: top;\n",
       "    }\n",
       "\n",
       "    .dataframe thead th {\n",
       "        text-align: right;\n",
       "    }\n",
       "</style>\n",
       "<table border=\"1\" class=\"dataframe\">\n",
       "  <thead>\n",
       "    <tr style=\"text-align: right;\">\n",
       "      <th></th>\n",
       "      <th>G201_ILL_N_1</th>\n",
       "      <th>G201_ILL_N_2</th>\n",
       "      <th>G201_ILL_N_3</th>\n",
       "      <th>G201_ILL_N_4</th>\n",
       "      <th>G201_ILL_N_5</th>\n",
       "      <th>G201_ILL_N_6</th>\n",
       "      <th>G201_ILL_N_7</th>\n",
       "      <th>G201_ILL_N_8</th>\n",
       "      <th>G201_ILL_N_9</th>\n",
       "      <th>G201_ILL_N_10</th>\n",
       "      <th>...</th>\n",
       "      <th>G201_HOSP_ICD9_6</th>\n",
       "      <th>G201_HOSP_N_1</th>\n",
       "      <th>G201_HOSP_N_2</th>\n",
       "      <th>G201_HOSP_N_3</th>\n",
       "      <th>G201_HOSP_N_4</th>\n",
       "      <th>G201_HOSP_N_5</th>\n",
       "      <th>G201_HOSP_N_6</th>\n",
       "      <th>G201_ILL</th>\n",
       "      <th>G201_INJ</th>\n",
       "      <th>G201_HOSP</th>\n",
       "    </tr>\n",
       "  </thead>\n",
       "  <tbody>\n",
       "    <tr>\n",
       "      <th>Label</th>\n",
       "      <td>Number of visits to hospital, doctor, or clini...</td>\n",
       "      <td>Number of visits to hospital, doctor, or clini...</td>\n",
       "      <td>Number of visits to hospital, doctor, or clini...</td>\n",
       "      <td>Number of visits to hospital, doctor, or clini...</td>\n",
       "      <td>Number of visits to hospital, doctor, or clini...</td>\n",
       "      <td>Number of visits to hospital, doctor, or clini...</td>\n",
       "      <td>Number of visits to hospital, doctor, or clini...</td>\n",
       "      <td>Number of visits to hospital, doctor, or clini...</td>\n",
       "      <td>Number of visits to hospital, doctor, or clini...</td>\n",
       "      <td>Number of visits to hospital, doctor, or clini...</td>\n",
       "      <td>...</td>\n",
       "      <td>ICD-9 code for hospital admission</td>\n",
       "      <td>Number of visits to hospital</td>\n",
       "      <td>Number of visits to hospital</td>\n",
       "      <td>Number of visits to hospital</td>\n",
       "      <td>Number of visits to hospital</td>\n",
       "      <td>Number of visits to hospital</td>\n",
       "      <td>Number of visits to hospital</td>\n",
       "      <td>Illness requiring a visit to hospital, doctor,...</td>\n",
       "      <td>Injury requiring a visit to hospital, doctor, ...</td>\n",
       "      <td>Admitted to hospital since last follow-up</td>\n",
       "    </tr>\n",
       "    <tr>\n",
       "      <th>Field Type</th>\n",
       "      <td>F3.0</td>\n",
       "      <td>F3.0</td>\n",
       "      <td>F3.0</td>\n",
       "      <td>F3.0</td>\n",
       "      <td>F3.0</td>\n",
       "      <td>F3.0</td>\n",
       "      <td>F3.0</td>\n",
       "      <td>F3.0</td>\n",
       "      <td>F3.0</td>\n",
       "      <td>F3.0</td>\n",
       "      <td>...</td>\n",
       "      <td>A5</td>\n",
       "      <td>F3.0</td>\n",
       "      <td>F3.0</td>\n",
       "      <td>F3.0</td>\n",
       "      <td>F3.0</td>\n",
       "      <td>F3.0</td>\n",
       "      <td>F3.0</td>\n",
       "      <td>F3.0</td>\n",
       "      <td>F3.0</td>\n",
       "      <td>F3.0</td>\n",
       "    </tr>\n",
       "    <tr>\n",
       "      <th>Field Width</th>\n",
       "      <td>3</td>\n",
       "      <td>3</td>\n",
       "      <td>3</td>\n",
       "      <td>3</td>\n",
       "      <td>3</td>\n",
       "      <td>3</td>\n",
       "      <td>3</td>\n",
       "      <td>3</td>\n",
       "      <td>3</td>\n",
       "      <td>3</td>\n",
       "      <td>...</td>\n",
       "      <td>7</td>\n",
       "      <td>3</td>\n",
       "      <td>3</td>\n",
       "      <td>3</td>\n",
       "      <td>3</td>\n",
       "      <td>3</td>\n",
       "      <td>3</td>\n",
       "      <td>3</td>\n",
       "      <td>3</td>\n",
       "      <td>3</td>\n",
       "    </tr>\n",
       "    <tr>\n",
       "      <th>Decimals</th>\n",
       "      <td>0</td>\n",
       "      <td>0</td>\n",
       "      <td>0</td>\n",
       "      <td>0</td>\n",
       "      <td>0</td>\n",
       "      <td>0</td>\n",
       "      <td>0</td>\n",
       "      <td>0</td>\n",
       "      <td>0</td>\n",
       "      <td>0</td>\n",
       "      <td>...</td>\n",
       "      <td>0</td>\n",
       "      <td>0</td>\n",
       "      <td>0</td>\n",
       "      <td>0</td>\n",
       "      <td>0</td>\n",
       "      <td>0</td>\n",
       "      <td>0</td>\n",
       "      <td>0</td>\n",
       "      <td>0</td>\n",
       "      <td>0</td>\n",
       "    </tr>\n",
       "    <tr>\n",
       "      <th>Variable Type</th>\n",
       "      <td>scale</td>\n",
       "      <td>scale</td>\n",
       "      <td>scale</td>\n",
       "      <td>scale</td>\n",
       "      <td>scale</td>\n",
       "      <td>scale</td>\n",
       "      <td>scale</td>\n",
       "      <td>scale</td>\n",
       "      <td>scale</td>\n",
       "      <td>scale</td>\n",
       "      <td>...</td>\n",
       "      <td>nominal</td>\n",
       "      <td>scale</td>\n",
       "      <td>scale</td>\n",
       "      <td>scale</td>\n",
       "      <td>scale</td>\n",
       "      <td>scale</td>\n",
       "      <td>scale</td>\n",
       "      <td>nominal</td>\n",
       "      <td>nominal</td>\n",
       "      <td>nominal</td>\n",
       "    </tr>\n",
       "    <tr>\n",
       "      <th>Field Values</th>\n",
       "      <td>{-99.0: 'Missing', -88.0: 'N/A'}</td>\n",
       "      <td>{-99.0: 'Missing', -88.0: 'N/A', 0.0: 'Same vi...</td>\n",
       "      <td>{-99.0: 'Missing', -88.0: 'N/A', 0.0: 'Same vi...</td>\n",
       "      <td>{-99.0: 'Missing', -88.0: 'N/A', 0.0: 'Same vi...</td>\n",
       "      <td>{-99.0: 'Missing', -88.0: 'N/A', 0.0: 'Same vi...</td>\n",
       "      <td>{-99.0: 'Missing', -88.0: 'N/A', 0.0: 'Same vi...</td>\n",
       "      <td>{-99.0: 'Missing', -88.0: 'N/A', 0.0: 'Same vi...</td>\n",
       "      <td>{-99.0: 'Missing', -88.0: 'N/A', 0.0: 'Same vi...</td>\n",
       "      <td>{-99.0: 'Missing', -88.0: 'N/A', 0.0: 'Same vi...</td>\n",
       "      <td>{-99.0: 'Missing', -88.0: 'N/A', 0.0: 'Same vi...</td>\n",
       "      <td>...</td>\n",
       "      <td>NaN</td>\n",
       "      <td>{-99.0: 'Missing', -88.0: 'N/A'}</td>\n",
       "      <td>{-99.0: 'Missing', -88.0: 'N/A', 0.0: 'Same vi...</td>\n",
       "      <td>{-99.0: 'Missing', -88.0: 'N/A', 0.0: 'Same vi...</td>\n",
       "      <td>{-99.0: 'Missing', -88.0: 'N/A', 0.0: 'Same vi...</td>\n",
       "      <td>{-99.0: 'Missing', -88.0: 'N/A', 0.0: 'Same vi...</td>\n",
       "      <td>{-99.0: 'Missing', -88.0: 'N/A', 0.0: 'Same vi...</td>\n",
       "      <td>{-99.0: 'Missing', 0.0: 'No', 1.0: 'Yes'}</td>\n",
       "      <td>{-99.0: 'Missing', 0.0: 'No', 1.0: 'Yes'}</td>\n",
       "      <td>{-99.0: 'Missing', 0.0: 'No', 1.0: 'Yes'}</td>\n",
       "    </tr>\n",
       "  </tbody>\n",
       "</table>\n",
       "<p>6 rows × 53 columns</p>\n",
       "</div>"
      ],
      "text/plain": [
       "                                                    G201_ILL_N_1  \\\n",
       "Label          Number of visits to hospital, doctor, or clini...   \n",
       "Field Type                                                  F3.0   \n",
       "Field Width                                                    3   \n",
       "Decimals                                                       0   \n",
       "Variable Type                                              scale   \n",
       "Field Values                    {-99.0: 'Missing', -88.0: 'N/A'}   \n",
       "\n",
       "                                                    G201_ILL_N_2  \\\n",
       "Label          Number of visits to hospital, doctor, or clini...   \n",
       "Field Type                                                  F3.0   \n",
       "Field Width                                                    3   \n",
       "Decimals                                                       0   \n",
       "Variable Type                                              scale   \n",
       "Field Values   {-99.0: 'Missing', -88.0: 'N/A', 0.0: 'Same vi...   \n",
       "\n",
       "                                                    G201_ILL_N_3  \\\n",
       "Label          Number of visits to hospital, doctor, or clini...   \n",
       "Field Type                                                  F3.0   \n",
       "Field Width                                                    3   \n",
       "Decimals                                                       0   \n",
       "Variable Type                                              scale   \n",
       "Field Values   {-99.0: 'Missing', -88.0: 'N/A', 0.0: 'Same vi...   \n",
       "\n",
       "                                                    G201_ILL_N_4  \\\n",
       "Label          Number of visits to hospital, doctor, or clini...   \n",
       "Field Type                                                  F3.0   \n",
       "Field Width                                                    3   \n",
       "Decimals                                                       0   \n",
       "Variable Type                                              scale   \n",
       "Field Values   {-99.0: 'Missing', -88.0: 'N/A', 0.0: 'Same vi...   \n",
       "\n",
       "                                                    G201_ILL_N_5  \\\n",
       "Label          Number of visits to hospital, doctor, or clini...   \n",
       "Field Type                                                  F3.0   \n",
       "Field Width                                                    3   \n",
       "Decimals                                                       0   \n",
       "Variable Type                                              scale   \n",
       "Field Values   {-99.0: 'Missing', -88.0: 'N/A', 0.0: 'Same vi...   \n",
       "\n",
       "                                                    G201_ILL_N_6  \\\n",
       "Label          Number of visits to hospital, doctor, or clini...   \n",
       "Field Type                                                  F3.0   \n",
       "Field Width                                                    3   \n",
       "Decimals                                                       0   \n",
       "Variable Type                                              scale   \n",
       "Field Values   {-99.0: 'Missing', -88.0: 'N/A', 0.0: 'Same vi...   \n",
       "\n",
       "                                                    G201_ILL_N_7  \\\n",
       "Label          Number of visits to hospital, doctor, or clini...   \n",
       "Field Type                                                  F3.0   \n",
       "Field Width                                                    3   \n",
       "Decimals                                                       0   \n",
       "Variable Type                                              scale   \n",
       "Field Values   {-99.0: 'Missing', -88.0: 'N/A', 0.0: 'Same vi...   \n",
       "\n",
       "                                                    G201_ILL_N_8  \\\n",
       "Label          Number of visits to hospital, doctor, or clini...   \n",
       "Field Type                                                  F3.0   \n",
       "Field Width                                                    3   \n",
       "Decimals                                                       0   \n",
       "Variable Type                                              scale   \n",
       "Field Values   {-99.0: 'Missing', -88.0: 'N/A', 0.0: 'Same vi...   \n",
       "\n",
       "                                                    G201_ILL_N_9  \\\n",
       "Label          Number of visits to hospital, doctor, or clini...   \n",
       "Field Type                                                  F3.0   \n",
       "Field Width                                                    3   \n",
       "Decimals                                                       0   \n",
       "Variable Type                                              scale   \n",
       "Field Values   {-99.0: 'Missing', -88.0: 'N/A', 0.0: 'Same vi...   \n",
       "\n",
       "                                                   G201_ILL_N_10  ...  \\\n",
       "Label          Number of visits to hospital, doctor, or clini...  ...   \n",
       "Field Type                                                  F3.0  ...   \n",
       "Field Width                                                    3  ...   \n",
       "Decimals                                                       0  ...   \n",
       "Variable Type                                              scale  ...   \n",
       "Field Values   {-99.0: 'Missing', -88.0: 'N/A', 0.0: 'Same vi...  ...   \n",
       "\n",
       "                                G201_HOSP_ICD9_6  \\\n",
       "Label          ICD-9 code for hospital admission   \n",
       "Field Type                                    A5   \n",
       "Field Width                                    7   \n",
       "Decimals                                       0   \n",
       "Variable Type                            nominal   \n",
       "Field Values                                 NaN   \n",
       "\n",
       "                                  G201_HOSP_N_1  \\\n",
       "Label              Number of visits to hospital   \n",
       "Field Type                                 F3.0   \n",
       "Field Width                                   3   \n",
       "Decimals                                      0   \n",
       "Variable Type                             scale   \n",
       "Field Values   {-99.0: 'Missing', -88.0: 'N/A'}   \n",
       "\n",
       "                                                   G201_HOSP_N_2  \\\n",
       "Label                               Number of visits to hospital   \n",
       "Field Type                                                  F3.0   \n",
       "Field Width                                                    3   \n",
       "Decimals                                                       0   \n",
       "Variable Type                                              scale   \n",
       "Field Values   {-99.0: 'Missing', -88.0: 'N/A', 0.0: 'Same vi...   \n",
       "\n",
       "                                                   G201_HOSP_N_3  \\\n",
       "Label                               Number of visits to hospital   \n",
       "Field Type                                                  F3.0   \n",
       "Field Width                                                    3   \n",
       "Decimals                                                       0   \n",
       "Variable Type                                              scale   \n",
       "Field Values   {-99.0: 'Missing', -88.0: 'N/A', 0.0: 'Same vi...   \n",
       "\n",
       "                                                   G201_HOSP_N_4  \\\n",
       "Label                               Number of visits to hospital   \n",
       "Field Type                                                  F3.0   \n",
       "Field Width                                                    3   \n",
       "Decimals                                                       0   \n",
       "Variable Type                                              scale   \n",
       "Field Values   {-99.0: 'Missing', -88.0: 'N/A', 0.0: 'Same vi...   \n",
       "\n",
       "                                                   G201_HOSP_N_5  \\\n",
       "Label                               Number of visits to hospital   \n",
       "Field Type                                                  F3.0   \n",
       "Field Width                                                    3   \n",
       "Decimals                                                       0   \n",
       "Variable Type                                              scale   \n",
       "Field Values   {-99.0: 'Missing', -88.0: 'N/A', 0.0: 'Same vi...   \n",
       "\n",
       "                                                   G201_HOSP_N_6  \\\n",
       "Label                               Number of visits to hospital   \n",
       "Field Type                                                  F3.0   \n",
       "Field Width                                                    3   \n",
       "Decimals                                                       0   \n",
       "Variable Type                                              scale   \n",
       "Field Values   {-99.0: 'Missing', -88.0: 'N/A', 0.0: 'Same vi...   \n",
       "\n",
       "                                                        G201_ILL  \\\n",
       "Label          Illness requiring a visit to hospital, doctor,...   \n",
       "Field Type                                                  F3.0   \n",
       "Field Width                                                    3   \n",
       "Decimals                                                       0   \n",
       "Variable Type                                            nominal   \n",
       "Field Values           {-99.0: 'Missing', 0.0: 'No', 1.0: 'Yes'}   \n",
       "\n",
       "                                                        G201_INJ  \\\n",
       "Label          Injury requiring a visit to hospital, doctor, ...   \n",
       "Field Type                                                  F3.0   \n",
       "Field Width                                                    3   \n",
       "Decimals                                                       0   \n",
       "Variable Type                                            nominal   \n",
       "Field Values           {-99.0: 'Missing', 0.0: 'No', 1.0: 'Yes'}   \n",
       "\n",
       "                                               G201_HOSP  \n",
       "Label          Admitted to hospital since last follow-up  \n",
       "Field Type                                          F3.0  \n",
       "Field Width                                            3  \n",
       "Decimals                                               0  \n",
       "Variable Type                                    nominal  \n",
       "Field Values   {-99.0: 'Missing', 0.0: 'No', 1.0: 'Yes'}  \n",
       "\n",
       "[6 rows x 53 columns]"
      ]
     },
     "execution_count": 60,
     "metadata": {},
     "output_type": "execute_result"
    }
   ],
   "source": [
    "meta_new[harmonised_variables]"
   ]
  },
  {
   "cell_type": "markdown",
   "metadata": {},
   "source": [
    "## Recoding Missing and N/A values"
   ]
  },
  {
   "cell_type": "code",
   "execution_count": 61,
   "metadata": {},
   "outputs": [],
   "source": [
    "# Outline all variables to be changed, what the original Missing and N/A values were, and what to change them to\n",
    "\n",
    "ILL_N = ['G201_ILL_N_1', 'G201_ILL_N_2', 'G201_ILL_N_3', 'G201_ILL_N_4', 'G201_ILL_N_5', 'G201_ILL_N_6', 'G201_ILL_N_7', 'G201_ILL_N_8', 'G201_ILL_N_9', 'G201_ILL_N_10', 'G201_ILL_N_11', 'G201_ILL_N_12']\n",
    "INJ_N = ['G201_INJ_N_1', 'G201_INJ_N_2', 'G201_INJ_N_3', 'G201_INJ_N_4']\n",
    "HOSP_N = ['G201_HOSP_N_1', 'G201_HOSP_N_2', 'G201_HOSP_N_3', 'G201_HOSP_N_4', 'G201_HOSP_N_5', 'G201_HOSP_N_6']\n",
    "HOSP_CODE = ['G201_HOSP_CODE_1', 'G201_HOSP_CODE_2', 'G201_HOSP_CODE_3', 'G201_HOSP_CODE_4', 'G201_HOSP_CODE_5', 'G201_HOSP_CODE_6']\n",
    "\n",
    "ILL_ICD9 = ['G201_ILL_ICD9_1', 'G201_ILL_ICD9_2', 'G201_ILL_ICD9_3', 'G201_ILL_ICD9_4', 'G201_ILL_ICD9_5', 'G201_ILL_ICD9_6', 'G201_ILL_ICD9_7', 'G201_ILL_ICD9_8', 'G201_ILL_ICD9_9', 'G201_ILL_ICD9_10', 'G201_ILL_ICD9_11', 'G201_ILL_ICD9_12']\n",
    "INJ_ICD9 = ['G201_INJ_ICD9_1', 'G201_INJ_ICD9_2', 'G201_INJ_ICD9_3', 'G201_INJ_ICD9_4']\n",
    "HOSP_ICD9 = ['G201_HOSP_ICD9_1', 'G201_HOSP_ICD9_2', 'G201_HOSP_ICD9_3', 'G201_HOSP_ICD9_4', 'G201_HOSP_ICD9_5', 'G201_HOSP_ICD9_6']\n",
    "\n",
    "GROUP_A = [*ILL_N, *INJ_N, *HOSP_N, *HOSP_CODE]\n",
    "GROUP_B = [*ILL_ICD9, *INJ_ICD9, *HOSP_ICD9]"
   ]
  },
  {
   "cell_type": "code",
   "execution_count": 62,
   "metadata": {},
   "outputs": [],
   "source": [
    "df_new[GROUP_A] = df_new[GROUP_A].replace({88: -88, 999: -99})\n",
    "df_new[GROUP_B] = df_new[GROUP_B].replace({\"88888\": \"N/A\", \"99999\": \"Missing\"})"
   ]
  },
  {
   "cell_type": "markdown",
   "metadata": {},
   "source": [
    "## Save updated dataset"
   ]
  },
  {
   "cell_type": "code",
   "execution_count": 63,
   "metadata": {},
   "outputs": [],
   "source": [
    "write_sav(FINAL, df_new, meta_new)"
   ]
  }
 ],
 "metadata": {
  "kernelspec": {
   "display_name": "my_env",
   "language": "python",
   "name": "python3"
  },
  "language_info": {
   "codemirror_mode": {
    "name": "ipython",
    "version": 3
   },
   "file_extension": ".py",
   "mimetype": "text/x-python",
   "name": "python",
   "nbconvert_exporter": "python",
   "pygments_lexer": "ipython3",
   "version": "3.12.4"
  }
 },
 "nbformat": 4,
 "nbformat_minor": 2
}
