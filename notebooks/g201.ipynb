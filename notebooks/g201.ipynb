{
 "cells": [
  {
   "cell_type": "markdown",
   "metadata": {},
   "source": [
    "# G201"
   ]
  },
  {
   "cell_type": "markdown",
   "metadata": {},
   "source": [
    "## Set up"
   ]
  },
  {
   "cell_type": "code",
   "execution_count": 1,
   "metadata": {},
   "outputs": [],
   "source": [
    "from fastcore.test import *\n",
    "from fastcore.utils import *\n",
    "import pandas as pd\n",
    "from pandas import DataFrame\n",
    "import numpy as np\n",
    "import pyspssio\n",
    "\n",
    "import raine_tools as rn\n",
    "from data_harmonising.data import *\n",
    "from data_harmonising.transforms import *\n",
    "from data_harmonising.tests import *"
   ]
  },
  {
   "cell_type": "code",
   "execution_count": 2,
   "metadata": {},
   "outputs": [],
   "source": [
    "INPUT = \"../data/raw/G201_Quest_PA.sav\"\n",
    "OUTPUT = \"../data/interim/G201_Quest_PA.sav\""
   ]
  },
  {
   "cell_type": "code",
   "execution_count": 3,
   "metadata": {},
   "outputs": [],
   "source": [
    "df, meta = read_sav(INPUT, index=\"ID\")"
   ]
  },
  {
   "cell_type": "code",
   "execution_count": 4,
   "metadata": {},
   "outputs": [],
   "source": [
    "# wb = pd.read_excel(WORKBOOK, sheet_name=SHEETNAME)\n",
    "# wb['vn_old'] = wb['Dataset'] + '_' + wb['Variable Name']\n",
    "# wb['vn_new'] = wb['Dataset'] + '_' + wb['Harmonised Variable Name']\n",
    "# VARS = wb.loc[wb['Dataset'] == 'G201', \"Variable Name\"].to_list()"
   ]
  },
  {
   "cell_type": "markdown",
   "metadata": {},
   "source": [
    "## Data exploration"
   ]
  },
  {
   "cell_type": "markdown",
   "metadata": {},
   "source": [
    "### The strange case of `G201_IF13`"
   ]
  },
  {
   "cell_type": "markdown",
   "metadata": {},
   "source": [
    "Why does `G201_IF13` exist, especially when there's no corresponding `G201_IC13`?  \n",
    "Furthermore, the values don't align with the previous IC? variables."
   ]
  },
  {
   "cell_type": "code",
   "execution_count": 5,
   "metadata": {},
   "outputs": [
    {
     "data": {
      "text/plain": [
       "G201_IF13\n",
       "0.0          2414\n",
       "9.0            27\n",
       "1.0             4\n",
       "2.0             1\n",
       "Name: count, dtype: int64"
      ]
     },
     "execution_count": 5,
     "metadata": {},
     "output_type": "execute_result"
    }
   ],
   "source": [
    "df.loc[:, [\"G201_IF13\"]].value_counts() "
   ]
  },
  {
   "cell_type": "markdown",
   "metadata": {},
   "source": [
    "For all other cases of `G201_IF1` to `G201_IF12`, a 0 means that the incident is related to the incident in the previous IF? variable.  \n",
    "When `G201_IF13` is 0, the majority of cases were N/A, and values range across the board; this doesn't fit with the existing logic."
   ]
  },
  {
   "cell_type": "code",
   "execution_count": 6,
   "metadata": {},
   "outputs": [
    {
     "data": {
      "text/plain": [
       "G201_IF12  G201_IF13\n",
       "88.0       0.0          2404\n",
       "1.0        0.0             6\n",
       "0.0        0.0             2\n",
       "2.0        0.0             1\n",
       "999.0      0.0             1\n",
       "Name: count, dtype: int64"
      ]
     },
     "execution_count": 6,
     "metadata": {},
     "output_type": "execute_result"
    }
   ],
   "source": [
    "df.loc[df[\"G201_IF13\"] == 0, \"G201_IF12\":\"G201_IF13\"].value_counts()"
   ]
  },
  {
   "cell_type": "markdown",
   "metadata": {},
   "source": [
    "At least when `G201_IF13` is missing (9), the previous value was also missing (999)."
   ]
  },
  {
   "cell_type": "code",
   "execution_count": 7,
   "metadata": {},
   "outputs": [
    {
     "data": {
      "text/plain": [
       "G201_IF12  G201_IF13\n",
       "999.0      9.0          27\n",
       "Name: count, dtype: int64"
      ]
     },
     "execution_count": 7,
     "metadata": {},
     "output_type": "execute_result"
    }
   ],
   "source": [
    "df.loc[df[\"G201_IF13\"] == 9, \"G201_IF12\":\"G201_IF13\"].value_counts()"
   ]
  },
  {
   "cell_type": "markdown",
   "metadata": {},
   "source": [
    "Finally, when `G201_IF13` is 1 or 2, the previous values are 0 or 1; this doesn't specifically highlight any errors."
   ]
  },
  {
   "cell_type": "code",
   "execution_count": 8,
   "metadata": {},
   "outputs": [
    {
     "data": {
      "text/plain": [
       "G201_IF12  G201_IF13\n",
       "1.0        1.0          3\n",
       "0.0        1.0          1\n",
       "1.0        2.0          1\n",
       "Name: count, dtype: int64"
      ]
     },
     "execution_count": 8,
     "metadata": {},
     "output_type": "execute_result"
    }
   ],
   "source": [
    "df.loc[df[\"G201_IF13\"].between(1, 2), \"G201_IF12\":\"G201_IF13\"].value_counts()"
   ]
  },
  {
   "cell_type": "markdown",
   "metadata": {},
   "source": [
    "`G201_IF13` does not align with the previous values, and there are clear logical discrepancies.  \n",
    "Given there is no corresponding `G201_IC13` to explain the few instances of a 1 or 2, and the 0s appear to be unreliable, I plan to drop it."
   ]
  },
  {
   "cell_type": "markdown",
   "metadata": {},
   "source": [
    "### Checking that IF? and IC? variables are correctly aligned"
   ]
  },
  {
   "cell_type": "code",
   "execution_count": 9,
   "metadata": {},
   "outputs": [],
   "source": [
    "IF_ROWS = ['G201_IF1', 'G201_IF2', 'G201_IF3', 'G201_IF4', 'G201_IF5', 'G201_IF6',\n",
    "           'G201_IF7', 'G201_IF8', 'G201_IF9', 'G201_IF10', 'G201_IF11', 'G201_IF12']\n",
    "\n",
    "IC_ROWS = ['G201_IC1', 'G201_IC2', 'G201_IC3', 'G201_IC4', 'G201_IC5', 'G201_IC6',\n",
    "           'G201_IC7', 'G201_IC8', 'G201_IC9', 'G201_IC10', 'G201_IC11', 'G201_IC12']"
   ]
  },
  {
   "cell_type": "markdown",
   "metadata": {},
   "source": [
    "If `G201_IC?` is N/A (\"88888\"), the corresponding `G201_IF?` should also be N/A (88).  \n",
    "Else if `G201_IC?` is Missing (\"99999\"), the corresponding `G201_IF?` should also be Missing (999).    \n",
    "Otherwise, the corresponding `G201_IF?` should not be N/A or Missing."
   ]
  },
  {
   "cell_type": "code",
   "execution_count": 10,
   "metadata": {},
   "outputs": [],
   "source": [
    "for n in range(1, 13): \n",
    "    assert (df.loc[df[f\"G201_IC{n}\"] == \"88888\", f\"G201_IF{n}\"] == 88).all()\n",
    "    assert (df.loc[df[f\"G201_IC{n}\"] == \"99999\", f\"G201_IF{n}\"] == 999).all()\n",
    "    assert not df.loc[~df[f\"G201_IC{n}\"].isin([\"88888\", \"99999\"]), f\"G201_IF{n}\"].isin([88, 999]).all()"
   ]
  },
  {
   "cell_type": "markdown",
   "metadata": {},
   "source": [
    "The reverse of this should also be true, such that if `G201_IF?` is N/A, the corresponding `G201_IC?` value should also be N/A, and so on."
   ]
  },
  {
   "cell_type": "code",
   "execution_count": 11,
   "metadata": {},
   "outputs": [],
   "source": [
    "for n in range(1, 13): \n",
    "    assert (df.loc[df[f\"G201_IF{n}\"] == 88, f\"G201_IC{n}\"] == \"88888\").all()\n",
    "    assert (df.loc[df[f\"G201_IF{n}\"] == 999, f\"G201_IC{n}\"] == \"99999\").all()\n",
    "    assert not df.loc[~df[f\"G201_IF{n}\"].isin([88, 999]), f\"G201_IC{n}\"].isin([\"88888\", \"99999\"]).all()"
   ]
  },
  {
   "cell_type": "markdown",
   "metadata": {},
   "source": [
    "If `G201_IF1` is No (0), then remaining `G201_IF?` values should be N/A (88).  \n",
    "However, a single instance of this was located at ID 10080. "
   ]
  },
  {
   "cell_type": "code",
   "execution_count": 12,
   "metadata": {},
   "outputs": [
    {
     "data": {
      "text/html": [
       "<div>\n",
       "<style scoped>\n",
       "    .dataframe tbody tr th:only-of-type {\n",
       "        vertical-align: middle;\n",
       "    }\n",
       "\n",
       "    .dataframe tbody tr th {\n",
       "        vertical-align: top;\n",
       "    }\n",
       "\n",
       "    .dataframe thead th {\n",
       "        text-align: right;\n",
       "    }\n",
       "</style>\n",
       "<table border=\"1\" class=\"dataframe\">\n",
       "  <thead>\n",
       "    <tr style=\"text-align: right;\">\n",
       "      <th></th>\n",
       "      <th>G201_IC1</th>\n",
       "      <th>G201_IC2</th>\n",
       "      <th>G201_IC3</th>\n",
       "      <th>G201_IC4</th>\n",
       "      <th>G201_IC5</th>\n",
       "      <th>G201_IF1</th>\n",
       "      <th>G201_IF2</th>\n",
       "      <th>G201_IF3</th>\n",
       "      <th>G201_IF4</th>\n",
       "      <th>G201_IF5</th>\n",
       "    </tr>\n",
       "    <tr>\n",
       "      <th>ID</th>\n",
       "      <th></th>\n",
       "      <th></th>\n",
       "      <th></th>\n",
       "      <th></th>\n",
       "      <th></th>\n",
       "      <th></th>\n",
       "      <th></th>\n",
       "      <th></th>\n",
       "      <th></th>\n",
       "      <th></th>\n",
       "    </tr>\n",
       "  </thead>\n",
       "  <tbody>\n",
       "    <tr>\n",
       "      <th>10080.0</th>\n",
       "      <td>69100</td>\n",
       "      <td>69290</td>\n",
       "      <td>88888</td>\n",
       "      <td>88888</td>\n",
       "      <td>88888</td>\n",
       "      <td>0.0</td>\n",
       "      <td>1.0</td>\n",
       "      <td>88.0</td>\n",
       "      <td>88.0</td>\n",
       "      <td>88.0</td>\n",
       "    </tr>\n",
       "  </tbody>\n",
       "</table>\n",
       "</div>"
      ],
      "text/plain": [
       "        G201_IC1 G201_IC2 G201_IC3 G201_IC4 G201_IC5  G201_IF1  G201_IF2  \\\n",
       "ID                                                                         \n",
       "10080.0    69100    69290    88888    88888    88888       0.0       1.0   \n",
       "\n",
       "         G201_IF3  G201_IF4  G201_IF5  \n",
       "ID                                     \n",
       "10080.0      88.0      88.0      88.0  "
      ]
     },
     "execution_count": 12,
     "metadata": {},
     "output_type": "execute_result"
    }
   ],
   "source": [
    "df.loc[df[\"G201_IF1\"] == 0].filter(regex=r'I(C|F)[1-5]\\b')"
   ]
  },
  {
   "cell_type": "markdown",
   "metadata": {},
   "source": [
    "For ID 10080, given both conditions are interrelatated (dermatitis), I believe it's likely the participant would have seen the doctor once for both cases.  \n",
    "Therefore, it makes sense to change IF1 to 1 and IF2 to 0."
   ]
  },
  {
   "cell_type": "code",
   "execution_count": 13,
   "metadata": {},
   "outputs": [],
   "source": [
    "idx = [10080]\n",
    "df.loc[idx, \"G201_IF1\"] = 1\n",
    "df.loc[idx, \"G201_IF2\"] = 0"
   ]
  },
  {
   "cell_type": "markdown",
   "metadata": {},
   "source": [
    "Participants with IDs 17890, 19270, and 20370 had missing values in place of N/A values, detected during testing process."
   ]
  },
  {
   "cell_type": "code",
   "execution_count": 14,
   "metadata": {},
   "outputs": [],
   "source": [
    "idx = [17890, 19270, 20370]\n",
    "df.loc[idx, \"G201_IC1\":\"G201_IF12\"] = df.loc[idx, \"G201_IC1\":\"G201_IF12\"].replace({\"99999\": \"88888\", 999: 88})"
   ]
  },
  {
   "cell_type": "code",
   "execution_count": 15,
   "metadata": {},
   "outputs": [],
   "source": [
    "# If any IF or IC value is missing, all others in that row are also missing\n",
    "for index, row in df.iterrows():\n",
    "    if row[IF_ROWS].isin([999]).any():\n",
    "        assert row[IF_ROWS].isin([999]).all(), f\"ID {index}: Not all IF values are missing when one is missing.\"\n",
    "    if row[IC_ROWS].isin(['99999']).any():\n",
    "        assert row[IC_ROWS].isin(['99999']).all(), f\"ID {index}: Not all IC values are missing when one is missing.\""
   ]
  },
  {
   "cell_type": "markdown",
   "metadata": {},
   "source": [
    "ID 11642: two values for IF and IC that follow a N/A value.\n",
    "It appears a couple of cells of data were accidentally copied down a line, for IF3, IF4, IC3 and IC4.\n",
    "\n",
    "ID 23180: one value for IF and IC that follows a N/A value.\n",
    "Given IF4 and IC4 match IF2 and IC2, and there's a N/A value in-between, it seems likely they've been accidentally copied over."
   ]
  },
  {
   "cell_type": "code",
   "execution_count": 16,
   "metadata": {},
   "outputs": [],
   "source": [
    "df.loc[11642, [\"G201_IF3\", \"G201_IF4\"]] = 88\n",
    "df.loc[11642, [\"G201_IC3\", \"G201_IC4\"]] = \"88888\"\n",
    "\n",
    "df.loc[23180, [\"G201_IF4\"]] = 88\n",
    "df.loc[23180, [\"G201_IC4\"]] = \"88888\""
   ]
  },
  {
   "cell_type": "code",
   "execution_count": 17,
   "metadata": {},
   "outputs": [],
   "source": [
    "# If any IF or IC value is N/A, all following values are also N/A\n",
    "for index, row in df.iterrows():\n",
    "    if row[IF_ROWS].isin([88]).any():\n",
    "        assert row[IF_ROWS].loc[row[IF_ROWS].isin([88]).idxmax():].isin([88]).all(), f\"Row {index}: Not all following IF values are N/A.\"\n",
    "    if row[IC_ROWS].isin(['88888']).any():\n",
    "        assert row[IC_ROWS].loc[row[IC_ROWS].isin(['88888']).idxmax():].isin(['88888']).all(), f\"Row {index}: Not all following IC values are N/A.\""
   ]
  },
  {
   "cell_type": "markdown",
   "metadata": {},
   "source": [
    "Finally, confirm that if the first variable for all of `G201_IF1`, `G201_INF1`, and `G201_HOH1` are 88, all subsequent values are 88."
   ]
  },
  {
   "cell_type": "code",
   "execution_count": 18,
   "metadata": {},
   "outputs": [],
   "source": [
    "assert all(df.loc[df[\"G201_IF1\"] == 88, \"G201_IF1\":\"G201_IF12\"] == 88)\n",
    "assert all(df.loc[df[\"G201_INF1\"] == 88, \"G201_INF1\":\"G201_INF5\"] == 88)\n",
    "assert all(df.loc[df[\"G201_HOH1\"] == 88, \"G201_HOH1\":\"G201_HOH6\"] == 88)"
   ]
  },
  {
   "cell_type": "markdown",
   "metadata": {},
   "source": [
    "## Create, Rename, and Delete Variables"
   ]
  },
  {
   "cell_type": "markdown",
   "metadata": {},
   "source": [
    "### Create"
   ]
  },
  {
   "cell_type": "markdown",
   "metadata": {},
   "source": [
    "Create following binary variables (for all cases: in past 12 months that required a visit to hospital)\n",
    "- `G201_IL`: illnesses or problems (Yes if `G201_IF1` is Yes); \n",
    "- `G201_INJ`: any accidents or injuries (Yes if `G201_INF1` is Yes); and\n",
    "- `G201_HO`: admitted to hospital (Yes if `G201_HO1` is Yes)"
   ]
  },
  {
   "cell_type": "code",
   "execution_count": 19,
   "metadata": {},
   "outputs": [],
   "source": [
    "conditions = [\n",
    "    # When the value for the conditional col is Missing (999) set to Missing\n",
    "    {\"condition\": 999, \"value\": 999},\n",
    "    # When value is N/A (88), set to 0 (No)\n",
    "    {\"condition\": 88, \"value\": 0},\n",
    "    # When value is neither N/A nor Missing, set to 1 (Yes)\n",
    "    {\"condition\": lambda x: x not in [88, 999], \"value\": 1}\n",
    "]\n",
    "\n",
    "CREATE = [\n",
    "    {\n",
    "        \"target_col\": \"G201_IL\",\n",
    "        \"condition_col\": \"G201_IF1\",\n",
    "        \"conditions\": conditions\n",
    "    },\n",
    "    {\n",
    "        \"target_col\": \"G201_INJ\",\n",
    "        \"condition_col\": \"G201_INF1\",\n",
    "        \"conditions\": conditions\n",
    "    },\n",
    "    {\n",
    "        \"target_col\": \"G201_HO\",\n",
    "        \"condition_col\": \"G201_HOH1\",\n",
    "        \"conditions\": conditions\n",
    "    }\n",
    "]"
   ]
  },
  {
   "cell_type": "code",
   "execution_count": 20,
   "metadata": {},
   "outputs": [],
   "source": [
    "df = create_variables(df, CREATE)"
   ]
  },
  {
   "cell_type": "markdown",
   "metadata": {},
   "source": [
    "Test to ensure changes were correctly implemented."
   ]
  },
  {
   "cell_type": "code",
   "execution_count": 21,
   "metadata": {},
   "outputs": [],
   "source": [
    "TEST = {\n",
    "    \"G201_IL\": \"G201_IF1\", \n",
    "    \"G201_INJ\": \"G201_INF1\",\n",
    "    \"G201_HO\": \"G201_HOH1\"\n",
    "}\n",
    "\n",
    "for target_col, condition_col in TEST.items():\n",
    "    assert all(df.loc[~df[condition_col].isin([88, 999]), target_col] == 1) \n",
    "    assert all(df.loc[df[condition_col] == 88, target_col] == 0) \n",
    "    assert all(df.loc[df[condition_col] == 999, target_col] == 999) "
   ]
  },
  {
   "cell_type": "markdown",
   "metadata": {},
   "source": [
    "### Rename Variables"
   ]
  },
  {
   "cell_type": "code",
   "execution_count": 22,
   "metadata": {},
   "outputs": [],
   "source": [
    "RENAME = {} # no vars to rename"
   ]
  },
  {
   "cell_type": "code",
   "execution_count": 23,
   "metadata": {},
   "outputs": [],
   "source": [
    "df = rename_variables(df, RENAME)\n",
    "meta = rename_variables(meta, RENAME)"
   ]
  },
  {
   "cell_type": "markdown",
   "metadata": {},
   "source": [
    "### Delete"
   ]
  },
  {
   "cell_type": "code",
   "execution_count": 24,
   "metadata": {},
   "outputs": [],
   "source": [
    "DELETE = [\n",
    "    \"DOB\", # should not be included in the dataset; captured in Longitudinal Data/Gen2_Ages.sav\n",
    "    \"G201_IF13\" # as stated above, appears unreliable\n",
    "]"
   ]
  },
  {
   "cell_type": "code",
   "execution_count": 25,
   "metadata": {},
   "outputs": [],
   "source": [
    "df = delete_variables(df, DELETE)"
   ]
  },
  {
   "cell_type": "markdown",
   "metadata": {},
   "source": [
    "## Save Interim Data"
   ]
  },
  {
   "cell_type": "code",
   "execution_count": 26,
   "metadata": {},
   "outputs": [],
   "source": [
    "write_sav(OUTPUT, df, meta)"
   ]
  },
  {
   "cell_type": "markdown",
   "metadata": {},
   "source": [
    "## Run tests to validate data"
   ]
  },
  {
   "cell_type": "markdown",
   "metadata": {},
   "source": [
    "Specify the precise changes expected from the updated dataset in terms of recoding."
   ]
  },
  {
   "cell_type": "code",
   "execution_count": 27,
   "metadata": {},
   "outputs": [],
   "source": [
    "# Changes should capture each specific changes; column (variable name), the IDs that are affected, and the corresponding change\n",
    "CHANGES = [\n",
    "    {\n",
    "        \"columns\": [\"G201_IF1\"],\n",
    "        \"idx\": [10080],\n",
    "        \"value\": 1 \n",
    "    },\n",
    "    {\n",
    "        \"columns\": [\"G201_IF2\"],\n",
    "        \"idx\": [10080],\n",
    "        \"value\": 0 \n",
    "    },\n",
    "    {\n",
    "        \"columns\": [\"G201_IF3\", \"G201_IF4\"],\n",
    "        \"idx\": [11642],\n",
    "        \"value\": 88 \n",
    "    },\n",
    "    {\n",
    "        \"columns\": [\"G201_IC3\"],\n",
    "        \"idx\": [11642],\n",
    "        \"value\": \"88888\"\n",
    "    },\n",
    "    {\n",
    "        \"columns\": [\"G201_IC4\"],\n",
    "        \"idx\": [11642],\n",
    "        \"value\": \"88888\"\n",
    "    },\n",
    "    {\n",
    "        \"columns\": [\"G201_IF4\"],\n",
    "        \"idx\": [23180],\n",
    "        \"value\": 88\n",
    "    },\n",
    "    {\n",
    "        \"columns\": [\"G201_IC4\"],\n",
    "        \"idx\": [23180],\n",
    "        \"value\": \"88888\"\n",
    "    },\n",
    "    {\n",
    "        \"columns\": ['G201_IC2', 'G201_IC3', 'G201_IC4', 'G201_IC5', 'G201_IC6', 'G201_IC7', 'G201_IC8', 'G201_IC9', 'G201_IC10', 'G201_IC11', 'G201_IC12'],\n",
    "        \"idx\": [19270, 17890],\n",
    "        \"value\": \"88888\"\n",
    "    },\n",
    "    {\n",
    "        \"columns\": ['G201_IF2', 'G201_IF3', 'G201_IF4', 'G201_IF5', 'G201_IF6', 'G201_IF7', 'G201_IF8', 'G201_IF9', 'G201_IF10', 'G201_IF11', 'G201_IF12'],\n",
    "        \"idx\": [19270, 17890],\n",
    "        \"value\": 88\n",
    "    },\n",
    "    {\n",
    "        \"columns\": ['G201_IC4', 'G201_IC5', 'G201_IC6', 'G201_IC7', 'G201_IC8', 'G201_IC9', 'G201_IC10', 'G201_IC11', 'G201_IC12'],\n",
    "        \"idx\": [20370],\n",
    "        \"value\": \"88888\"\n",
    "    },\n",
    "    {\n",
    "        \"columns\": ['G201_IF4', 'G201_IF5', 'G201_IF6', 'G201_IF7', 'G201_IF8', 'G201_IF9', 'G201_IF10', 'G201_IF11', 'G201_IF12'],\n",
    "        \"idx\": [20370],\n",
    "        \"value\": 88\n",
    "    },\n",
    "]"
   ]
  },
  {
   "cell_type": "code",
   "execution_count": 28,
   "metadata": {},
   "outputs": [],
   "source": [
    "df_old, meta_old = read_sav(INPUT, index=\"ID\")\n",
    "df_new, meta_new = read_sav(OUTPUT, index=\"ID\")\n",
    "\n",
    "# Filter for matching columns to compare\n",
    "df_new_filtered = filter_updated_for_comparison(df_new, CREATE)\n",
    "df_old_filtered = filter_original_for_comparison(df_old, RENAME, DELETE)"
   ]
  },
  {
   "cell_type": "code",
   "execution_count": null,
   "metadata": {},
   "outputs": [],
   "source": [
    "ADDED, REMOVED = reformat_crud(CREATE, RENAME, DELETE)\n",
    "\n",
    "# Validate columns\n",
    "test_columns(df_new, df_old, ADDED, REMOVED)\n",
    "\n",
    "# Validate raw data, not including variables that were created or deleted, and renaming the old variables to match for comparison\n",
    "verify_changes(df_new, CHANGES)\n",
    "\n",
    "# Confirm all data remains identical for columns that were not intended for change\n",
    "verify_data_unchanged_for_unchanged_columns(df_new_filtered, df_old_filtered, CHANGES)\n",
    "\n",
    "# Confirm that for columns where changes were implemented, data remains the same for all IDs where no changes were intended\n",
    "verify_data_unchanged_for_changed_columns(df_new_filtered, df_old_filtered, CHANGES)"
   ]
  },
  {
   "cell_type": "markdown",
   "metadata": {},
   "source": [
    "### Compare metadata"
   ]
  },
  {
   "cell_type": "code",
   "execution_count": 34,
   "metadata": {},
   "outputs": [
    {
     "ename": "ValueError",
     "evalue": "Can only compare identically-labeled (both index and columns) DataFrame objects",
     "output_type": "error",
     "traceback": [
      "\u001b[1;31m---------------------------------------------------------------------------\u001b[0m",
      "\u001b[1;31mValueError\u001b[0m                                Traceback (most recent call last)",
      "\u001b[1;32m~\\AppData\\Local\\Temp\\ipykernel_16492\\2117430709.py\u001b[0m in \u001b[0;36m?\u001b[1;34m()\u001b[0m\n\u001b[0;32m      1\u001b[0m \u001b[1;31m# Compare metadata, not including variables that were created or deleted, and renaming the old variables to match for comparison\u001b[0m\u001b[1;33m\u001b[0m\u001b[1;33m\u001b[0m\u001b[0m\n\u001b[0;32m      2\u001b[0m \u001b[1;33m\u001b[0m\u001b[0m\n\u001b[0;32m      3\u001b[0m \u001b[0mold_cols\u001b[0m \u001b[1;33m=\u001b[0m \u001b[1;33m[\u001b[0m\u001b[0mcol\u001b[0m \u001b[1;32mfor\u001b[0m \u001b[0mcol\u001b[0m \u001b[1;32min\u001b[0m \u001b[0mmeta_old\u001b[0m\u001b[1;33m.\u001b[0m\u001b[0mcolumns\u001b[0m \u001b[1;32mif\u001b[0m \u001b[0mcol\u001b[0m \u001b[1;32mnot\u001b[0m \u001b[1;32min\u001b[0m \u001b[0mDELETE\u001b[0m\u001b[1;33m]\u001b[0m\u001b[1;33m\u001b[0m\u001b[1;33m\u001b[0m\u001b[0m\n\u001b[0;32m      4\u001b[0m \u001b[0mnew_cols\u001b[0m \u001b[1;33m=\u001b[0m \u001b[1;33m[\u001b[0m\u001b[0mcol\u001b[0m \u001b[1;32mfor\u001b[0m \u001b[0mcol\u001b[0m \u001b[1;32min\u001b[0m \u001b[0mmeta_new\u001b[0m\u001b[1;33m.\u001b[0m\u001b[0mcolumns\u001b[0m \u001b[1;32mif\u001b[0m \u001b[0mcol\u001b[0m \u001b[1;32mnot\u001b[0m \u001b[1;32min\u001b[0m \u001b[0mCREATE\u001b[0m\u001b[1;33m]\u001b[0m\u001b[1;33m\u001b[0m\u001b[1;33m\u001b[0m\u001b[0m\n\u001b[1;32m----> 5\u001b[1;33m \u001b[0mmetax\u001b[0m \u001b[1;33m=\u001b[0m \u001b[0mmeta_new\u001b[0m\u001b[1;33m[\u001b[0m\u001b[0mnew_cols\u001b[0m\u001b[1;33m]\u001b[0m\u001b[1;33m.\u001b[0m\u001b[0mcompare\u001b[0m\u001b[1;33m(\u001b[0m\u001b[0mmeta_old\u001b[0m\u001b[1;33m[\u001b[0m\u001b[0mold_cols\u001b[0m\u001b[1;33m]\u001b[0m\u001b[1;33m.\u001b[0m\u001b[0mrename\u001b[0m\u001b[1;33m(\u001b[0m\u001b[0mRENAME\u001b[0m\u001b[1;33m)\u001b[0m\u001b[1;33m)\u001b[0m\u001b[1;33m\u001b[0m\u001b[1;33m\u001b[0m\u001b[0m\n\u001b[0m\u001b[0;32m      6\u001b[0m \u001b[0mmetax\u001b[0m\u001b[1;33m\u001b[0m\u001b[1;33m\u001b[0m\u001b[0m\n",
      "\u001b[1;32mc:\\Users\\00113294\\Anaconda3\\envs\\my_env\\Lib\\site-packages\\pandas\\core\\frame.py\u001b[0m in \u001b[0;36m?\u001b[1;34m(self, other, align_axis, keep_shape, keep_equal, result_names)\u001b[0m\n\u001b[0;32m   8589\u001b[0m         \u001b[0mkeep_shape\u001b[0m\u001b[1;33m:\u001b[0m \u001b[0mbool\u001b[0m \u001b[1;33m=\u001b[0m \u001b[1;32mFalse\u001b[0m\u001b[1;33m,\u001b[0m\u001b[1;33m\u001b[0m\u001b[1;33m\u001b[0m\u001b[0m\n\u001b[0;32m   8590\u001b[0m         \u001b[0mkeep_equal\u001b[0m\u001b[1;33m:\u001b[0m \u001b[0mbool\u001b[0m \u001b[1;33m=\u001b[0m \u001b[1;32mFalse\u001b[0m\u001b[1;33m,\u001b[0m\u001b[1;33m\u001b[0m\u001b[1;33m\u001b[0m\u001b[0m\n\u001b[0;32m   8591\u001b[0m         \u001b[0mresult_names\u001b[0m\u001b[1;33m:\u001b[0m \u001b[0mSuffixes\u001b[0m \u001b[1;33m=\u001b[0m \u001b[1;33m(\u001b[0m\u001b[1;34m\"self\"\u001b[0m\u001b[1;33m,\u001b[0m \u001b[1;34m\"other\"\u001b[0m\u001b[1;33m)\u001b[0m\u001b[1;33m,\u001b[0m\u001b[1;33m\u001b[0m\u001b[1;33m\u001b[0m\u001b[0m\n\u001b[0;32m   8592\u001b[0m     \u001b[1;33m)\u001b[0m \u001b[1;33m->\u001b[0m \u001b[0mDataFrame\u001b[0m\u001b[1;33m:\u001b[0m\u001b[1;33m\u001b[0m\u001b[1;33m\u001b[0m\u001b[0m\n\u001b[1;32m-> 8593\u001b[1;33m         return super().compare(\n\u001b[0m\u001b[0;32m   8594\u001b[0m             \u001b[0mother\u001b[0m\u001b[1;33m=\u001b[0m\u001b[0mother\u001b[0m\u001b[1;33m,\u001b[0m\u001b[1;33m\u001b[0m\u001b[1;33m\u001b[0m\u001b[0m\n\u001b[0;32m   8595\u001b[0m             \u001b[0malign_axis\u001b[0m\u001b[1;33m=\u001b[0m\u001b[0malign_axis\u001b[0m\u001b[1;33m,\u001b[0m\u001b[1;33m\u001b[0m\u001b[1;33m\u001b[0m\u001b[0m\n\u001b[0;32m   8596\u001b[0m             \u001b[0mkeep_shape\u001b[0m\u001b[1;33m=\u001b[0m\u001b[0mkeep_shape\u001b[0m\u001b[1;33m,\u001b[0m\u001b[1;33m\u001b[0m\u001b[1;33m\u001b[0m\u001b[0m\n",
      "\u001b[1;32mc:\\Users\\00113294\\Anaconda3\\envs\\my_env\\Lib\\site-packages\\pandas\\core\\generic.py\u001b[0m in \u001b[0;36m?\u001b[1;34m(self, other, align_axis, keep_shape, keep_equal, result_names)\u001b[0m\n\u001b[0;32m  10117\u001b[0m             raise TypeError(\n\u001b[0;32m  10118\u001b[0m                 \u001b[1;33mf\"\u001b[0m\u001b[1;33mcan only compare '\u001b[0m\u001b[1;33m{\u001b[0m\u001b[0mcls_self\u001b[0m\u001b[1;33m}\u001b[0m\u001b[1;33m' (not '\u001b[0m\u001b[1;33m{\u001b[0m\u001b[0mcls_other\u001b[0m\u001b[1;33m}\u001b[0m\u001b[1;33m') with '\u001b[0m\u001b[1;33m{\u001b[0m\u001b[0mcls_self\u001b[0m\u001b[1;33m}\u001b[0m\u001b[1;33m'\u001b[0m\u001b[1;33m\"\u001b[0m\u001b[1;33m\u001b[0m\u001b[1;33m\u001b[0m\u001b[0m\n\u001b[0;32m  10119\u001b[0m             \u001b[1;33m)\u001b[0m\u001b[1;33m\u001b[0m\u001b[1;33m\u001b[0m\u001b[0m\n\u001b[0;32m  10120\u001b[0m \u001b[1;33m\u001b[0m\u001b[0m\n\u001b[1;32m> 10121\u001b[1;33m         \u001b[0mmask\u001b[0m \u001b[1;33m=\u001b[0m \u001b[1;33m~\u001b[0m\u001b[1;33m(\u001b[0m\u001b[1;33m(\u001b[0m\u001b[0mself\u001b[0m \u001b[1;33m==\u001b[0m \u001b[0mother\u001b[0m\u001b[1;33m)\u001b[0m \u001b[1;33m|\u001b[0m \u001b[1;33m(\u001b[0m\u001b[0mself\u001b[0m\u001b[1;33m.\u001b[0m\u001b[0misna\u001b[0m\u001b[1;33m(\u001b[0m\u001b[1;33m)\u001b[0m \u001b[1;33m&\u001b[0m \u001b[0mother\u001b[0m\u001b[1;33m.\u001b[0m\u001b[0misna\u001b[0m\u001b[1;33m(\u001b[0m\u001b[1;33m)\u001b[0m\u001b[1;33m)\u001b[0m\u001b[1;33m)\u001b[0m\u001b[1;33m\u001b[0m\u001b[1;33m\u001b[0m\u001b[0m\n\u001b[0m\u001b[0;32m  10122\u001b[0m         \u001b[0mmask\u001b[0m\u001b[1;33m.\u001b[0m\u001b[0mfillna\u001b[0m\u001b[1;33m(\u001b[0m\u001b[1;32mTrue\u001b[0m\u001b[1;33m,\u001b[0m \u001b[0minplace\u001b[0m\u001b[1;33m=\u001b[0m\u001b[1;32mTrue\u001b[0m\u001b[1;33m)\u001b[0m\u001b[1;33m\u001b[0m\u001b[1;33m\u001b[0m\u001b[0m\n\u001b[0;32m  10123\u001b[0m \u001b[1;33m\u001b[0m\u001b[0m\n\u001b[0;32m  10124\u001b[0m         \u001b[1;32mif\u001b[0m \u001b[1;32mnot\u001b[0m \u001b[0mkeep_equal\u001b[0m\u001b[1;33m:\u001b[0m\u001b[1;33m\u001b[0m\u001b[1;33m\u001b[0m\u001b[0m\n",
      "\u001b[1;32mc:\\Users\\00113294\\Anaconda3\\envs\\my_env\\Lib\\site-packages\\pandas\\core\\ops\\common.py\u001b[0m in \u001b[0;36m?\u001b[1;34m(self, other)\u001b[0m\n\u001b[0;32m     72\u001b[0m                     \u001b[1;32mreturn\u001b[0m \u001b[0mNotImplemented\u001b[0m\u001b[1;33m\u001b[0m\u001b[1;33m\u001b[0m\u001b[0m\n\u001b[0;32m     73\u001b[0m \u001b[1;33m\u001b[0m\u001b[0m\n\u001b[0;32m     74\u001b[0m         \u001b[0mother\u001b[0m \u001b[1;33m=\u001b[0m \u001b[0mitem_from_zerodim\u001b[0m\u001b[1;33m(\u001b[0m\u001b[0mother\u001b[0m\u001b[1;33m)\u001b[0m\u001b[1;33m\u001b[0m\u001b[1;33m\u001b[0m\u001b[0m\n\u001b[0;32m     75\u001b[0m \u001b[1;33m\u001b[0m\u001b[0m\n\u001b[1;32m---> 76\u001b[1;33m         \u001b[1;32mreturn\u001b[0m \u001b[0mmethod\u001b[0m\u001b[1;33m(\u001b[0m\u001b[0mself\u001b[0m\u001b[1;33m,\u001b[0m \u001b[0mother\u001b[0m\u001b[1;33m)\u001b[0m\u001b[1;33m\u001b[0m\u001b[1;33m\u001b[0m\u001b[0m\n\u001b[0m",
      "\u001b[1;32mc:\\Users\\00113294\\Anaconda3\\envs\\my_env\\Lib\\site-packages\\pandas\\core\\arraylike.py\u001b[0m in \u001b[0;36m?\u001b[1;34m(self, other)\u001b[0m\n\u001b[0;32m     38\u001b[0m     \u001b[1;33m@\u001b[0m\u001b[0munpack_zerodim_and_defer\u001b[0m\u001b[1;33m(\u001b[0m\u001b[1;34m\"__eq__\"\u001b[0m\u001b[1;33m)\u001b[0m\u001b[1;33m\u001b[0m\u001b[1;33m\u001b[0m\u001b[0m\n\u001b[0;32m     39\u001b[0m     \u001b[1;32mdef\u001b[0m \u001b[0m__eq__\u001b[0m\u001b[1;33m(\u001b[0m\u001b[0mself\u001b[0m\u001b[1;33m,\u001b[0m \u001b[0mother\u001b[0m\u001b[1;33m)\u001b[0m\u001b[1;33m:\u001b[0m\u001b[1;33m\u001b[0m\u001b[1;33m\u001b[0m\u001b[0m\n\u001b[1;32m---> 40\u001b[1;33m         \u001b[1;32mreturn\u001b[0m \u001b[0mself\u001b[0m\u001b[1;33m.\u001b[0m\u001b[0m_cmp_method\u001b[0m\u001b[1;33m(\u001b[0m\u001b[0mother\u001b[0m\u001b[1;33m,\u001b[0m \u001b[0moperator\u001b[0m\u001b[1;33m.\u001b[0m\u001b[0meq\u001b[0m\u001b[1;33m)\u001b[0m\u001b[1;33m\u001b[0m\u001b[1;33m\u001b[0m\u001b[0m\n\u001b[0m",
      "\u001b[1;32mc:\\Users\\00113294\\Anaconda3\\envs\\my_env\\Lib\\site-packages\\pandas\\core\\frame.py\u001b[0m in \u001b[0;36m?\u001b[1;34m(self, other, op)\u001b[0m\n\u001b[0;32m   7894\u001b[0m     \u001b[1;32mdef\u001b[0m \u001b[0m_cmp_method\u001b[0m\u001b[1;33m(\u001b[0m\u001b[0mself\u001b[0m\u001b[1;33m,\u001b[0m \u001b[0mother\u001b[0m\u001b[1;33m,\u001b[0m \u001b[0mop\u001b[0m\u001b[1;33m)\u001b[0m\u001b[1;33m:\u001b[0m\u001b[1;33m\u001b[0m\u001b[1;33m\u001b[0m\u001b[0m\n\u001b[0;32m   7895\u001b[0m         \u001b[0maxis\u001b[0m\u001b[1;33m:\u001b[0m \u001b[0mLiteral\u001b[0m\u001b[1;33m[\u001b[0m\u001b[1;36m1\u001b[0m\u001b[1;33m]\u001b[0m \u001b[1;33m=\u001b[0m \u001b[1;36m1\u001b[0m  \u001b[1;31m# only relevant for Series other case\u001b[0m\u001b[1;33m\u001b[0m\u001b[1;33m\u001b[0m\u001b[0m\n\u001b[0;32m   7896\u001b[0m \u001b[1;33m\u001b[0m\u001b[0m\n\u001b[1;32m-> 7897\u001b[1;33m         \u001b[0mself\u001b[0m\u001b[1;33m,\u001b[0m \u001b[0mother\u001b[0m \u001b[1;33m=\u001b[0m \u001b[0mself\u001b[0m\u001b[1;33m.\u001b[0m\u001b[0m_align_for_op\u001b[0m\u001b[1;33m(\u001b[0m\u001b[0mother\u001b[0m\u001b[1;33m,\u001b[0m \u001b[0maxis\u001b[0m\u001b[1;33m,\u001b[0m \u001b[0mflex\u001b[0m\u001b[1;33m=\u001b[0m\u001b[1;32mFalse\u001b[0m\u001b[1;33m,\u001b[0m \u001b[0mlevel\u001b[0m\u001b[1;33m=\u001b[0m\u001b[1;32mNone\u001b[0m\u001b[1;33m)\u001b[0m\u001b[1;33m\u001b[0m\u001b[1;33m\u001b[0m\u001b[0m\n\u001b[0m\u001b[0;32m   7898\u001b[0m \u001b[1;33m\u001b[0m\u001b[0m\n\u001b[0;32m   7899\u001b[0m         \u001b[1;31m# See GH#4537 for discussion of scalar op behavior\u001b[0m\u001b[1;33m\u001b[0m\u001b[1;33m\u001b[0m\u001b[0m\n\u001b[0;32m   7900\u001b[0m         \u001b[0mnew_data\u001b[0m \u001b[1;33m=\u001b[0m \u001b[0mself\u001b[0m\u001b[1;33m.\u001b[0m\u001b[0m_dispatch_frame_op\u001b[0m\u001b[1;33m(\u001b[0m\u001b[0mother\u001b[0m\u001b[1;33m,\u001b[0m \u001b[0mop\u001b[0m\u001b[1;33m,\u001b[0m \u001b[0maxis\u001b[0m\u001b[1;33m=\u001b[0m\u001b[0maxis\u001b[0m\u001b[1;33m)\u001b[0m\u001b[1;33m\u001b[0m\u001b[1;33m\u001b[0m\u001b[0m\n",
      "\u001b[1;32mc:\\Users\\00113294\\Anaconda3\\envs\\my_env\\Lib\\site-packages\\pandas\\core\\frame.py\u001b[0m in \u001b[0;36m?\u001b[1;34m(self, other, axis, flex, level)\u001b[0m\n\u001b[0;32m   8192\u001b[0m                     left, right = left.align(\n\u001b[0;32m   8193\u001b[0m                         \u001b[0mright\u001b[0m\u001b[1;33m,\u001b[0m \u001b[0mjoin\u001b[0m\u001b[1;33m=\u001b[0m\u001b[1;34m\"outer\"\u001b[0m\u001b[1;33m,\u001b[0m \u001b[0mlevel\u001b[0m\u001b[1;33m=\u001b[0m\u001b[0mlevel\u001b[0m\u001b[1;33m,\u001b[0m \u001b[0mcopy\u001b[0m\u001b[1;33m=\u001b[0m\u001b[1;32mFalse\u001b[0m\u001b[1;33m\u001b[0m\u001b[1;33m\u001b[0m\u001b[0m\n\u001b[0;32m   8194\u001b[0m                     \u001b[1;33m)\u001b[0m\u001b[1;33m\u001b[0m\u001b[1;33m\u001b[0m\u001b[0m\n\u001b[0;32m   8195\u001b[0m                 \u001b[1;32melse\u001b[0m\u001b[1;33m:\u001b[0m\u001b[1;33m\u001b[0m\u001b[1;33m\u001b[0m\u001b[0m\n\u001b[1;32m-> 8196\u001b[1;33m                     raise ValueError(\n\u001b[0m\u001b[0;32m   8197\u001b[0m                         \u001b[1;34m\"Can only compare identically-labeled (both index and columns) \"\u001b[0m\u001b[1;33m\u001b[0m\u001b[1;33m\u001b[0m\u001b[0m\n\u001b[0;32m   8198\u001b[0m                         \u001b[1;34m\"DataFrame objects\"\u001b[0m\u001b[1;33m\u001b[0m\u001b[1;33m\u001b[0m\u001b[0m\n\u001b[0;32m   8199\u001b[0m                     \u001b[1;33m)\u001b[0m\u001b[1;33m\u001b[0m\u001b[1;33m\u001b[0m\u001b[0m\n",
      "\u001b[1;31mValueError\u001b[0m: Can only compare identically-labeled (both index and columns) DataFrame objects"
     ]
    }
   ],
   "source": [
    "# Compare metadata, not including variables that were created or deleted, and renaming the old variables to match for comparison\n",
    "\n",
    "old_cols = [col for col in meta_old.columns if col not in DELETE]\n",
    "new_cols = [col for col in meta_new.columns if col not in CREATE]\n",
    "metax = meta_new[new_cols].compare(meta_old[old_cols].rename(RENAME))\n",
    "metax"
   ]
  }
 ],
 "metadata": {
  "kernelspec": {
   "display_name": "my_env",
   "language": "python",
   "name": "python3"
  },
  "language_info": {
   "codemirror_mode": {
    "name": "ipython",
    "version": 3
   },
   "file_extension": ".py",
   "mimetype": "text/x-python",
   "name": "python",
   "nbconvert_exporter": "python",
   "pygments_lexer": "ipython3",
   "version": "3.12.4"
  }
 },
 "nbformat": 4,
 "nbformat_minor": 2
}
