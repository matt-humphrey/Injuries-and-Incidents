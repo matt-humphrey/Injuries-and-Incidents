{
 "cells": [
  {
   "cell_type": "markdown",
   "metadata": {},
   "source": [
    "# G201"
   ]
  },
  {
   "cell_type": "markdown",
   "metadata": {},
   "source": [
    "## Set up"
   ]
  },
  {
   "cell_type": "code",
   "execution_count": 1,
   "metadata": {},
   "outputs": [],
   "source": [
    "from fastcore.test import *\n",
    "from fastcore.utils import *\n",
    "import pandas as pd\n",
    "from pandas import DataFrame\n",
    "import numpy as np\n",
    "import pyspssio\n",
    "\n",
    "import raine_tools as rn\n",
    "from data_harmonising.data import *\n",
    "from data_harmonising.transforms import *\n",
    "from data_harmonising.tests import *\n",
    "\n",
    "from src.config import WORKBOOK, SHEETNAME"
   ]
  },
  {
   "cell_type": "code",
   "execution_count": 2,
   "metadata": {},
   "outputs": [],
   "source": [
    "INPUT = \"../data/raw/G201_Quest_PA.sav\"\n",
    "OUTPUT = \"../data/interim/G201_Quest_PA.sav\""
   ]
  },
  {
   "cell_type": "code",
   "execution_count": 3,
   "metadata": {},
   "outputs": [],
   "source": [
    "df, meta = read_sav(INPUT, index=\"ID\")"
   ]
  },
  {
   "cell_type": "markdown",
   "metadata": {},
   "source": [
    "## Data exploration"
   ]
  },
  {
   "cell_type": "markdown",
   "metadata": {},
   "source": [
    "### The strange case of `G201_IF13`"
   ]
  },
  {
   "cell_type": "markdown",
   "metadata": {},
   "source": [
    "Why does `G201_IF13` exist, especially when there's no corresponding `G201_IC13`?  \n",
    "Furthermore, the values don't align with the previous IC? variables."
   ]
  },
  {
   "cell_type": "code",
   "execution_count": 4,
   "metadata": {},
   "outputs": [
    {
     "data": {
      "text/plain": [
       "G201_IF13\n",
       "0.0          2414\n",
       "9.0            27\n",
       "1.0             4\n",
       "2.0             1\n",
       "Name: count, dtype: int64"
      ]
     },
     "execution_count": 4,
     "metadata": {},
     "output_type": "execute_result"
    }
   ],
   "source": [
    "df.loc[:, [\"G201_IF13\"]].value_counts() "
   ]
  },
  {
   "cell_type": "markdown",
   "metadata": {},
   "source": [
    "For all other cases of `G201_IF1` to `G201_IF12`, a 0 means that the incident is related to the incident in the previous IF? variable.  \n",
    "When `G201_IF13` is 0, the majority of cases were N/A, and values range across the board; this doesn't fit with the existing logic."
   ]
  },
  {
   "cell_type": "code",
   "execution_count": 5,
   "metadata": {},
   "outputs": [
    {
     "data": {
      "text/plain": [
       "G201_IF12  G201_IF13\n",
       "88.0       0.0          2404\n",
       "1.0        0.0             6\n",
       "0.0        0.0             2\n",
       "2.0        0.0             1\n",
       "999.0      0.0             1\n",
       "Name: count, dtype: int64"
      ]
     },
     "execution_count": 5,
     "metadata": {},
     "output_type": "execute_result"
    }
   ],
   "source": [
    "df.loc[df[\"G201_IF13\"] == 0, \"G201_IF12\":\"G201_IF13\"].value_counts()"
   ]
  },
  {
   "cell_type": "markdown",
   "metadata": {},
   "source": [
    "At least when `G201_IF13` is missing (9), the previous value was also missing (999)."
   ]
  },
  {
   "cell_type": "code",
   "execution_count": 6,
   "metadata": {},
   "outputs": [
    {
     "data": {
      "text/plain": [
       "G201_IF12  G201_IF13\n",
       "999.0      9.0          27\n",
       "Name: count, dtype: int64"
      ]
     },
     "execution_count": 6,
     "metadata": {},
     "output_type": "execute_result"
    }
   ],
   "source": [
    "df.loc[df[\"G201_IF13\"] == 9, \"G201_IF12\":\"G201_IF13\"].value_counts()"
   ]
  },
  {
   "cell_type": "markdown",
   "metadata": {},
   "source": [
    "Finally, when `G201_IF13` is 1 or 2, the previous values are 0 or 1; this doesn't specifically highlight any errors."
   ]
  },
  {
   "cell_type": "code",
   "execution_count": 7,
   "metadata": {},
   "outputs": [
    {
     "data": {
      "text/plain": [
       "G201_IF12  G201_IF13\n",
       "1.0        1.0          3\n",
       "0.0        1.0          1\n",
       "1.0        2.0          1\n",
       "Name: count, dtype: int64"
      ]
     },
     "execution_count": 7,
     "metadata": {},
     "output_type": "execute_result"
    }
   ],
   "source": [
    "df.loc[df[\"G201_IF13\"].between(1, 2), \"G201_IF12\":\"G201_IF13\"].value_counts()"
   ]
  },
  {
   "cell_type": "markdown",
   "metadata": {},
   "source": [
    "`G201_IF13` does not align with the previous values, and there are clear logical discrepancies.  \n",
    "Given there is no corresponding `G201_IC13` to explain the few instances of a 1 or 2, and the 0s appear to be unreliable, I plan to drop it."
   ]
  },
  {
   "cell_type": "markdown",
   "metadata": {},
   "source": [
    "### Check if there are variables that don't contain data\n",
    "\n",
    "Verify that all columns contain at least one row with data, and drop any that don't."
   ]
  },
  {
   "cell_type": "markdown",
   "metadata": {},
   "source": [
    "`G201_IF12` and `G201_IC12` contain values."
   ]
  },
  {
   "cell_type": "code",
   "execution_count": 8,
   "metadata": {},
   "outputs": [
    {
     "data": {
      "text/plain": [
       "G201_IF12\n",
       "88.0     2404\n",
       "999.0      28\n",
       "1.0        10\n",
       "0.0         3\n",
       "2.0         1\n",
       "Name: count, dtype: int64"
      ]
     },
     "execution_count": 8,
     "metadata": {},
     "output_type": "execute_result"
    }
   ],
   "source": [
    "df[\"G201_IF12\"].value_counts()"
   ]
  },
  {
   "cell_type": "markdown",
   "metadata": {},
   "source": [
    "`G201_INF5` and `G201_INC5` don't contain data: **drop them**."
   ]
  },
  {
   "cell_type": "code",
   "execution_count": 9,
   "metadata": {},
   "outputs": [
    {
     "data": {
      "text/plain": [
       "G201_INF5\n",
       "0.0      2423\n",
       "999.0      23\n",
       "Name: count, dtype: int64"
      ]
     },
     "execution_count": 9,
     "metadata": {},
     "output_type": "execute_result"
    }
   ],
   "source": [
    "df[\"G201_INF5\"].value_counts()"
   ]
  },
  {
   "cell_type": "markdown",
   "metadata": {},
   "source": [
    "`G201_HOH6`, `G201_HOC6`, and `G201_HOF6` contain values."
   ]
  },
  {
   "cell_type": "code",
   "execution_count": 10,
   "metadata": {},
   "outputs": [
    {
     "data": {
      "text/plain": [
       "G201_HOH6\n",
       "0.0      2416\n",
       "999.0      22\n",
       "103.0       6\n",
       "631.0       1\n",
       "104.0       1\n",
       "Name: count, dtype: int64"
      ]
     },
     "execution_count": 10,
     "metadata": {},
     "output_type": "execute_result"
    }
   ],
   "source": [
    "df[\"G201_HOH6\"].value_counts()"
   ]
  },
  {
   "cell_type": "markdown",
   "metadata": {},
   "source": [
    "### Checking that IF? and IC? variables are correctly aligned"
   ]
  },
  {
   "cell_type": "code",
   "execution_count": 11,
   "metadata": {},
   "outputs": [],
   "source": [
    "IF_ROWS = ['G201_IF1', 'G201_IF2', 'G201_IF3', 'G201_IF4', 'G201_IF5', 'G201_IF6',\n",
    "           'G201_IF7', 'G201_IF8', 'G201_IF9', 'G201_IF10', 'G201_IF11', 'G201_IF12']\n",
    "\n",
    "IC_ROWS = ['G201_IC1', 'G201_IC2', 'G201_IC3', 'G201_IC4', 'G201_IC5', 'G201_IC6',\n",
    "           'G201_IC7', 'G201_IC8', 'G201_IC9', 'G201_IC10', 'G201_IC11', 'G201_IC12']"
   ]
  },
  {
   "cell_type": "markdown",
   "metadata": {},
   "source": [
    "If `G201_IC?` is N/A (\"88888\"), the corresponding `G201_IF?` should also be N/A (88).  \n",
    "Else if `G201_IC?` is Missing (\"99999\"), the corresponding `G201_IF?` should also be Missing (999).    \n",
    "Otherwise, the corresponding `G201_IF?` should not be N/A or Missing."
   ]
  },
  {
   "cell_type": "code",
   "execution_count": 12,
   "metadata": {},
   "outputs": [],
   "source": [
    "for n in range(1, 13): \n",
    "    assert (df.loc[df[f\"G201_IC{n}\"] == \"88888\", f\"G201_IF{n}\"] == 88).all()\n",
    "    assert (df.loc[df[f\"G201_IC{n}\"] == \"99999\", f\"G201_IF{n}\"] == 999).all()\n",
    "    assert not df.loc[~df[f\"G201_IC{n}\"].isin([\"88888\", \"99999\"]), f\"G201_IF{n}\"].isin([88, 999]).all()"
   ]
  },
  {
   "cell_type": "markdown",
   "metadata": {},
   "source": [
    "The reverse of this should also be true, such that if `G201_IF?` is N/A, the corresponding `G201_IC?` value should also be N/A, and so on."
   ]
  },
  {
   "cell_type": "code",
   "execution_count": 13,
   "metadata": {},
   "outputs": [],
   "source": [
    "for n in range(1, 13): \n",
    "    assert (df.loc[df[f\"G201_IF{n}\"] == 88, f\"G201_IC{n}\"] == \"88888\").all()\n",
    "    assert (df.loc[df[f\"G201_IF{n}\"] == 999, f\"G201_IC{n}\"] == \"99999\").all()\n",
    "    assert not df.loc[~df[f\"G201_IF{n}\"].isin([88, 999]), f\"G201_IC{n}\"].isin([\"88888\", \"99999\"]).all()"
   ]
  },
  {
   "cell_type": "markdown",
   "metadata": {},
   "source": [
    "If `G201_IF1` is No (0), then remaining `G201_IF?` values should be N/A (88).  \n",
    "However, a single instance of this was located at ID 10080. "
   ]
  },
  {
   "cell_type": "code",
   "execution_count": 14,
   "metadata": {},
   "outputs": [
    {
     "data": {
      "text/html": [
       "<div>\n",
       "<style scoped>\n",
       "    .dataframe tbody tr th:only-of-type {\n",
       "        vertical-align: middle;\n",
       "    }\n",
       "\n",
       "    .dataframe tbody tr th {\n",
       "        vertical-align: top;\n",
       "    }\n",
       "\n",
       "    .dataframe thead th {\n",
       "        text-align: right;\n",
       "    }\n",
       "</style>\n",
       "<table border=\"1\" class=\"dataframe\">\n",
       "  <thead>\n",
       "    <tr style=\"text-align: right;\">\n",
       "      <th></th>\n",
       "      <th>G201_IC1</th>\n",
       "      <th>G201_IC2</th>\n",
       "      <th>G201_IC3</th>\n",
       "      <th>G201_IC4</th>\n",
       "      <th>G201_IC5</th>\n",
       "      <th>G201_IF1</th>\n",
       "      <th>G201_IF2</th>\n",
       "      <th>G201_IF3</th>\n",
       "      <th>G201_IF4</th>\n",
       "      <th>G201_IF5</th>\n",
       "    </tr>\n",
       "    <tr>\n",
       "      <th>ID</th>\n",
       "      <th></th>\n",
       "      <th></th>\n",
       "      <th></th>\n",
       "      <th></th>\n",
       "      <th></th>\n",
       "      <th></th>\n",
       "      <th></th>\n",
       "      <th></th>\n",
       "      <th></th>\n",
       "      <th></th>\n",
       "    </tr>\n",
       "  </thead>\n",
       "  <tbody>\n",
       "    <tr>\n",
       "      <th>10080.0</th>\n",
       "      <td>69100</td>\n",
       "      <td>69290</td>\n",
       "      <td>88888</td>\n",
       "      <td>88888</td>\n",
       "      <td>88888</td>\n",
       "      <td>0.0</td>\n",
       "      <td>1.0</td>\n",
       "      <td>88.0</td>\n",
       "      <td>88.0</td>\n",
       "      <td>88.0</td>\n",
       "    </tr>\n",
       "  </tbody>\n",
       "</table>\n",
       "</div>"
      ],
      "text/plain": [
       "        G201_IC1 G201_IC2 G201_IC3 G201_IC4 G201_IC5  G201_IF1  G201_IF2  \\\n",
       "ID                                                                         \n",
       "10080.0    69100    69290    88888    88888    88888       0.0       1.0   \n",
       "\n",
       "         G201_IF3  G201_IF4  G201_IF5  \n",
       "ID                                     \n",
       "10080.0      88.0      88.0      88.0  "
      ]
     },
     "execution_count": 14,
     "metadata": {},
     "output_type": "execute_result"
    }
   ],
   "source": [
    "df.loc[df[\"G201_IF1\"] == 0].filter(regex=r'I(C|F)[1-5]\\b')"
   ]
  },
  {
   "cell_type": "markdown",
   "metadata": {},
   "source": [
    "For ID 10080, given both conditions are interrelatated (dermatitis), I believe it's likely the participant would have seen the doctor once for both cases.  \n",
    "Therefore, it makes sense to change IF1 to 1 and IF2 to 0."
   ]
  },
  {
   "cell_type": "code",
   "execution_count": 15,
   "metadata": {},
   "outputs": [],
   "source": [
    "idx = [10080]\n",
    "df.loc[idx, \"G201_IF1\"] = 1\n",
    "df.loc[idx, \"G201_IF2\"] = 0"
   ]
  },
  {
   "cell_type": "markdown",
   "metadata": {},
   "source": [
    "Participants with IDs 17890, 19270, and 20370 had missing values in place of N/A values, detected during testing process."
   ]
  },
  {
   "cell_type": "code",
   "execution_count": 16,
   "metadata": {},
   "outputs": [],
   "source": [
    "idx = [17890, 19270, 20370]\n",
    "df.loc[idx, \"G201_IC1\":\"G201_IF12\"] = df.loc[idx, \"G201_IC1\":\"G201_IF12\"].replace({\"99999\": \"88888\", 999: 88})"
   ]
  },
  {
   "cell_type": "code",
   "execution_count": 17,
   "metadata": {},
   "outputs": [],
   "source": [
    "# If any IF or IC value is missing, all others in that row are also missing\n",
    "for index, row in df.iterrows():\n",
    "    if row[IF_ROWS].isin([999]).any():\n",
    "        assert row[IF_ROWS].isin([999]).all(), f\"ID {index}: Not all IF values are missing when one is missing.\"\n",
    "    if row[IC_ROWS].isin(['99999']).any():\n",
    "        assert row[IC_ROWS].isin(['99999']).all(), f\"ID {index}: Not all IC values are missing when one is missing.\""
   ]
  },
  {
   "cell_type": "markdown",
   "metadata": {},
   "source": [
    "ID 11642: two values for IF and IC that follow a N/A value.\n",
    "It appears a couple of cells of data were accidentally copied down a line, for IF3, IF4, IC3 and IC4.\n",
    "\n",
    "ID 23180: one value for IF and IC that follows a N/A value.\n",
    "Given IF4 and IC4 match IF2 and IC2, and there's a N/A value in-between, it seems likely they've been accidentally copied over."
   ]
  },
  {
   "cell_type": "code",
   "execution_count": 18,
   "metadata": {},
   "outputs": [],
   "source": [
    "df.loc[11642, [\"G201_IF3\", \"G201_IF4\"]] = 88\n",
    "df.loc[11642, [\"G201_IC3\", \"G201_IC4\"]] = \"88888\"\n",
    "\n",
    "df.loc[23180, [\"G201_IF4\"]] = 88\n",
    "df.loc[23180, [\"G201_IC4\"]] = \"88888\""
   ]
  },
  {
   "cell_type": "code",
   "execution_count": 19,
   "metadata": {},
   "outputs": [],
   "source": [
    "# If any IF or IC value is N/A, all following values are also N/A\n",
    "for index, row in df.iterrows():\n",
    "    if row[IF_ROWS].isin([88]).any():\n",
    "        assert row[IF_ROWS].loc[row[IF_ROWS].isin([88]).idxmax():].isin([88]).all(), f\"Row {index}: Not all following IF values are N/A.\"\n",
    "    if row[IC_ROWS].isin(['88888']).any():\n",
    "        assert row[IC_ROWS].loc[row[IC_ROWS].isin(['88888']).idxmax():].isin(['88888']).all(), f\"Row {index}: Not all following IC values are N/A.\""
   ]
  },
  {
   "cell_type": "markdown",
   "metadata": {},
   "source": [
    "Finally, confirm that if the first variable for all of `G201_IF1`, `G201_INF1`, and `G201_HOF1` are 88, all subsequent values are 88."
   ]
  },
  {
   "cell_type": "code",
   "execution_count": 20,
   "metadata": {},
   "outputs": [],
   "source": [
    "assert all(df.loc[df[\"G201_IF1\"] == 88, \"G201_IF1\":\"G201_IF12\"] == 88)\n",
    "assert all(df.loc[df[\"G201_INF1\"] == 88, \"G201_INF1\":\"G201_INF5\"] == 88)\n",
    "assert all(df.loc[df[\"G201_HOF1\"] == 88, \"G201_HOF1\":\"G201_HOF6\"] == 88)"
   ]
  },
  {
   "cell_type": "markdown",
   "metadata": {},
   "source": [
    "### Check ICD9 codes"
   ]
  },
  {
   "cell_type": "markdown",
   "metadata": {},
   "source": [
    "Verify all `INC1` codes are either E- or V-codes."
   ]
  },
  {
   "cell_type": "code",
   "execution_count": 21,
   "metadata": {},
   "outputs": [],
   "source": [
    "dfx = df.loc[~df[\"G201_INC1\"].isin([\"88888\", \"99999\"]), \"G201_INC1\"].copy()\n",
    "assert np.all(dfx.str.startswith((\"E\", \"V\")))"
   ]
  },
  {
   "cell_type": "markdown",
   "metadata": {},
   "source": [
    "Verify all cases where no frequency for illness was reported is aligned with no ICD-9 code for that illness being reported.  \n",
    "Do the same for injuries, and hospital admissions."
   ]
  },
  {
   "cell_type": "code",
   "execution_count": null,
   "metadata": {},
   "outputs": [],
   "source": [
    "test_eq(np.where(df[\"G201_IF1\"] == 88), np.where(df[\"G201_IC1\"] == \"88888\"))\n",
    "# test_eq(np.where(df[\"G201_INF1\"] == 0), np.where(df[\"G201_INC1\"] == \"88888\"))\n",
    "# test_eq(np.where(df[\"G201_HOF1\"] == 0), np.where(df[\"G201_HOC1\"] == \"88888\"))"
   ]
  },
  {
   "cell_type": "markdown",
   "metadata": {},
   "source": [
    "There are 29 cases where `G201_IC1` is N/A where `G201_IF1` is not 0; the variables are misaligned.\n",
    "This could be because the IF1 value is incorrect, there have been errors introduced into the data, or perhaps missing data was incorrectly labelled as N/A.\n",
    "Without further information available, this data has been left as is, and is up to researchers to determine how to respond."
   ]
  },
  {
   "cell_type": "code",
   "execution_count": null,
   "metadata": {},
   "outputs": [
    {
     "data": {
      "text/plain": [
       "Index([21950.0, 23570.0, 51750.0, 52020.0, 52031.0, 52060.0, 52080.0, 52120.0,\n",
       "       52140.0, 52170.0, 53200.0, 53340.0, 53360.0, 53450.0, 53460.0, 53490.0,\n",
       "       53500.0, 53560.0, 53590.0, 53600.0, 53720.0, 53790.0, 53880.0, 53890.0,\n",
       "       54230.0, 54250.0, 54350.0, 54400.0, 54470.0],\n",
       "      dtype='float64', name='ID')"
      ]
     },
     "metadata": {},
     "output_type": "display_data"
    }
   ],
   "source": [
    "df.loc[(df[\"G201_INF1\"] != 0) & (df[\"G201_INC1\"] == \"88888\")].index"
   ]
  },
  {
   "cell_type": "markdown",
   "metadata": {},
   "source": [
    "The problem is extremely pronounced for hospital admissions.\n",
    "There is a huge range of cases where there is misalignment; the frequency is 0 when there is a valid ICD-9 code and hospital code, and in other instances, there is a frequency of 1 or more when there is no valid ICD-9 code and/or hospital code.\n",
    "Comparing back to a previous, superseded version of the dataset from 2013 shows this data hasn't been changed in that time.\n",
    "Therefore, this is either reflective of the data that was captured, or errors introduced earlier than 2013, meaning they can't be verified.\n",
    "As such, I will again leave the data as is, and leave it to researchers to respond appropriately."
   ]
  },
  {
   "cell_type": "code",
   "execution_count": null,
   "metadata": {},
   "outputs": [
    {
     "name": "stdout",
     "output_type": "stream",
     "text": [
      "         G201_HOF1 G201_HOC1  G201_HOH1\n",
      "ID                                     \n",
      "10060.0        1.0     46610        0.0\n",
      "10180.0        1.0     03390        0.0\n",
      "10210.0        1.0     S4572        0.0\n",
      "10290.0        1.0     S2161        0.0\n",
      "10510.0        1.0     78060        0.0\n",
      "...            ...       ...        ...\n",
      "54350.0        1.0     88888        0.0\n",
      "54360.0        1.0     88888        0.0\n",
      "54400.0        1.0     88888        0.0\n",
      "54530.0        1.0     88888        0.0\n",
      "54540.0        1.0     88888        0.0\n",
      "\n",
      "[164 rows x 3 columns]\n",
      "\n",
      "         G201_HOF2 G201_HOC2  G201_HOH2\n",
      "ID                                     \n",
      "10290.0        0.0     S2830        0.0\n",
      "10610.0        1.0     S2759        0.0\n",
      "10840.0        1.0     51980        0.0\n",
      "11010.0        1.0     78030        0.0\n",
      "11030.0        1.0     78030        0.0\n",
      "...            ...       ...        ...\n",
      "52790.0        1.0     S0943        0.0\n",
      "53380.0        1.0     88888        0.0\n",
      "53630.0        1.0     88888        0.0\n",
      "54062.0        1.0     88888        0.0\n",
      "54220.0        0.0     07990      103.0\n",
      "\n",
      "[96 rows x 3 columns]\n",
      "\n",
      "         G201_HOF3 G201_HOC3  G201_HOH3\n",
      "ID                                     \n",
      "10290.0        0.0     S2001        0.0\n",
      "11060.0        0.0     13300      102.0\n",
      "11220.0        0.0     S0820        0.0\n",
      "15130.0        0.0     S9903      103.0\n",
      "16110.0        0.0     00900      103.0\n",
      "16780.0        0.0     S1698      985.0\n",
      "17420.0        0.0     74550      103.0\n",
      "18530.0        0.0     S3323      103.0\n",
      "20540.0        0.0     30730      631.0\n",
      "22970.0        0.0     S9214      103.0\n",
      "45260.0        0.0     59900      103.0\n",
      "46330.0        0.0     78340      103.0\n",
      "46390.0        0.0     27130      103.0\n",
      "47660.0        0.0     S9023      103.0\n",
      "47850.0        0.0     77460      103.0\n",
      "49270.0        0.0     S3129      103.0\n",
      "49330.0        0.0     38290      103.0\n",
      "49410.0        0.0     S2001      103.0\n",
      "50920.0        0.0     S8717      102.0\n",
      "52640.0        0.0     V7180      102.0\n",
      "54500.0        0.0     78610      103.0\n",
      "\n",
      "         G201_HOF4 G201_HOC4  G201_HOH4\n",
      "ID                                     \n",
      "18740.0        0.0     51980      103.0\n",
      "22910.0        0.0     53010      203.0\n",
      "23840.0        0.0     37230      103.0\n",
      "45260.0        0.0     S4824      103.0\n",
      "46920.0        0.0     25110      103.0\n",
      "47660.0        0.0     59900      103.0\n",
      "47980.0        0.0     53010      102.0\n",
      "50920.0        0.0     S8703      102.0\n",
      "52280.0        0.0     S2759      103.0\n",
      "54500.0        1.0     88888        0.0\n",
      "\n",
      "         G201_HOF5 G201_HOC5  G201_HOH5\n",
      "ID                                     \n",
      "40690.0        0.0     78340      103.0\n",
      "46920.0        0.0     31590      103.0\n",
      "\n",
      "         G201_HOF6 G201_HOC6  G201_HOH6\n",
      "ID                                     \n",
      "40690.0        0.0     27130      103.0\n",
      "46330.0        0.0     55890      103.0\n",
      "54590.0        0.0     37600      103.0\n",
      "\n"
     ]
    }
   ],
   "source": [
    "vars = [\n",
    "    (\"G201_HOF1\", \"G201_HOC1\", \"G201_HOH1\"),\n",
    "    (\"G201_HOF2\", \"G201_HOC2\", \"G201_HOH2\"),\n",
    "    (\"G201_HOF3\", \"G201_HOC3\", \"G201_HOH3\"),\n",
    "    (\"G201_HOF4\", \"G201_HOC4\", \"G201_HOH4\"),\n",
    "    (\"G201_HOF5\", \"G201_HOC5\", \"G201_HOH5\"),\n",
    "    (\"G201_HOF6\", \"G201_HOC6\", \"G201_HOH6\"),\n",
    "]\n",
    "\n",
    "for a, b, c in vars:\n",
    "    m1 = (df[a] == 0) & (df[b] == \"88888\") & (df[c] == 0)\n",
    "    m2 = (df[a] == 0) | (df[b] == \"88888\") | (df[c] == 0)\n",
    "    print(df.loc[~m1 & m2, [a, b, c]])\n",
    "    print(\"\")"
   ]
  },
  {
   "cell_type": "code",
   "execution_count": 158,
   "metadata": {},
   "outputs": [
    {
     "data": {
      "text/html": [
       "<div>\n",
       "<style scoped>\n",
       "    .dataframe tbody tr th:only-of-type {\n",
       "        vertical-align: middle;\n",
       "    }\n",
       "\n",
       "    .dataframe tbody tr th {\n",
       "        vertical-align: top;\n",
       "    }\n",
       "\n",
       "    .dataframe thead th {\n",
       "        text-align: right;\n",
       "    }\n",
       "</style>\n",
       "<table border=\"1\" class=\"dataframe\">\n",
       "  <thead>\n",
       "    <tr style=\"text-align: right;\">\n",
       "      <th></th>\n",
       "      <th>G201_HOF6</th>\n",
       "      <th>G201_HOC6</th>\n",
       "      <th>G201_HOH6</th>\n",
       "    </tr>\n",
       "    <tr>\n",
       "      <th>ID</th>\n",
       "      <th></th>\n",
       "      <th></th>\n",
       "      <th></th>\n",
       "    </tr>\n",
       "  </thead>\n",
       "  <tbody>\n",
       "    <tr>\n",
       "      <th>40690.0</th>\n",
       "      <td>0.0</td>\n",
       "      <td>27130</td>\n",
       "      <td>103.0</td>\n",
       "    </tr>\n",
       "    <tr>\n",
       "      <th>46330.0</th>\n",
       "      <td>0.0</td>\n",
       "      <td>55890</td>\n",
       "      <td>103.0</td>\n",
       "    </tr>\n",
       "    <tr>\n",
       "      <th>54590.0</th>\n",
       "      <td>0.0</td>\n",
       "      <td>37600</td>\n",
       "      <td>103.0</td>\n",
       "    </tr>\n",
       "  </tbody>\n",
       "</table>\n",
       "</div>"
      ],
      "text/plain": [
       "         G201_HOF6 G201_HOC6  G201_HOH6\n",
       "ID                                     \n",
       "40690.0        0.0     27130      103.0\n",
       "46330.0        0.0     55890      103.0\n",
       "54590.0        0.0     37600      103.0"
      ]
     },
     "execution_count": 158,
     "metadata": {},
     "output_type": "execute_result"
    }
   ],
   "source": [
    "# For example, a subset of IDs with the aforementioned problems\n",
    "df.loc[[40690, 46330, 54590], [\"G201_HOF6\", \"G201_HOC6\", \"G201_HOH6\"]]"
   ]
  },
  {
   "cell_type": "markdown",
   "metadata": {},
   "source": [
    "## Create, Rename, and Delete Variables"
   ]
  },
  {
   "cell_type": "markdown",
   "metadata": {},
   "source": [
    "### Reading changes from the spreadsheet"
   ]
  },
  {
   "cell_type": "code",
   "execution_count": 22,
   "metadata": {},
   "outputs": [],
   "source": [
    "wb = pd.read_excel(WORKBOOK, sheet_name=SHEETNAME)\n",
    "wb['vn_old'] = wb['Dataset'] + '_' + wb['Variable Name']\n",
    "wb['vn_new'] = wb['Dataset'] + '_' + wb['Harmonised Variable Name']"
   ]
  },
  {
   "cell_type": "code",
   "execution_count": 23,
   "metadata": {},
   "outputs": [],
   "source": [
    "var_map = wb.loc[wb['Dataset'] == 'G201', [\"vn_old\", \"vn_new\"]].dropna()\n",
    "var_map = var_map.set_index(\"vn_old\").to_dict()[\"vn_new\"]"
   ]
  },
  {
   "cell_type": "markdown",
   "metadata": {},
   "source": [
    "### Create"
   ]
  },
  {
   "cell_type": "markdown",
   "metadata": {},
   "source": [
    "Create following binary variables (for all cases: in past 12 months that required a visit to hospital)\n",
    "- `G201_ILL`: illnesses or problems (Yes if `G201_IF1` is Yes); \n",
    "- `G201_INJ`: any accidents or injuries (Yes if `G201_INF1` is Yes); and\n",
    "- `G201_HOSP`: admitted to hospital (Yes if `G201_HO1` is Yes)"
   ]
  },
  {
   "cell_type": "code",
   "execution_count": 24,
   "metadata": {},
   "outputs": [],
   "source": [
    "conditions = [\n",
    "    # When the value for the conditional col is Missing (999) set to Missing\n",
    "    {\"condition\": 999, \"value\": 999},\n",
    "    # When value is N/A (88), set to 0 (No)\n",
    "    {\"condition\": 88, \"value\": 0},\n",
    "    # When value is No (0), retain the 0\n",
    "    {\"condition\": 0, \"value\": 0},\n",
    "    # When value is neither No, N/A nor Missing, set to 1 (Yes)\n",
    "    {\"condition\": lambda x: x not in [0, 88, 999], \"value\": 1}\n",
    "]\n",
    "\n",
    "CREATE = [\n",
    "    {\n",
    "        \"target_col\": \"G201_ILL\",\n",
    "        \"condition_col\": \"G201_IF1\",\n",
    "        \"conditions\": conditions\n",
    "    },\n",
    "    {\n",
    "        \"target_col\": \"G201_INJ\",\n",
    "        \"condition_col\": \"G201_INF1\",\n",
    "        \"conditions\": conditions\n",
    "    },\n",
    "    {\n",
    "        \"target_col\": \"G201_HOSP\",\n",
    "        \"condition_col\": \"G201_HOF1\",\n",
    "        \"conditions\": conditions\n",
    "    }\n",
    "]"
   ]
  },
  {
   "cell_type": "code",
   "execution_count": 25,
   "metadata": {},
   "outputs": [],
   "source": [
    "df, meta = create_variables(df, meta, CREATE)"
   ]
  },
  {
   "cell_type": "markdown",
   "metadata": {},
   "source": [
    "Test to ensure changes were correctly implemented."
   ]
  },
  {
   "cell_type": "code",
   "execution_count": 26,
   "metadata": {},
   "outputs": [],
   "source": [
    "TEST = {\n",
    "    \"G201_ILL\": \"G201_IF1\", \n",
    "    \"G201_INJ\": \"G201_INF1\",\n",
    "    \"G201_HOSP\": \"G201_HOF1\"\n",
    "}\n",
    "\n",
    "for target_col, condition_col in TEST.items():\n",
    "    assert all(df.loc[~df[condition_col].isin([0, 88, 999]), target_col] == 1) \n",
    "    assert all(df.loc[df[condition_col] == 0, target_col] == 0)\n",
    "    assert all(df.loc[df[condition_col] == 88, target_col] == 0) \n",
    "    assert all(df.loc[df[condition_col] == 999, target_col] == 999) "
   ]
  },
  {
   "cell_type": "markdown",
   "metadata": {},
   "source": [
    "### Delete"
   ]
  },
  {
   "cell_type": "code",
   "execution_count": 27,
   "metadata": {},
   "outputs": [],
   "source": [
    "DELETE = [\n",
    "    \"DOB\", # should not be included in the dataset; captured in Longitudinal Data/Gen2_Ages.sav\n",
    "    \"G201_IF13\",\n",
    "    \"G201_INF5\",\n",
    "    \"G201_INC5\"\n",
    "]"
   ]
  },
  {
   "cell_type": "code",
   "execution_count": 28,
   "metadata": {},
   "outputs": [],
   "source": [
    "df, meta = delete_variables(df, meta, DELETE)"
   ]
  },
  {
   "cell_type": "markdown",
   "metadata": {},
   "source": [
    "### Rename Variables"
   ]
  },
  {
   "cell_type": "code",
   "execution_count": 29,
   "metadata": {},
   "outputs": [],
   "source": [
    "RENAME = {\n",
    "    'G201_IF1': 'G201_ILL_N_1',\n",
    "    'G201_IF2': 'G201_ILL_N_2',\n",
    "    'G201_IF3': 'G201_ILL_N_3',\n",
    "    'G201_IF4': 'G201_ILL_N_4',\n",
    "    'G201_IF5': 'G201_ILL_N_5',\n",
    "    'G201_IF6': 'G201_ILL_N_6',\n",
    "    'G201_IF7': 'G201_ILL_N_7',\n",
    "    'G201_IF8': 'G201_ILL_N_8',\n",
    "    'G201_IF9': 'G201_ILL_N_9',\n",
    "    'G201_IF10': 'G201_ILL_N_10',\n",
    "    'G201_IF11': 'G201_ILL_N_11',\n",
    "    'G201_IF12': 'G201_ILL_N_12',\n",
    "    'G201_IC1': 'G201_ILL_ICD9_1',\n",
    "    'G201_IC2': 'G201_ILL_ICD9_2',\n",
    "    'G201_IC3': 'G201_ILL_ICD9_3',\n",
    "    'G201_IC4': 'G201_ILL_ICD9_4',\n",
    "    'G201_IC5': 'G201_ILL_ICD9_5',\n",
    "    'G201_IC6': 'G201_ILL_ICD9_6',\n",
    "    'G201_IC7': 'G201_ILL_ICD9_7',\n",
    "    'G201_IC8': 'G201_ILL_ICD9_8',\n",
    "    'G201_IC9': 'G201_ILL_ICD9_9',\n",
    "    'G201_IC10': 'G201_ILL_ICD9_10',\n",
    "    'G201_IC11': 'G201_ILL_ICD9_11',\n",
    "    'G201_IC12': 'G201_ILL_ICD9_12',\n",
    "    'G201_INF1': 'G201_INJ_N_1',\n",
    "    'G201_INF2': 'G201_INJ_N_2',\n",
    "    'G201_INF3': 'G201_INJ_N_3',\n",
    "    'G201_INF4': 'G201_INJ_N_4',\n",
    "    'G201_INC1': 'G201_INJ_ICD9_1',\n",
    "    'G201_INC2': 'G201_INJ_ICD9_2',\n",
    "    'G201_INC3': 'G201_INJ_ICD9_3',\n",
    "    'G201_INC4': 'G201_INJ_ICD9_4',\n",
    "    'G201_HOH1': 'G201_HOSP_CODE_1',\n",
    "    'G201_HOH2': 'G201_HOSP_CODE_2',\n",
    "    'G201_HOH3': 'G201_HOSP_CODE_3',\n",
    "    'G201_HOH4': 'G201_HOSP_CODE_4',\n",
    "    'G201_HOH5': 'G201_HOSP_CODE_5',\n",
    "    'G201_HOH6': 'G201_HOSP_CODE_6',\n",
    "    'G201_HOC1': 'G201_HOSP_ICD9_1',\n",
    "    'G201_HOC2': 'G201_HOSP_ICD9_2',\n",
    "    'G201_HOC3': 'G201_HOSP_ICD9_3',\n",
    "    'G201_HOC4': 'G201_HOSP_ICD9_4',\n",
    "    'G201_HOC5': 'G201_HOSP_ICD9_5',\n",
    "    'G201_HOC6': 'G201_HOSP_ICD9_6',\n",
    "    'G201_HOF1': 'G201_HOSP_N_1',\n",
    "    'G201_HOF2': 'G201_HOSP_N_2',\n",
    "    'G201_HOF3': 'G201_HOSP_N_3',\n",
    "    'G201_HOF4': 'G201_HOSP_N_4',\n",
    "    'G201_HOF5': 'G201_HOSP_N_5',\n",
    "    'G201_HOF6': 'G201_HOSP_N_6'\n",
    "}"
   ]
  },
  {
   "cell_type": "code",
   "execution_count": 30,
   "metadata": {},
   "outputs": [],
   "source": [
    "df, meta = rename_variables(df, meta, RENAME)"
   ]
  },
  {
   "cell_type": "markdown",
   "metadata": {},
   "source": [
    "## Harmonise Metadata"
   ]
  },
  {
   "cell_type": "code",
   "execution_count": null,
   "metadata": {},
   "outputs": [
    {
     "data": {
      "text/html": [
       "<div>\n",
       "<style scoped>\n",
       "    .dataframe tbody tr th:only-of-type {\n",
       "        vertical-align: middle;\n",
       "    }\n",
       "\n",
       "    .dataframe tbody tr th {\n",
       "        vertical-align: top;\n",
       "    }\n",
       "\n",
       "    .dataframe thead th {\n",
       "        text-align: right;\n",
       "    }\n",
       "</style>\n",
       "<table border=\"1\" class=\"dataframe\">\n",
       "  <thead>\n",
       "    <tr style=\"text-align: right;\">\n",
       "      <th></th>\n",
       "      <th>G201_ILL_N_1</th>\n",
       "      <th>G201_ILL_N_2</th>\n",
       "      <th>G201_ILL_N_3</th>\n",
       "      <th>G201_ILL_N_4</th>\n",
       "      <th>G201_ILL_N_5</th>\n",
       "      <th>G201_ILL_N_6</th>\n",
       "      <th>G201_ILL_N_7</th>\n",
       "      <th>G201_ILL_N_8</th>\n",
       "      <th>G201_ILL_N_9</th>\n",
       "      <th>G201_ILL_N_10</th>\n",
       "      <th>...</th>\n",
       "      <th>G201_HOSP_ICD9_3</th>\n",
       "      <th>G201_HOSP_ICD9_4</th>\n",
       "      <th>G201_HOSP_ICD9_5</th>\n",
       "      <th>G201_HOSP_ICD9_6</th>\n",
       "      <th>G201_HOSP_N_1</th>\n",
       "      <th>G201_HOSP_N_2</th>\n",
       "      <th>G201_HOSP_N_3</th>\n",
       "      <th>G201_HOSP_N_4</th>\n",
       "      <th>G201_HOSP_N_5</th>\n",
       "      <th>G201_HOSP_N_6</th>\n",
       "    </tr>\n",
       "  </thead>\n",
       "  <tbody>\n",
       "    <tr>\n",
       "      <th>Label</th>\n",
       "      <td>Illness no.times</td>\n",
       "      <td>Illness no.times</td>\n",
       "      <td>Illness no.times</td>\n",
       "      <td>Illness no.times</td>\n",
       "      <td>Illness no.times</td>\n",
       "      <td>Illness no.times</td>\n",
       "      <td>Illness no.times</td>\n",
       "      <td>Illness no.times</td>\n",
       "      <td>Illness no.times</td>\n",
       "      <td>Illness no.times</td>\n",
       "      <td>...</td>\n",
       "      <td>Hospital ICD-9 code</td>\n",
       "      <td>Hospital ICD-9 code</td>\n",
       "      <td>Hospital ICD-9 code</td>\n",
       "      <td>Hospital ICD-9 code</td>\n",
       "      <td>Hospital Number of times</td>\n",
       "      <td>Hospital Number of times</td>\n",
       "      <td>Hospital Number of times</td>\n",
       "      <td>Hospital Number of times</td>\n",
       "      <td>Hospital Number of times</td>\n",
       "      <td>Hospital Number of times</td>\n",
       "    </tr>\n",
       "    <tr>\n",
       "      <th>Field Values</th>\n",
       "      <td>{999.0: 'missing'}</td>\n",
       "      <td>{0.0: 'Related to previous illnesses', 88.0: '...</td>\n",
       "      <td>{0.0: 'Related to previous illnesses', 88.0: '...</td>\n",
       "      <td>{0.0: 'Related to previous illnesses', 88.0: '...</td>\n",
       "      <td>{0.0: 'Related to previous illnesses', 88.0: '...</td>\n",
       "      <td>{0.0: 'Related to previous illnesses', 88.0: '...</td>\n",
       "      <td>{0.0: 'Related to previous illnesses', 88.0: '...</td>\n",
       "      <td>{0.0: 'Related to previous illnesses', 88.0: '...</td>\n",
       "      <td>{0.0: 'Related to previous illnesses', 88.0: '...</td>\n",
       "      <td>{0.0: 'Related to previous illnesses', 88.0: '...</td>\n",
       "      <td>...</td>\n",
       "      <td>{'99999': 'missing'}</td>\n",
       "      <td>{'99999': 'missing'}</td>\n",
       "      <td>{'99999': 'missing'}</td>\n",
       "      <td>{'99999': 'missing'}</td>\n",
       "      <td>{999.0: 'missing'}</td>\n",
       "      <td>{999.0: 'missing'}</td>\n",
       "      <td>{999.0: 'missing'}</td>\n",
       "      <td>{999.0: 'missing'}</td>\n",
       "      <td>{999.0: 'missing'}</td>\n",
       "      <td>{999.0: 'missing'}</td>\n",
       "    </tr>\n",
       "  </tbody>\n",
       "</table>\n",
       "<p>2 rows × 50 columns</p>\n",
       "</div>"
      ],
      "text/plain": [
       "                    G201_ILL_N_1  \\\n",
       "Label           Illness no.times   \n",
       "Field Values  {999.0: 'missing'}   \n",
       "\n",
       "                                                   G201_ILL_N_2  \\\n",
       "Label                                          Illness no.times   \n",
       "Field Values  {0.0: 'Related to previous illnesses', 88.0: '...   \n",
       "\n",
       "                                                   G201_ILL_N_3  \\\n",
       "Label                                          Illness no.times   \n",
       "Field Values  {0.0: 'Related to previous illnesses', 88.0: '...   \n",
       "\n",
       "                                                   G201_ILL_N_4  \\\n",
       "Label                                          Illness no.times   \n",
       "Field Values  {0.0: 'Related to previous illnesses', 88.0: '...   \n",
       "\n",
       "                                                   G201_ILL_N_5  \\\n",
       "Label                                          Illness no.times   \n",
       "Field Values  {0.0: 'Related to previous illnesses', 88.0: '...   \n",
       "\n",
       "                                                   G201_ILL_N_6  \\\n",
       "Label                                          Illness no.times   \n",
       "Field Values  {0.0: 'Related to previous illnesses', 88.0: '...   \n",
       "\n",
       "                                                   G201_ILL_N_7  \\\n",
       "Label                                          Illness no.times   \n",
       "Field Values  {0.0: 'Related to previous illnesses', 88.0: '...   \n",
       "\n",
       "                                                   G201_ILL_N_8  \\\n",
       "Label                                          Illness no.times   \n",
       "Field Values  {0.0: 'Related to previous illnesses', 88.0: '...   \n",
       "\n",
       "                                                   G201_ILL_N_9  \\\n",
       "Label                                          Illness no.times   \n",
       "Field Values  {0.0: 'Related to previous illnesses', 88.0: '...   \n",
       "\n",
       "                                                  G201_ILL_N_10  ...  \\\n",
       "Label                                          Illness no.times  ...   \n",
       "Field Values  {0.0: 'Related to previous illnesses', 88.0: '...  ...   \n",
       "\n",
       "                  G201_HOSP_ICD9_3      G201_HOSP_ICD9_4  \\\n",
       "Label          Hospital ICD-9 code   Hospital ICD-9 code   \n",
       "Field Values  {'99999': 'missing'}  {'99999': 'missing'}   \n",
       "\n",
       "                  G201_HOSP_ICD9_5      G201_HOSP_ICD9_6  \\\n",
       "Label          Hospital ICD-9 code   Hospital ICD-9 code   \n",
       "Field Values  {'99999': 'missing'}  {'99999': 'missing'}   \n",
       "\n",
       "                         G201_HOSP_N_1             G201_HOSP_N_2  \\\n",
       "Label         Hospital Number of times  Hospital Number of times   \n",
       "Field Values        {999.0: 'missing'}        {999.0: 'missing'}   \n",
       "\n",
       "                         G201_HOSP_N_3             G201_HOSP_N_4  \\\n",
       "Label         Hospital Number of times  Hospital Number of times   \n",
       "Field Values        {999.0: 'missing'}        {999.0: 'missing'}   \n",
       "\n",
       "                         G201_HOSP_N_5             G201_HOSP_N_6  \n",
       "Label         Hospital Number of times  Hospital Number of times  \n",
       "Field Values        {999.0: 'missing'}        {999.0: 'missing'}  \n",
       "\n",
       "[2 rows x 50 columns]"
      ]
     },
     "execution_count": 31,
     "metadata": {},
     "output_type": "execute_result"
    }
   ],
   "source": [
    "cols = list(var_map.values())\n",
    "meta.loc[[\"Label\", \"Field Values\"], cols]"
   ]
  },
  {
   "cell_type": "markdown",
   "metadata": {},
   "source": [
    "Investigate 0s for ILL_N_? INJ_N_? and HOSP_N_?"
   ]
  },
  {
   "cell_type": "markdown",
   "metadata": {},
   "source": [
    "Verify a value of 0 for `ILL_N_2` is not just a missing or N/A value, and contains legitimate data"
   ]
  },
  {
   "cell_type": "code",
   "execution_count": 32,
   "metadata": {},
   "outputs": [],
   "source": [
    "assert ~np.any(df.loc[df['G201_ILL_N_2'] == 0, ['G201_ILL_ICD9_2']] == \"88888\")\n",
    "assert np.all(df.loc[df['G201_ILL_N_2'] == 88, ['G201_ILL_ICD9_2']] == \"88888\")"
   ]
  },
  {
   "cell_type": "markdown",
   "metadata": {},
   "source": [
    "FOR `INJ_N`, 0 appears to refer to N/A in all cases."
   ]
  },
  {
   "cell_type": "code",
   "execution_count": 33,
   "metadata": {},
   "outputs": [
    {
     "data": {
      "text/plain": [
       "G201_INJ_N_1\n",
       "0.0      2045\n",
       "1.0       364\n",
       "999.0      23\n",
       "2.0        10\n",
       "4.0         3\n",
       "3.0         1\n",
       "Name: count, dtype: int64"
      ]
     },
     "execution_count": 33,
     "metadata": {},
     "output_type": "execute_result"
    }
   ],
   "source": [
    "df['G201_INJ_N_1'].value_counts()"
   ]
  },
  {
   "cell_type": "markdown",
   "metadata": {},
   "source": [
    "When `INJ_N_1` != 0 and `INJ_N_2` == 0, the following variables also have a value of 0."
   ]
  },
  {
   "cell_type": "code",
   "execution_count": 34,
   "metadata": {},
   "outputs": [
    {
     "data": {
      "text/plain": [
       "G201_INJ_N_1  G201_INJ_N_2  G201_INJ_N_3  G201_INJ_N_4\n",
       "1.0           0.0           0.0           0.0             318\n",
       "2.0           0.0           0.0           0.0               6\n",
       "4.0           0.0           0.0           0.0               2\n",
       "Name: count, dtype: int64"
      ]
     },
     "execution_count": 34,
     "metadata": {},
     "output_type": "execute_result"
    }
   ],
   "source": [
    "df.loc[(df['G201_INJ_N_2'] == 0) & (df['G201_INJ_N_1'] != 0), ['G201_INJ_N_1', 'G201_INJ_N_2', 'G201_INJ_N_3', 'G201_INJ_N_4']].value_counts()"
   ]
  },
  {
   "cell_type": "markdown",
   "metadata": {},
   "source": [
    "When `INJ_N_1` != 0 and `INJ_N_2` == 0, all corresponding values for `INJ_ICD9` are \"88888\" (N/A)."
   ]
  },
  {
   "cell_type": "code",
   "execution_count": 35,
   "metadata": {},
   "outputs": [
    {
     "data": {
      "text/plain": [
       "G201_INJ_ICD9_2\n",
       "88888              326\n",
       "Name: count, dtype: int64"
      ]
     },
     "execution_count": 35,
     "metadata": {},
     "output_type": "execute_result"
    }
   ],
   "source": [
    "df.loc[(df['G201_INJ_N_2'] == 0) & (df['G201_INJ_N_1'] != 0), ['G201_INJ_ICD9_2']].value_counts()"
   ]
  },
  {
   "cell_type": "markdown",
   "metadata": {},
   "source": [
    "For `HOSP_N`, "
   ]
  },
  {
   "cell_type": "code",
   "execution_count": 36,
   "metadata": {},
   "outputs": [
    {
     "data": {
      "text/plain": [
       "G201_HOSP_N_1\n",
       "0.0      1958\n",
       "1.0       445\n",
       "999.0      22\n",
       "2.0        16\n",
       "3.0         3\n",
       "4.0         1\n",
       "5.0         1\n",
       "Name: count, dtype: int64"
      ]
     },
     "execution_count": 36,
     "metadata": {},
     "output_type": "execute_result"
    }
   ],
   "source": [
    "df['G201_HOSP_N_1'].value_counts()"
   ]
  },
  {
   "cell_type": "markdown",
   "metadata": {},
   "source": [
    "When HOSP_N_1 == 0, HOSP_ICD9_1 and HOSP_CODE_1 should be Missing or N/A.  \n",
    "However, in one case (ID: 42320), there is a real value for HOSP_ICD9_1 and HOSP_CODE_1.  \n",
    "TODO: Investigate if there was previously a value. If not, recode HOSP_N_1 to Missing."
   ]
  },
  {
   "cell_type": "code",
   "execution_count": 37,
   "metadata": {},
   "outputs": [
    {
     "data": {
      "text/html": [
       "<div>\n",
       "<style scoped>\n",
       "    .dataframe tbody tr th:only-of-type {\n",
       "        vertical-align: middle;\n",
       "    }\n",
       "\n",
       "    .dataframe tbody tr th {\n",
       "        vertical-align: top;\n",
       "    }\n",
       "\n",
       "    .dataframe thead th {\n",
       "        text-align: right;\n",
       "    }\n",
       "</style>\n",
       "<table border=\"1\" class=\"dataframe\">\n",
       "  <thead>\n",
       "    <tr style=\"text-align: right;\">\n",
       "      <th></th>\n",
       "      <th>G201_HOSP_CODE_1</th>\n",
       "    </tr>\n",
       "    <tr>\n",
       "      <th>ID</th>\n",
       "      <th></th>\n",
       "    </tr>\n",
       "  </thead>\n",
       "  <tbody>\n",
       "    <tr>\n",
       "      <th>42320.0</th>\n",
       "      <td>985.0</td>\n",
       "    </tr>\n",
       "  </tbody>\n",
       "</table>\n",
       "</div>"
      ],
      "text/plain": [
       "         G201_HOSP_CODE_1\n",
       "ID                       \n",
       "42320.0             985.0"
      ]
     },
     "execution_count": 37,
     "metadata": {},
     "output_type": "execute_result"
    }
   ],
   "source": [
    "# assert np.all(df.loc[df['G201_HOSP_N_1'] == 0, [\"G201_HOSP_ICD9_1\"]] == \"88888\")\n",
    "# assert np.all(df.loc[df['G201_HOSP_N_1'] == 0, [\"G201_HOSP_CODE_1\"]] == 0)\n",
    "df.loc[(df['G201_HOSP_N_1'] == 0) & (df[\"G201_HOSP_ICD9_1\"] != \"88888\"), [\"G201_HOSP_ICD9_1\"]]\n",
    "df.loc[(df['G201_HOSP_N_1'] == 0) & (df[\"G201_HOSP_CODE_1\"] != 0), [\"G201_HOSP_CODE_1\"]]"
   ]
  },
  {
   "cell_type": "markdown",
   "metadata": {},
   "source": [
    "When HOSP_N_1 == 0, all subsequent values for HOSP_N_?, HOSP_CODE_?, and HOSP_ICD9_? should be N/A.  \n",
    "TODO: Change these values for HOSP_N and HOSP_CODE to appropriate N/A values."
   ]
  },
  {
   "cell_type": "code",
   "execution_count": 38,
   "metadata": {},
   "outputs": [],
   "source": [
    "HOSP_N = ['G201_HOSP_N_2', 'G201_HOSP_N_3', 'G201_HOSP_N_4', 'G201_HOSP_N_5', 'G201_HOSP_N_6']\n",
    "HOSP_CODE = ['G201_HOSP_CODE_2', 'G201_HOSP_CODE_3', 'G201_HOSP_CODE_4', 'G201_HOSP_CODE_5', 'G201_HOSP_CODE_6']\n",
    "HOSP_ICD9 = ['G201_HOSP_ICD9_2', 'G201_HOSP_ICD9_3', 'G201_HOSP_ICD9_4', 'G201_HOSP_ICD9_5', 'G201_HOSP_ICD9_6']\n",
    "\n",
    "assert np.all(df.loc[(df['G201_HOSP_N_1'] == 0), HOSP_N] == 0)\n",
    "assert np.all(df.loc[(df['G201_HOSP_N_1'] == 0), HOSP_CODE] == 0)\n",
    "assert np.all(df.loc[(df['G201_HOSP_N_1'] == 0), HOSP_ICD9] == \"88888\")"
   ]
  },
  {
   "cell_type": "code",
   "execution_count": 39,
   "metadata": {},
   "outputs": [
    {
     "data": {
      "text/plain": [
       "G201_HOSP_N_1  G201_HOSP_N_2  G201_HOSP_N_3  G201_HOSP_N_4\n",
       "1.0            0.0            0.0            0.0              349\n",
       "                              1.0            0.0                9\n",
       "2.0            0.0            0.0            0.0                8\n",
       "1.0            0.0            1.0            1.0                3\n",
       "3.0            0.0            0.0            0.0                3\n",
       "1.0            0.0            0.0            1.0                2\n",
       "                              2.0            0.0                1\n",
       "4.0            0.0            0.0            0.0                1\n",
       "Name: count, dtype: int64"
      ]
     },
     "execution_count": 39,
     "metadata": {},
     "output_type": "execute_result"
    }
   ],
   "source": [
    "df.loc[(df['G201_HOSP_N_2'] == 0) & (df['G201_HOSP_N_1'] != 0), ['G201_HOSP_N_1', 'G201_HOSP_N_2', 'G201_HOSP_N_3', 'G201_HOSP_N_4']].value_counts()"
   ]
  },
  {
   "cell_type": "markdown",
   "metadata": {},
   "source": [
    "For ID: 43600, it appears `HOSP_CODE_2` should be 102.  "
   ]
  },
  {
   "cell_type": "code",
   "execution_count": 40,
   "metadata": {},
   "outputs": [
    {
     "data": {
      "text/html": [
       "<div>\n",
       "<style scoped>\n",
       "    .dataframe tbody tr th:only-of-type {\n",
       "        vertical-align: middle;\n",
       "    }\n",
       "\n",
       "    .dataframe tbody tr th {\n",
       "        vertical-align: top;\n",
       "    }\n",
       "\n",
       "    .dataframe thead th {\n",
       "        text-align: right;\n",
       "    }\n",
       "</style>\n",
       "<table border=\"1\" class=\"dataframe\">\n",
       "  <thead>\n",
       "    <tr style=\"text-align: right;\">\n",
       "      <th></th>\n",
       "      <th>G201_HOSP_CODE_1</th>\n",
       "      <th>G201_HOSP_CODE_2</th>\n",
       "      <th>G201_HOSP_ICD9_1</th>\n",
       "      <th>G201_HOSP_ICD9_2</th>\n",
       "    </tr>\n",
       "    <tr>\n",
       "      <th>ID</th>\n",
       "      <th></th>\n",
       "      <th></th>\n",
       "      <th></th>\n",
       "      <th></th>\n",
       "    </tr>\n",
       "  </thead>\n",
       "  <tbody>\n",
       "    <tr>\n",
       "      <th>16310.0</th>\n",
       "      <td>631.0</td>\n",
       "      <td>631.0</td>\n",
       "      <td>78050</td>\n",
       "      <td>78330</td>\n",
       "    </tr>\n",
       "    <tr>\n",
       "      <th>16950.0</th>\n",
       "      <td>103.0</td>\n",
       "      <td>103.0</td>\n",
       "      <td>S5311</td>\n",
       "      <td>S6310</td>\n",
       "    </tr>\n",
       "    <tr>\n",
       "      <th>19440.0</th>\n",
       "      <td>103.0</td>\n",
       "      <td>103.0</td>\n",
       "      <td>04790</td>\n",
       "      <td>E9672</td>\n",
       "    </tr>\n",
       "    <tr>\n",
       "      <th>41330.0</th>\n",
       "      <td>103.0</td>\n",
       "      <td>103.0</td>\n",
       "      <td>59900</td>\n",
       "      <td>59370</td>\n",
       "    </tr>\n",
       "    <tr>\n",
       "      <th>43600.0</th>\n",
       "      <td>102.0</td>\n",
       "      <td>0.0</td>\n",
       "      <td>46600</td>\n",
       "      <td>78609</td>\n",
       "    </tr>\n",
       "    <tr>\n",
       "      <th>46920.0</th>\n",
       "      <td>103.0</td>\n",
       "      <td>103.0</td>\n",
       "      <td>78060</td>\n",
       "      <td>38290</td>\n",
       "    </tr>\n",
       "    <tr>\n",
       "      <th>47840.0</th>\n",
       "      <td>103.0</td>\n",
       "      <td>103.0</td>\n",
       "      <td>59900</td>\n",
       "      <td>59370</td>\n",
       "    </tr>\n",
       "    <tr>\n",
       "      <th>47980.0</th>\n",
       "      <td>102.0</td>\n",
       "      <td>102.0</td>\n",
       "      <td>46610</td>\n",
       "      <td>77930</td>\n",
       "    </tr>\n",
       "    <tr>\n",
       "      <th>48140.0</th>\n",
       "      <td>103.0</td>\n",
       "      <td>103.0</td>\n",
       "      <td>46610</td>\n",
       "      <td>38290</td>\n",
       "    </tr>\n",
       "    <tr>\n",
       "      <th>48510.0</th>\n",
       "      <td>102.0</td>\n",
       "      <td>102.0</td>\n",
       "      <td>78030</td>\n",
       "      <td>38290</td>\n",
       "    </tr>\n",
       "    <tr>\n",
       "      <th>49220.0</th>\n",
       "      <td>103.0</td>\n",
       "      <td>103.0</td>\n",
       "      <td>55890</td>\n",
       "      <td>79620</td>\n",
       "    </tr>\n",
       "    <tr>\n",
       "      <th>49310.0</th>\n",
       "      <td>103.0</td>\n",
       "      <td>103.0</td>\n",
       "      <td>77080</td>\n",
       "      <td>75400</td>\n",
       "    </tr>\n",
       "    <tr>\n",
       "      <th>54220.0</th>\n",
       "      <td>103.0</td>\n",
       "      <td>103.0</td>\n",
       "      <td>S5300</td>\n",
       "      <td>07990</td>\n",
       "    </tr>\n",
       "  </tbody>\n",
       "</table>\n",
       "</div>"
      ],
      "text/plain": [
       "         G201_HOSP_CODE_1  G201_HOSP_CODE_2 G201_HOSP_ICD9_1 G201_HOSP_ICD9_2\n",
       "ID                                                                           \n",
       "16310.0             631.0             631.0            78050            78330\n",
       "16950.0             103.0             103.0            S5311            S6310\n",
       "19440.0             103.0             103.0            04790            E9672\n",
       "41330.0             103.0             103.0            59900            59370\n",
       "43600.0             102.0               0.0            46600            78609\n",
       "46920.0             103.0             103.0            78060            38290\n",
       "47840.0             103.0             103.0            59900            59370\n",
       "47980.0             102.0             102.0            46610            77930\n",
       "48140.0             103.0             103.0            46610            38290\n",
       "48510.0             102.0             102.0            78030            38290\n",
       "49220.0             103.0             103.0            55890            79620\n",
       "49310.0             103.0             103.0            77080            75400\n",
       "54220.0             103.0             103.0            S5300            07990"
      ]
     },
     "execution_count": 40,
     "metadata": {},
     "output_type": "execute_result"
    }
   ],
   "source": [
    "df.loc[(df['G201_HOSP_N_2'] == 0) & (df['G201_HOSP_N_1'] != 0) & (df['G201_HOSP_N_3'] != 0), ['G201_HOSP_CODE_1', 'G201_HOSP_CODE_2', 'G201_HOSP_ICD9_1', 'G201_HOSP_ICD9_2',]]"
   ]
  },
  {
   "cell_type": "markdown",
   "metadata": {},
   "source": [
    "Verify that when `HOSP_N_?` == 0, the corresponding `HOSP_CODE` and `HOSP_ICD9` values are not Missing or N/A, and that `HOSP_CODE` is equal to the previous `HOSP_CODE` value.  \n",
    "TODO: continue fleshing out these tests."
   ]
  },
  {
   "cell_type": "code",
   "execution_count": 41,
   "metadata": {},
   "outputs": [
    {
     "data": {
      "text/html": [
       "<div>\n",
       "<style scoped>\n",
       "    .dataframe tbody tr th:only-of-type {\n",
       "        vertical-align: middle;\n",
       "    }\n",
       "\n",
       "    .dataframe tbody tr th {\n",
       "        vertical-align: top;\n",
       "    }\n",
       "\n",
       "    .dataframe thead th {\n",
       "        text-align: right;\n",
       "    }\n",
       "</style>\n",
       "<table border=\"1\" class=\"dataframe\">\n",
       "  <thead>\n",
       "    <tr style=\"text-align: right;\">\n",
       "      <th></th>\n",
       "      <th>G201_HOSP_CODE_1</th>\n",
       "      <th>G201_HOSP_CODE_2</th>\n",
       "      <th>G201_HOSP_ICD9_1</th>\n",
       "      <th>G201_HOSP_ICD9_2</th>\n",
       "    </tr>\n",
       "    <tr>\n",
       "      <th>ID</th>\n",
       "      <th></th>\n",
       "      <th></th>\n",
       "      <th></th>\n",
       "      <th></th>\n",
       "    </tr>\n",
       "  </thead>\n",
       "  <tbody>\n",
       "    <tr>\n",
       "      <th>10060.0</th>\n",
       "      <td>0.0</td>\n",
       "      <td>0.0</td>\n",
       "      <td>46610</td>\n",
       "      <td>88888</td>\n",
       "    </tr>\n",
       "    <tr>\n",
       "      <th>10180.0</th>\n",
       "      <td>0.0</td>\n",
       "      <td>0.0</td>\n",
       "      <td>03390</td>\n",
       "      <td>88888</td>\n",
       "    </tr>\n",
       "    <tr>\n",
       "      <th>10210.0</th>\n",
       "      <td>0.0</td>\n",
       "      <td>0.0</td>\n",
       "      <td>S4572</td>\n",
       "      <td>88888</td>\n",
       "    </tr>\n",
       "    <tr>\n",
       "      <th>10290.0</th>\n",
       "      <td>0.0</td>\n",
       "      <td>0.0</td>\n",
       "      <td>S2161</td>\n",
       "      <td>S2830</td>\n",
       "    </tr>\n",
       "    <tr>\n",
       "      <th>10510.0</th>\n",
       "      <td>0.0</td>\n",
       "      <td>0.0</td>\n",
       "      <td>78060</td>\n",
       "      <td>88888</td>\n",
       "    </tr>\n",
       "    <tr>\n",
       "      <th>...</th>\n",
       "      <td>...</td>\n",
       "      <td>...</td>\n",
       "      <td>...</td>\n",
       "      <td>...</td>\n",
       "    </tr>\n",
       "    <tr>\n",
       "      <th>54350.0</th>\n",
       "      <td>0.0</td>\n",
       "      <td>0.0</td>\n",
       "      <td>88888</td>\n",
       "      <td>88888</td>\n",
       "    </tr>\n",
       "    <tr>\n",
       "      <th>54360.0</th>\n",
       "      <td>0.0</td>\n",
       "      <td>0.0</td>\n",
       "      <td>88888</td>\n",
       "      <td>88888</td>\n",
       "    </tr>\n",
       "    <tr>\n",
       "      <th>54400.0</th>\n",
       "      <td>0.0</td>\n",
       "      <td>0.0</td>\n",
       "      <td>88888</td>\n",
       "      <td>88888</td>\n",
       "    </tr>\n",
       "    <tr>\n",
       "      <th>54530.0</th>\n",
       "      <td>0.0</td>\n",
       "      <td>0.0</td>\n",
       "      <td>88888</td>\n",
       "      <td>88888</td>\n",
       "    </tr>\n",
       "    <tr>\n",
       "      <th>54540.0</th>\n",
       "      <td>0.0</td>\n",
       "      <td>0.0</td>\n",
       "      <td>88888</td>\n",
       "      <td>88888</td>\n",
       "    </tr>\n",
       "  </tbody>\n",
       "</table>\n",
       "<p>376 rows × 4 columns</p>\n",
       "</div>"
      ],
      "text/plain": [
       "         G201_HOSP_CODE_1  G201_HOSP_CODE_2 G201_HOSP_ICD9_1 G201_HOSP_ICD9_2\n",
       "ID                                                                           \n",
       "10060.0               0.0               0.0            46610            88888\n",
       "10180.0               0.0               0.0            03390            88888\n",
       "10210.0               0.0               0.0            S4572            88888\n",
       "10290.0               0.0               0.0            S2161            S2830\n",
       "10510.0               0.0               0.0            78060            88888\n",
       "...                   ...               ...              ...              ...\n",
       "54350.0               0.0               0.0            88888            88888\n",
       "54360.0               0.0               0.0            88888            88888\n",
       "54400.0               0.0               0.0            88888            88888\n",
       "54530.0               0.0               0.0            88888            88888\n",
       "54540.0               0.0               0.0            88888            88888\n",
       "\n",
       "[376 rows x 4 columns]"
      ]
     },
     "execution_count": 41,
     "metadata": {},
     "output_type": "execute_result"
    }
   ],
   "source": [
    "df.loc[(df['G201_HOSP_N_1'] != 0) & (df['G201_HOSP_N_2'] == 0), ['G201_HOSP_CODE_1', 'G201_HOSP_CODE_2', 'G201_HOSP_ICD9_1', 'G201_HOSP_ICD9_2',]]"
   ]
  },
  {
   "cell_type": "markdown",
   "metadata": {},
   "source": [
    "## Save Interim Data"
   ]
  },
  {
   "cell_type": "code",
   "execution_count": 42,
   "metadata": {},
   "outputs": [],
   "source": [
    "write_sav(OUTPUT, df, meta)"
   ]
  },
  {
   "cell_type": "markdown",
   "metadata": {},
   "source": [
    "## Run tests to validate data"
   ]
  },
  {
   "cell_type": "markdown",
   "metadata": {},
   "source": [
    "Specify the precise changes expected from the updated dataset in terms of recoding."
   ]
  },
  {
   "cell_type": "code",
   "execution_count": 43,
   "metadata": {},
   "outputs": [],
   "source": [
    "# Changes should capture each specific changes; column (variable name), the IDs that are affected, and the corresponding change\n",
    "CHANGES = [\n",
    "    {\n",
    "        \"columns\": [\"G201_ILL_N_1\"],\n",
    "        \"idx\": [10080],\n",
    "        \"value\": 1 \n",
    "    },\n",
    "    {\n",
    "        \"columns\": [\"G201_ILL_N_2\"],\n",
    "        \"idx\": [10080],\n",
    "        \"value\": 0 \n",
    "    },\n",
    "    {\n",
    "        \"columns\": [\"G201_ILL_N_3\", \"G201_ILL_N_4\"],\n",
    "        \"idx\": [11642],\n",
    "        \"value\": 88 \n",
    "    },\n",
    "    {\n",
    "        \"columns\": [\"G201_ILL_ICD9_3\"],\n",
    "        \"idx\": [11642],\n",
    "        \"value\": \"88888\"\n",
    "    },\n",
    "    {\n",
    "        \"columns\": [\"G201_ILL_ICD9_4\"],\n",
    "        \"idx\": [11642],\n",
    "        \"value\": \"88888\"\n",
    "    },\n",
    "    {\n",
    "        \"columns\": [\"G201_ILL_N_4\"],\n",
    "        \"idx\": [23180],\n",
    "        \"value\": 88\n",
    "    },\n",
    "    {\n",
    "        \"columns\": [\"G201_ILL_ICD9_4\"],\n",
    "        \"idx\": [23180],\n",
    "        \"value\": \"88888\"\n",
    "    },\n",
    "    {\n",
    "        \"columns\": ['G201_ILL_ICD9_2', 'G201_ILL_ICD9_3', 'G201_ILL_ICD9_4', 'G201_ILL_ICD9_5', 'G201_ILL_ICD9_6', 'G201_ILL_ICD9_7', 'G201_ILL_ICD9_8', 'G201_ILL_ICD9_9', 'G201_ILL_ICD9_10', 'G201_ILL_ICD9_11', 'G201_ILL_ICD9_12'],\n",
    "        \"idx\": [19270, 17890],\n",
    "        \"value\": \"88888\"\n",
    "    },\n",
    "    {\n",
    "        \"columns\": ['G201_ILL_N_2', 'G201_ILL_N_3', 'G201_ILL_N_4', 'G201_ILL_N_5', 'G201_ILL_N_6', 'G201_ILL_N_7', 'G201_ILL_N_8', 'G201_ILL_N_9', 'G201_ILL_N_10', 'G201_ILL_N_11', 'G201_ILL_N_12'],\n",
    "        \"idx\": [19270, 17890],\n",
    "        \"value\": 88\n",
    "    },\n",
    "    {\n",
    "        \"columns\": ['G201_ILL_ICD9_4', 'G201_ILL_ICD9_5', 'G201_ILL_ICD9_6', 'G201_ILL_ICD9_7', 'G201_ILL_ICD9_8', 'G201_ILL_ICD9_9', 'G201_ILL_ICD9_10', 'G201_ILL_ICD9_11', 'G201_ILL_ICD9_12'],\n",
    "        \"idx\": [20370],\n",
    "        \"value\": \"88888\"\n",
    "    },\n",
    "    {\n",
    "        \"columns\": ['G201_ILL_N_4', 'G201_ILL_N_5', 'G201_ILL_N_6', 'G201_ILL_N_7', 'G201_ILL_N_8', 'G201_ILL_N_9', 'G201_ILL_N_10', 'G201_ILL_N_11', 'G201_ILL_N_12'],\n",
    "        \"idx\": [20370],\n",
    "        \"value\": 88\n",
    "    },\n",
    "]"
   ]
  },
  {
   "cell_type": "code",
   "execution_count": 44,
   "metadata": {},
   "outputs": [],
   "source": [
    "df_old, meta_old = read_sav(INPUT, index=\"ID\")\n",
    "df_new, meta_new = read_sav(OUTPUT, index=\"ID\")"
   ]
  },
  {
   "cell_type": "code",
   "execution_count": 45,
   "metadata": {},
   "outputs": [],
   "source": [
    "run_full_test_suite(df_new, df_old, CREATE, RENAME, DELETE, CHANGES)"
   ]
  },
  {
   "cell_type": "markdown",
   "metadata": {},
   "source": [
    "### Compare metadata"
   ]
  },
  {
   "cell_type": "code",
   "execution_count": 46,
   "metadata": {},
   "outputs": [],
   "source": [
    "# Compare metadata, not including variables that were created or deleted, and renaming the old variables to match for comparison\n",
    "\n",
    "old_cols = [col for col in meta_old.columns if col not in DELETE]\n",
    "new_cols = [col for col in meta_new.columns if col not in CREATE]\n",
    "# metax = meta_new[new_cols].compare(meta_old[old_cols].rename(RENAME))\n",
    "# metax"
   ]
  },
  {
   "cell_type": "markdown",
   "metadata": {},
   "source": [
    "## Final Changes"
   ]
  },
  {
   "cell_type": "markdown",
   "metadata": {},
   "source": [
    "### Converting missing and N/A data for string variables"
   ]
  },
  {
   "cell_type": "markdown",
   "metadata": {},
   "source": [
    "This should be a function in the package that I can apply to all specified variables"
   ]
  },
  {
   "cell_type": "code",
   "execution_count": 51,
   "metadata": {},
   "outputs": [
    {
     "data": {
      "text/html": [
       "<div>\n",
       "<style scoped>\n",
       "    .dataframe tbody tr th:only-of-type {\n",
       "        vertical-align: middle;\n",
       "    }\n",
       "\n",
       "    .dataframe tbody tr th {\n",
       "        vertical-align: top;\n",
       "    }\n",
       "\n",
       "    .dataframe thead th {\n",
       "        text-align: right;\n",
       "    }\n",
       "</style>\n",
       "<table border=\"1\" class=\"dataframe\">\n",
       "  <thead>\n",
       "    <tr style=\"text-align: right;\">\n",
       "      <th></th>\n",
       "      <th>G201_ILL_ICD9_1</th>\n",
       "      <th>G201_ILL_ICD9_2</th>\n",
       "      <th>G201_ILL_ICD9_3</th>\n",
       "      <th>G201_ILL_ICD9_4</th>\n",
       "      <th>G201_ILL_ICD9_5</th>\n",
       "      <th>G201_ILL_ICD9_6</th>\n",
       "      <th>G201_ILL_ICD9_7</th>\n",
       "      <th>G201_ILL_ICD9_8</th>\n",
       "      <th>G201_ILL_ICD9_9</th>\n",
       "      <th>G201_ILL_ICD9_10</th>\n",
       "      <th>G201_ILL_ICD9_11</th>\n",
       "      <th>G201_ILL_ICD9_12</th>\n",
       "    </tr>\n",
       "    <tr>\n",
       "      <th>ID</th>\n",
       "      <th></th>\n",
       "      <th></th>\n",
       "      <th></th>\n",
       "      <th></th>\n",
       "      <th></th>\n",
       "      <th></th>\n",
       "      <th></th>\n",
       "      <th></th>\n",
       "      <th></th>\n",
       "      <th></th>\n",
       "      <th></th>\n",
       "      <th></th>\n",
       "    </tr>\n",
       "  </thead>\n",
       "  <tbody>\n",
       "    <tr>\n",
       "      <th>10010.0</th>\n",
       "      <td>54600</td>\n",
       "      <td>38290</td>\n",
       "      <td>N/A</td>\n",
       "      <td>N/A</td>\n",
       "      <td>N/A</td>\n",
       "      <td>N/A</td>\n",
       "      <td>N/A</td>\n",
       "      <td>N/A</td>\n",
       "      <td>N/A</td>\n",
       "      <td>N/A</td>\n",
       "      <td>N/A</td>\n",
       "      <td>N/A</td>\n",
       "    </tr>\n",
       "    <tr>\n",
       "      <th>10020.0</th>\n",
       "      <td>00900</td>\n",
       "      <td>48600</td>\n",
       "      <td>N/A</td>\n",
       "      <td>N/A</td>\n",
       "      <td>N/A</td>\n",
       "      <td>N/A</td>\n",
       "      <td>N/A</td>\n",
       "      <td>N/A</td>\n",
       "      <td>N/A</td>\n",
       "      <td>N/A</td>\n",
       "      <td>N/A</td>\n",
       "      <td>N/A</td>\n",
       "    </tr>\n",
       "    <tr>\n",
       "      <th>10030.0</th>\n",
       "      <td>N/A</td>\n",
       "      <td>N/A</td>\n",
       "      <td>N/A</td>\n",
       "      <td>N/A</td>\n",
       "      <td>N/A</td>\n",
       "      <td>N/A</td>\n",
       "      <td>N/A</td>\n",
       "      <td>N/A</td>\n",
       "      <td>N/A</td>\n",
       "      <td>N/A</td>\n",
       "      <td>N/A</td>\n",
       "      <td>N/A</td>\n",
       "    </tr>\n",
       "    <tr>\n",
       "      <th>10040.0</th>\n",
       "      <td>00900</td>\n",
       "      <td>N/A</td>\n",
       "      <td>N/A</td>\n",
       "      <td>N/A</td>\n",
       "      <td>N/A</td>\n",
       "      <td>N/A</td>\n",
       "      <td>N/A</td>\n",
       "      <td>N/A</td>\n",
       "      <td>N/A</td>\n",
       "      <td>N/A</td>\n",
       "      <td>N/A</td>\n",
       "      <td>N/A</td>\n",
       "    </tr>\n",
       "    <tr>\n",
       "      <th>10050.0</th>\n",
       "      <td>37890</td>\n",
       "      <td>N/A</td>\n",
       "      <td>N/A</td>\n",
       "      <td>N/A</td>\n",
       "      <td>N/A</td>\n",
       "      <td>N/A</td>\n",
       "      <td>N/A</td>\n",
       "      <td>N/A</td>\n",
       "      <td>N/A</td>\n",
       "      <td>N/A</td>\n",
       "      <td>N/A</td>\n",
       "      <td>N/A</td>\n",
       "    </tr>\n",
       "    <tr>\n",
       "      <th>...</th>\n",
       "      <td>...</td>\n",
       "      <td>...</td>\n",
       "      <td>...</td>\n",
       "      <td>...</td>\n",
       "      <td>...</td>\n",
       "      <td>...</td>\n",
       "      <td>...</td>\n",
       "      <td>...</td>\n",
       "      <td>...</td>\n",
       "      <td>...</td>\n",
       "      <td>...</td>\n",
       "      <td>...</td>\n",
       "    </tr>\n",
       "    <tr>\n",
       "      <th>54560.0</th>\n",
       "      <td>69190</td>\n",
       "      <td>11230</td>\n",
       "      <td>N/A</td>\n",
       "      <td>N/A</td>\n",
       "      <td>N/A</td>\n",
       "      <td>N/A</td>\n",
       "      <td>N/A</td>\n",
       "      <td>N/A</td>\n",
       "      <td>N/A</td>\n",
       "      <td>N/A</td>\n",
       "      <td>N/A</td>\n",
       "      <td>N/A</td>\n",
       "    </tr>\n",
       "    <tr>\n",
       "      <th>54580.0</th>\n",
       "      <td>75615</td>\n",
       "      <td>46590</td>\n",
       "      <td>N/A</td>\n",
       "      <td>N/A</td>\n",
       "      <td>N/A</td>\n",
       "      <td>N/A</td>\n",
       "      <td>N/A</td>\n",
       "      <td>N/A</td>\n",
       "      <td>N/A</td>\n",
       "      <td>N/A</td>\n",
       "      <td>N/A</td>\n",
       "      <td>N/A</td>\n",
       "    </tr>\n",
       "    <tr>\n",
       "      <th>54590.0</th>\n",
       "      <td>74569</td>\n",
       "      <td>00900</td>\n",
       "      <td>51980</td>\n",
       "      <td>51980</td>\n",
       "      <td>38290</td>\n",
       "      <td>42890</td>\n",
       "      <td>78340</td>\n",
       "      <td>N/A</td>\n",
       "      <td>N/A</td>\n",
       "      <td>N/A</td>\n",
       "      <td>N/A</td>\n",
       "      <td>N/A</td>\n",
       "    </tr>\n",
       "    <tr>\n",
       "      <th>54601.0</th>\n",
       "      <td>00900</td>\n",
       "      <td>46610</td>\n",
       "      <td>N/A</td>\n",
       "      <td>N/A</td>\n",
       "      <td>N/A</td>\n",
       "      <td>N/A</td>\n",
       "      <td>N/A</td>\n",
       "      <td>N/A</td>\n",
       "      <td>N/A</td>\n",
       "      <td>N/A</td>\n",
       "      <td>N/A</td>\n",
       "      <td>N/A</td>\n",
       "    </tr>\n",
       "    <tr>\n",
       "      <th>54602.0</th>\n",
       "      <td>69190</td>\n",
       "      <td>N/A</td>\n",
       "      <td>N/A</td>\n",
       "      <td>N/A</td>\n",
       "      <td>N/A</td>\n",
       "      <td>N/A</td>\n",
       "      <td>N/A</td>\n",
       "      <td>N/A</td>\n",
       "      <td>N/A</td>\n",
       "      <td>N/A</td>\n",
       "      <td>N/A</td>\n",
       "      <td>N/A</td>\n",
       "    </tr>\n",
       "  </tbody>\n",
       "</table>\n",
       "<p>2446 rows × 12 columns</p>\n",
       "</div>"
      ],
      "text/plain": [
       "        G201_ILL_ICD9_1 G201_ILL_ICD9_2 G201_ILL_ICD9_3 G201_ILL_ICD9_4  \\\n",
       "ID                                                                        \n",
       "10010.0           54600           38290             N/A             N/A   \n",
       "10020.0           00900           48600             N/A             N/A   \n",
       "10030.0             N/A             N/A             N/A             N/A   \n",
       "10040.0           00900             N/A             N/A             N/A   \n",
       "10050.0           37890             N/A             N/A             N/A   \n",
       "...                 ...             ...             ...             ...   \n",
       "54560.0           69190           11230             N/A             N/A   \n",
       "54580.0           75615           46590             N/A             N/A   \n",
       "54590.0           74569           00900           51980           51980   \n",
       "54601.0           00900           46610             N/A             N/A   \n",
       "54602.0           69190             N/A             N/A             N/A   \n",
       "\n",
       "        G201_ILL_ICD9_5 G201_ILL_ICD9_6 G201_ILL_ICD9_7 G201_ILL_ICD9_8  \\\n",
       "ID                                                                        \n",
       "10010.0             N/A             N/A             N/A             N/A   \n",
       "10020.0             N/A             N/A             N/A             N/A   \n",
       "10030.0             N/A             N/A             N/A             N/A   \n",
       "10040.0             N/A             N/A             N/A             N/A   \n",
       "10050.0             N/A             N/A             N/A             N/A   \n",
       "...                 ...             ...             ...             ...   \n",
       "54560.0             N/A             N/A             N/A             N/A   \n",
       "54580.0             N/A             N/A             N/A             N/A   \n",
       "54590.0           38290           42890           78340             N/A   \n",
       "54601.0             N/A             N/A             N/A             N/A   \n",
       "54602.0             N/A             N/A             N/A             N/A   \n",
       "\n",
       "        G201_ILL_ICD9_9 G201_ILL_ICD9_10 G201_ILL_ICD9_11 G201_ILL_ICD9_12  \n",
       "ID                                                                          \n",
       "10010.0             N/A              N/A              N/A              N/A  \n",
       "10020.0             N/A              N/A              N/A              N/A  \n",
       "10030.0             N/A              N/A              N/A              N/A  \n",
       "10040.0             N/A              N/A              N/A              N/A  \n",
       "10050.0             N/A              N/A              N/A              N/A  \n",
       "...                 ...              ...              ...              ...  \n",
       "54560.0             N/A              N/A              N/A              N/A  \n",
       "54580.0             N/A              N/A              N/A              N/A  \n",
       "54590.0             N/A              N/A              N/A              N/A  \n",
       "54601.0             N/A              N/A              N/A              N/A  \n",
       "54602.0             N/A              N/A              N/A              N/A  \n",
       "\n",
       "[2446 rows x 12 columns]"
      ]
     },
     "execution_count": 51,
     "metadata": {},
     "output_type": "execute_result"
    }
   ],
   "source": [
    "cols = df_new.filter(regex=\"ILL_ICD\").columns\n",
    "df_new[cols].replace({\"88888\": \"N/A\", \"99999\": \"Missing\"})"
   ]
  }
 ],
 "metadata": {
  "kernelspec": {
   "display_name": "my_env",
   "language": "python",
   "name": "python3"
  },
  "language_info": {
   "codemirror_mode": {
    "name": "ipython",
    "version": 3
   },
   "file_extension": ".py",
   "mimetype": "text/x-python",
   "name": "python",
   "nbconvert_exporter": "python",
   "pygments_lexer": "ipython3",
   "version": "3.12.4"
  }
 },
 "nbformat": 4,
 "nbformat_minor": 2
}
