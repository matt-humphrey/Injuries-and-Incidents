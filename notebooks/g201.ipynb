{
 "cells": [
  {
   "cell_type": "markdown",
   "metadata": {},
   "source": [
    "# G201"
   ]
  },
  {
   "cell_type": "markdown",
   "metadata": {},
   "source": [
    "## Set up"
   ]
  },
  {
   "cell_type": "code",
   "execution_count": 1,
   "metadata": {},
   "outputs": [],
   "source": [
    "from fastcore.test import *\n",
    "from fastcore.utils import *\n",
    "import pandas as pd\n",
    "from pandas import DataFrame\n",
    "import numpy as np\n",
    "import pyspssio\n",
    "\n",
    "import raine_tools as rn\n",
    "from data_harmonising.data import *\n",
    "from data_harmonising.transforms import *"
   ]
  },
  {
   "cell_type": "code",
   "execution_count": 2,
   "metadata": {},
   "outputs": [],
   "source": [
    "INPUT = \"../data/raw/G201_Quest_PA.sav\"\n",
    "OUTPUT = \"../data/interim/G201_Quest_PA.sav\""
   ]
  },
  {
   "cell_type": "code",
   "execution_count": 3,
   "metadata": {},
   "outputs": [],
   "source": [
    "df, meta = read_sav(INPUT, index=\"ID\")"
   ]
  },
  {
   "cell_type": "code",
   "execution_count": null,
   "metadata": {},
   "outputs": [],
   "source": [
    "# wb = pd.read_excel(WORKBOOK, sheet_name=SHEETNAME)\n",
    "# wb['vn_old'] = wb['Dataset'] + '_' + wb['Variable Name']\n",
    "# wb['vn_new'] = wb['Dataset'] + '_' + wb['Harmonised Variable Name']\n",
    "# VARS = wb.loc[wb['Dataset'] == 'G201', \"Variable Name\"].to_list()"
   ]
  },
  {
   "cell_type": "markdown",
   "metadata": {},
   "source": [
    "## Data exploration"
   ]
  },
  {
   "cell_type": "markdown",
   "metadata": {},
   "source": [
    "### The strange case of `G201_IF13`"
   ]
  },
  {
   "cell_type": "markdown",
   "metadata": {},
   "source": [
    "Why does `G201_IF13` exist, especially when there's no corresponding `G201_IC13`?  \n",
    "Furthermore, the values don't align with the previous IC? variables."
   ]
  },
  {
   "cell_type": "code",
   "execution_count": null,
   "metadata": {},
   "outputs": [],
   "source": [
    "df.loc[:, [\"G201_IF13\"]].value_counts() "
   ]
  },
  {
   "cell_type": "markdown",
   "metadata": {},
   "source": [
    "For all other cases of `G201_IF1` to `G201_IF12`, a 0 means that the incident is related to the incident in the previous IF? variable.  \n",
    "When `G201_IF13` is 0, the majority of cases were N/A, and values range across the board; this doesn't fit with the existing logic."
   ]
  },
  {
   "cell_type": "code",
   "execution_count": null,
   "metadata": {},
   "outputs": [],
   "source": [
    "df.loc[df[\"G201_IF13\"] == 0, \"G201_IF12\":\"G201_IF13\"].value_counts()"
   ]
  },
  {
   "cell_type": "markdown",
   "metadata": {},
   "source": [
    "At least when `G201_IF13` is missing (9), the previous value was also missing (999)."
   ]
  },
  {
   "cell_type": "code",
   "execution_count": null,
   "metadata": {},
   "outputs": [],
   "source": [
    "df.loc[df[\"G201_IF13\"] == 9, \"G201_IF12\":\"G201_IF13\"].value_counts()"
   ]
  },
  {
   "cell_type": "markdown",
   "metadata": {},
   "source": [
    "Finally, when `G201_IF13` is 1 or 2, the previous values are 0 or 1; this doesn't specifically highlight any errors."
   ]
  },
  {
   "cell_type": "code",
   "execution_count": null,
   "metadata": {},
   "outputs": [],
   "source": [
    "df.loc[df[\"G201_IF13\"].between(1, 2), \"G201_IF12\":\"G201_IF13\"].value_counts()"
   ]
  },
  {
   "cell_type": "markdown",
   "metadata": {},
   "source": [
    "`G201_IF13` does not align with the previous values, and there are clear logical discrepancies.  \n",
    "Given there is no corresponding `G201_IC13` to explain the few instances of a 1 or 2, and the 0s appear to be unreliable, I plan to drop it."
   ]
  },
  {
   "cell_type": "markdown",
   "metadata": {},
   "source": [
    "### Checking that IF? and IC? variables are correctly aligned"
   ]
  },
  {
   "cell_type": "code",
   "execution_count": null,
   "metadata": {},
   "outputs": [],
   "source": [
    "IF_ROWS = ['G201_IF1', 'G201_IF2', 'G201_IF3', 'G201_IF4', 'G201_IF5', 'G201_IF6',\n",
    "           'G201_IF7', 'G201_IF8', 'G201_IF9', 'G201_IF10', 'G201_IF11', 'G201_IF12']\n",
    "\n",
    "IC_ROWS = ['G201_IC1', 'G201_IC2', 'G201_IC3', 'G201_IC4', 'G201_IC5', 'G201_IC6',\n",
    "           'G201_IC7', 'G201_IC8', 'G201_IC9', 'G201_IC10', 'G201_IC11', 'G201_IC12']"
   ]
  },
  {
   "cell_type": "markdown",
   "metadata": {},
   "source": [
    "If `G201_IC?` is N/A (\"88888\"), the corresponding `G201_IF?` should also be N/A (88).  \n",
    "Else if `G201_IC?` is Missing (\"99999\"), the corresponding `G201_IF?` should also be Missing (999).    \n",
    "Otherwise, the corresponding `G201_IF?` should not be N/A or Missing."
   ]
  },
  {
   "cell_type": "code",
   "execution_count": null,
   "metadata": {},
   "outputs": [],
   "source": [
    "for n in range(1, 13): \n",
    "    assert (df.loc[df[f\"G201_IC{n}\"] == \"88888\", f\"G201_IF{n}\"] == 88).all()\n",
    "    assert (df.loc[df[f\"G201_IC{n}\"] == \"99999\", f\"G201_IF{n}\"] == 999).all()\n",
    "    assert not df.loc[~df[f\"G201_IC{n}\"].isin([\"88888\", \"99999\"]), f\"G201_IF{n}\"].isin([88, 999]).all()"
   ]
  },
  {
   "cell_type": "markdown",
   "metadata": {},
   "source": [
    "The reverse of this should also be true, such that if `G201_IF?` is N/A, the corresponding `G201_IC?` value should also be N/A, and so on."
   ]
  },
  {
   "cell_type": "code",
   "execution_count": null,
   "metadata": {},
   "outputs": [],
   "source": [
    "for n in range(1, 13): \n",
    "    assert (df.loc[df[f\"G201_IF{n}\"] == 88, f\"G201_IC{n}\"] == \"88888\").all()\n",
    "    assert (df.loc[df[f\"G201_IF{n}\"] == 999, f\"G201_IC{n}\"] == \"99999\").all()\n",
    "    assert not df.loc[~df[f\"G201_IF{n}\"].isin([88, 999]), f\"G201_IC{n}\"].isin([\"88888\", \"99999\"]).all()"
   ]
  },
  {
   "cell_type": "markdown",
   "metadata": {},
   "source": [
    "If `G201_IF1` is No (0), then remaining `G201_IF?` values should be N/A (88).  \n",
    "However, a single instance of this was located at ID 10080. "
   ]
  },
  {
   "cell_type": "code",
   "execution_count": null,
   "metadata": {},
   "outputs": [],
   "source": [
    "df.loc[df[\"G201_IF1\"] == 0].filter(regex=r'I(C|F)[1-5]\\b')"
   ]
  },
  {
   "cell_type": "markdown",
   "metadata": {},
   "source": [
    "For ID 10080, given both conditions are interrelatated (dermatitis), I believe it's likely the participant would have seen the doctor once for both cases.  \n",
    "Therefore, it makes sense to change IF1 to 1 and IF2 to 0."
   ]
  },
  {
   "cell_type": "code",
   "execution_count": null,
   "metadata": {},
   "outputs": [],
   "source": [
    "idx = [10080]\n",
    "df.loc[idx, \"G201_IF1\"] = 1\n",
    "df.loc[idx, \"G201_IF2\"] = 0"
   ]
  },
  {
   "cell_type": "markdown",
   "metadata": {},
   "source": [
    "Participants with IDs 17890, 19270, and 20370 had missing values in place of N/A values, detected during testing process."
   ]
  },
  {
   "cell_type": "code",
   "execution_count": null,
   "metadata": {},
   "outputs": [],
   "source": [
    "idx = [17890, 19270, 20370]\n",
    "df.loc[idx, \"G201_IC1\":\"G201_IF12\"] = df.loc[idx, \"G201_IC1\":\"G201_IF12\"].replace({\"99999\": \"88888\", 999: 88})"
   ]
  },
  {
   "cell_type": "code",
   "execution_count": null,
   "metadata": {},
   "outputs": [],
   "source": [
    "# If any IF or IC value is missing, all others in that row are also missing\n",
    "for index, row in df.iterrows():\n",
    "    if row[IF_ROWS].isin([999]).any():\n",
    "        assert row[IF_ROWS].isin([999]).all(), f\"ID {index}: Not all IF values are missing when one is missing.\"\n",
    "    if row[IC_ROWS].isin(['99999']).any():\n",
    "        assert row[IC_ROWS].isin(['99999']).all(), f\"ID {index}: Not all IC values are missing when one is missing.\""
   ]
  },
  {
   "cell_type": "markdown",
   "metadata": {},
   "source": [
    "ID 11642: two values for IF and IC that follow a N/A value.\n",
    "It appears a couple of cells of data were accidentally copied down a line, for IF3, IF4, IC3 and IC4.\n",
    "\n",
    "ID 23180: one value for IF and IC that follows a N/A value.\n",
    "Given IF4 and IC4 match IF2 and IC2, and there's a N/A value in-between, it seems likely they've been accidentally copied over."
   ]
  },
  {
   "cell_type": "code",
   "execution_count": null,
   "metadata": {},
   "outputs": [],
   "source": [
    "df.loc[11642, [\"G201_IF3\", \"G201_IF4\"]] = 88\n",
    "df.loc[11642, [\"G201_IC3\", \"G201_IC4\"]] = \"88888\"\n",
    "\n",
    "df.loc[23180, [\"G201_IF4\"]] = 88\n",
    "df.loc[23180, [\"G201_IC4\"]] = \"88888\""
   ]
  },
  {
   "cell_type": "code",
   "execution_count": null,
   "metadata": {},
   "outputs": [],
   "source": [
    "# If any IF or IC value is N/A, all following values are also N/A\n",
    "for index, row in df.iterrows():\n",
    "    if row[IF_ROWS].isin([88]).any():\n",
    "        assert row[IF_ROWS].loc[row[IF_ROWS].isin([88]).idxmax():].isin([88]).all(), f\"Row {index}: Not all following IF values are N/A.\"\n",
    "    if row[IC_ROWS].isin(['88888']).any():\n",
    "        assert row[IC_ROWS].loc[row[IC_ROWS].isin(['88888']).idxmax():].isin(['88888']).all(), f\"Row {index}: Not all following IC values are N/A.\""
   ]
  },
  {
   "cell_type": "markdown",
   "metadata": {},
   "source": [
    "Finally, confirm that if the first variable for all of `G201_IF1`, `G201_INF1`, and `G201_HOH1` are 88, all subsequent values are 88."
   ]
  },
  {
   "cell_type": "code",
   "execution_count": null,
   "metadata": {},
   "outputs": [],
   "source": [
    "assert all(df.loc[df[\"G201_IF1\"] == 88, \"G201_IF1\":\"G201_IF12\"] == 88)\n",
    "assert all(df.loc[df[\"G201_INF1\"] == 88, \"G201_INF1\":\"G201_INF5\"] == 88)\n",
    "assert all(df.loc[df[\"G201_HOH1\"] == 88, \"G201_HOH1\":\"G201_HOH6\"] == 88)"
   ]
  },
  {
   "cell_type": "markdown",
   "metadata": {},
   "source": [
    "## Create, Delete, and Rename Variables"
   ]
  },
  {
   "cell_type": "markdown",
   "metadata": {},
   "source": [
    "### Create"
   ]
  },
  {
   "cell_type": "markdown",
   "metadata": {},
   "source": [
    "Create following binary variables (for all cases: in past 12 months that required a visit to hospital)\n",
    "- `G201_IL`: illnesses or problems (Yes if `G201_IF1` is Yes); \n",
    "- `G201_INJ`: any accidents or injuries (Yes if `G201_INF1` is Yes); and\n",
    "- `G201_HO`: admitted to hospital (Yes if `G201_HO1` is Yes)"
   ]
  },
  {
   "cell_type": "code",
   "execution_count": null,
   "metadata": {},
   "outputs": [],
   "source": [
    "conditions = [\n",
    "    # When the value for the conditional col is Missing (999) set to Missing\n",
    "    {\"condition\": 999, \"value\": 999},\n",
    "    # When value is N/A (88), set to 0 (No)\n",
    "    {\"condition\": 88, \"value\": 0},\n",
    "    # When value is neither N/A nor Missing, set to 1 (Yes)\n",
    "    {\"condition\": lambda x: x not in [88, 999], \"value\": 1}\n",
    "]\n",
    "\n",
    "transformations = [\n",
    "    {\n",
    "        \"target_col\": \"G201_IL\",\n",
    "        \"condition_col\": \"G201_IF1\",\n",
    "        \"conditions\": conditions\n",
    "    },\n",
    "    {\n",
    "        \"target_col\": \"G201_INJ\",\n",
    "        \"condition_col\": \"G201_INF1\",\n",
    "        \"conditions\": conditions\n",
    "    },\n",
    "    {\n",
    "        \"target_col\": \"G201_HO\",\n",
    "        \"condition_col\": \"G201_HOH1\",\n",
    "        \"conditions\": conditions\n",
    "    }\n",
    "]"
   ]
  },
  {
   "cell_type": "code",
   "execution_count": 5,
   "metadata": {},
   "outputs": [],
   "source": [
    "df = create_variables(df, transformations)"
   ]
  },
  {
   "cell_type": "markdown",
   "metadata": {},
   "source": [
    "Test to ensure changes were correctly implemented."
   ]
  },
  {
   "cell_type": "code",
   "execution_count": null,
   "metadata": {},
   "outputs": [],
   "source": [
    "CREATE = {\n",
    "    \"G201_IL\": \"G201_IF1\", \n",
    "    \"G201_INJ\": \"G201_INF1\",\n",
    "    \"G201_HO\": \"G201_HOH1\"\n",
    "}\n",
    "\n",
    "for target_col, condition_col in CREATE.items():\n",
    "    assert all(df.loc[~df[condition_col].isin([88, 999]), target_col] == 1) \n",
    "    assert all(df.loc[df[condition_col] == 88, target_col] == 0) \n",
    "    assert all(df.loc[df[condition_col] == 999, target_col] == 999) "
   ]
  },
  {
   "cell_type": "markdown",
   "metadata": {},
   "source": [
    "### Delete"
   ]
  },
  {
   "cell_type": "code",
   "execution_count": null,
   "metadata": {},
   "outputs": [],
   "source": [
    "DELETE = [\"DOB\", # should not be included in the dataset; captured in Longitudinal Data/Gen2_Ages.sav\n",
    "          \"G201_IF13\"] # as stated above, appears unreliable\n",
    "\n",
    "df.drop(DELETE, axis=1, inplace=True)\n",
    "meta.drop(DELETE, axis=1, inplace=True)"
   ]
  },
  {
   "cell_type": "code",
   "execution_count": null,
   "metadata": {},
   "outputs": [],
   "source": [
    "for var in DELETE:\n",
    "    assert var not in df.columns\n",
    "    assert var not in meta.columns"
   ]
  },
  {
   "cell_type": "markdown",
   "metadata": {},
   "source": [
    "### Rename Variables"
   ]
  },
  {
   "cell_type": "code",
   "execution_count": null,
   "metadata": {},
   "outputs": [],
   "source": [
    "RENAME = {} # no vars to rename\n",
    "\n",
    "df.rename(columns=RENAME, inplace=True)\n",
    "meta.rename(columns=RENAME, inplace=True)"
   ]
  },
  {
   "cell_type": "code",
   "execution_count": null,
   "metadata": {},
   "outputs": [],
   "source": [
    "for original, updated in RENAME.items():\n",
    "    assert original not in df.columns\n",
    "    assert original not in meta.columns\n",
    "    assert updated in df.columns\n",
    "    assert updated in meta.columns"
   ]
  },
  {
   "cell_type": "markdown",
   "metadata": {},
   "source": [
    "## Save Interim Data"
   ]
  },
  {
   "cell_type": "code",
   "execution_count": null,
   "metadata": {},
   "outputs": [],
   "source": [
    "write_sav(OUTPUT, df, meta)"
   ]
  },
  {
   "cell_type": "markdown",
   "metadata": {},
   "source": [
    "### Compare interim with raw data"
   ]
  },
  {
   "cell_type": "code",
   "execution_count": null,
   "metadata": {},
   "outputs": [],
   "source": [
    "df_old, meta_old = read_sav(INPUT, index=\"ID\")\n",
    "df_new, meta_new = read_sav(OUTPUT, index=\"ID\")"
   ]
  },
  {
   "cell_type": "code",
   "execution_count": null,
   "metadata": {},
   "outputs": [],
   "source": [
    "# Ensure all columns were correctly created, deleted, and/or renamed\n",
    "\n",
    "old, new = rn.diff(df_old.columns, df_new.columns)\n",
    "\n",
    "assert all([var in old for var in DELETE])\n",
    "assert all([var in old for var in RENAME.keys()])\n",
    "assert all([var in new for var in RENAME.values()])\n",
    "assert all([var in new for var in CREATE])"
   ]
  },
  {
   "cell_type": "code",
   "execution_count": null,
   "metadata": {},
   "outputs": [],
   "source": [
    "# Compare raw data, not including variables that were created or deleted, and renaming the old variables to match for comparison\n",
    "\n",
    "old_cols = [col for col in df_old.columns if col not in DELETE]\n",
    "new_cols = [col for col in df_new.columns if col not in CREATE]\n",
    "dfx = df_new[new_cols].compare(df_old[old_cols].rename(RENAME))\n",
    "dfx"
   ]
  },
  {
   "cell_type": "code",
   "execution_count": null,
   "metadata": {},
   "outputs": [],
   "source": [
    "from pandas import DataFrame\n",
    "from typing import List\n",
    "\n",
    "def compare(df1: DataFrame, # updated data\n",
    "            df2: DataFrame, # original data\n",
    "            columns: List[str], # columns impact\n",
    "            idx: List[int], # IDs impacted\n",
    "            new_value: str|int, # new value\n",
    "            old_value: str|int # value that was replaced\n",
    "            ) -> bool: # Output True if all expected changes pass\n",
    "    \"Check that expected changes were correctly implemented.\"\n",
    "    dfx = df1.loc[idx, columns].compare(df2.loc[idx, columns], result_names=(\"new\", \"old\"))\n",
    "    dfx = dfx.stack(future_stack=True).swaplevel()\n",
    "    assert (dfx.loc[\"new\"] == new_value).all().all()\n",
    "    assert (dfx.loc[\"old\"] == old_value).all().all()\n",
    "    print(\"All changes correctly updated.\")"
   ]
  },
  {
   "cell_type": "code",
   "execution_count": null,
   "metadata": {},
   "outputs": [],
   "source": [
    "# Changes should capture each specific changes, meaning column, the IDs that are affected, and the corresponding change\n",
    "\n",
    "CHANGES = [\n",
    "    {\n",
    "        \"columns\": [\"G201_IF1\"],\n",
    "        \"idx\": [135],\n",
    "        \"old_value\": 0,\n",
    "        \"new_value\": 1 \n",
    "    },\n",
    "    {\n",
    "        \"columns\": [\"G201_IF2\"],\n",
    "        \"idx\": [135],\n",
    "        \"old_value\": 1,\n",
    "        \"new_value\": 0 \n",
    "    },\n",
    "    {\n",
    "        \"columns\": [\"G201_IF3\", \"G201_IF4\"],\n",
    "        \"idx\": [1750],\n",
    "        \"old_value\": 1,\n",
    "        \"new_value\": 88 \n",
    "    },\n",
    "    {\n",
    "        \"columns\": [\"G201_IC3\"],\n",
    "        \"idx\": [1750],\n",
    "        \"old_value\": \"00900\",\n",
    "        \"new_value\": \"88888\"\n",
    "    },\n",
    "    {\n",
    "        \"columns\": [\"G201_IC4\"],\n",
    "        \"idx\": [1750],\n",
    "        \"old_value\": \"05290\",\n",
    "        \"new_value\": \"88888\"\n",
    "    },\n",
    "    {\n",
    "        \"columns\": [\"G201_IF4\"],\n",
    "        \"idx\": [2034],\n",
    "        \"old_value\": 1,\n",
    "        \"new_value\": 88\n",
    "    },\n",
    "    {\n",
    "        \"columns\": [\"G201_IC4\"],\n",
    "        \"idx\": [2034],\n",
    "        \"old_value\": \"V7200\",\n",
    "        \"new_value\": \"88888\"\n",
    "    },\n",
    "    {\n",
    "        \"columns\": ['G201_IC2', 'G201_IC3', 'G201_IC4', 'G201_IC5', 'G201_IC6', 'G201_IC7', 'G201_IC8', 'G201_IC9', 'G201_IC10', 'G201_IC11', 'G201_IC12'],\n",
    "        \"idx\": [856, 1648],\n",
    "        \"old_value\": \"99999\",\n",
    "        \"new_value\": \"88888\"\n",
    "    },\n",
    "    {\n",
    "        \"columns\": ['G201_IF2', 'G201_IF3', 'G201_IF4', 'G201_IF5', 'G201_IF6', 'G201_IF7', 'G201_IF8', 'G201_IF9', 'G201_IF10', 'G201_IF11', 'G201_IF12'],\n",
    "        \"idx\": [856, 1648],\n",
    "        \"old_value\": 999,\n",
    "        \"new_value\": 88\n",
    "    },\n",
    "    {\n",
    "        \"columns\": ['G201_IC4', 'G201_IC5', 'G201_IC6', 'G201_IC7', 'G201_IC8', 'G201_IC9', 'G201_IC10', 'G201_IC11', 'G201_IC12'],\n",
    "        \"idx\": [1945],\n",
    "        \"old_value\": \"99999\",\n",
    "        \"new_value\": \"88888\"\n",
    "    },\n",
    "    {\n",
    "        \"columns\": ['G201_IF4', 'G201_IF5', 'G201_IF6', 'G201_IF7', 'G201_IF8', 'G201_IF9', 'G201_IF10', 'G201_IF11', 'G201_IF12'],\n",
    "        \"idx\": [1945],\n",
    "        \"old_value\": 999,\n",
    "        \"new_value\": 88\n",
    "    },\n",
    "]"
   ]
  },
  {
   "cell_type": "code",
   "execution_count": null,
   "metadata": {},
   "outputs": [],
   "source": [
    "for n, change in enumerate(CHANGES, start=1):\n",
    "    print(f\"Change {n}...\")\n",
    "    columns = change[\"columns\"]\n",
    "    idx = change[\"idx\"]\n",
    "    new_value = change[\"new_value\"]\n",
    "    old_value = change[\"old_value\"]\n",
    "    compare(df_new, df_old, columns, idx, new_value, old_value)"
   ]
  },
  {
   "cell_type": "markdown",
   "metadata": {},
   "source": [
    "### Compare metadata"
   ]
  },
  {
   "cell_type": "code",
   "execution_count": null,
   "metadata": {},
   "outputs": [],
   "source": [
    "# Compare metadata, not including variables that were created or deleted, and renaming the old variables to match for comparison\n",
    "\n",
    "old_cols = [col for col in meta_old.columns if col not in DELETE]\n",
    "new_cols = [col for col in meta_new.columns if col not in CREATE]\n",
    "metax = meta_new[new_cols].compare(meta_old[old_cols].rename(RENAME))\n",
    "metax"
   ]
  }
 ],
 "metadata": {
  "kernelspec": {
   "display_name": "my_env",
   "language": "python",
   "name": "python3"
  },
  "language_info": {
   "codemirror_mode": {
    "name": "ipython",
    "version": 3
   },
   "file_extension": ".py",
   "mimetype": "text/x-python",
   "name": "python",
   "nbconvert_exporter": "python",
   "pygments_lexer": "ipython3",
   "version": "3.12.4"
  }
 },
 "nbformat": 4,
 "nbformat_minor": 2
}
