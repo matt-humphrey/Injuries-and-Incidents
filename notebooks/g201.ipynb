{
 "cells": [
  {
   "cell_type": "markdown",
   "metadata": {},
   "source": [
    "# G201"
   ]
  },
  {
   "cell_type": "markdown",
   "metadata": {},
   "source": [
    "## Set up"
   ]
  },
  {
   "cell_type": "code",
   "execution_count": 1,
   "metadata": {},
   "outputs": [],
   "source": [
    "import pandas as pd\n",
    "from fastcore.test import *\n",
    "from fastcore.utils import *\n",
    "import pyspssio\n",
    "\n",
    "import raine_tools as rn\n",
    "from data_harmonising.data import *\n",
    "\n",
    "from src.config import WORKBOOK, SHEETNAME"
   ]
  },
  {
   "cell_type": "code",
   "execution_count": null,
   "metadata": {},
   "outputs": [],
   "source": [
    "INPUT = \"../data/raw/G201_Quest_PA.sav\"\n",
    "OUTPUT = \"../data/interim/G201_Quest_PA.sav\""
   ]
  },
  {
   "cell_type": "code",
   "execution_count": null,
   "metadata": {},
   "outputs": [],
   "source": [
    "df, meta = read_sav(INPUT, index=\"ID\")"
   ]
  },
  {
   "cell_type": "code",
   "execution_count": 3,
   "metadata": {},
   "outputs": [],
   "source": [
    "# wb = pd.read_excel(WORKBOOK, sheet_name=SHEETNAME)\n",
    "# wb['vn_old'] = wb['Dataset'] + '_' + wb['Variable Name']\n",
    "# wb['vn_new'] = wb['Dataset'] + '_' + wb['Harmonised Variable Name']\n",
    "# VARS = wb.loc[wb['Dataset'] == 'G201', \"Variable Name\"].to_list()"
   ]
  },
  {
   "cell_type": "markdown",
   "metadata": {},
   "source": [
    "## Data exploration"
   ]
  },
  {
   "cell_type": "markdown",
   "metadata": {},
   "source": [
    "### The strange case of `G201_IF13`"
   ]
  },
  {
   "cell_type": "markdown",
   "metadata": {},
   "source": [
    "Why does `G201_IF13` exist, especially when there's no corresponding `G201_IC13`?  \n",
    "Furthermore, the values don't align with the previous IC? variables."
   ]
  },
  {
   "cell_type": "code",
   "execution_count": 4,
   "metadata": {},
   "outputs": [
    {
     "data": {
      "text/plain": [
       "G201_IF13\n",
       "0.0          2414\n",
       "9.0            27\n",
       "1.0             4\n",
       "2.0             1\n",
       "Name: count, dtype: int64"
      ]
     },
     "execution_count": 4,
     "metadata": {},
     "output_type": "execute_result"
    }
   ],
   "source": [
    "df.loc[:, [\"G201_IF13\"]].value_counts() "
   ]
  },
  {
   "cell_type": "markdown",
   "metadata": {},
   "source": [
    "For all other cases of `G201_IF1` to `G201_IF12`, a 0 means that the incident is related to the incident in the previous IF? variable.  \n",
    "When `G201_IF13` is 0, the majority of cases were N/A, and values range across the board; this doesn't fit with the existing logic."
   ]
  },
  {
   "cell_type": "code",
   "execution_count": 5,
   "metadata": {},
   "outputs": [
    {
     "data": {
      "text/plain": [
       "G201_IF12  G201_IF13\n",
       "88.0       0.0          2404\n",
       "1.0        0.0             6\n",
       "0.0        0.0             2\n",
       "2.0        0.0             1\n",
       "999.0      0.0             1\n",
       "Name: count, dtype: int64"
      ]
     },
     "execution_count": 5,
     "metadata": {},
     "output_type": "execute_result"
    }
   ],
   "source": [
    "df.loc[df[\"G201_IF13\"] == 0, \"G201_IF12\":\"G201_IF13\"].value_counts()"
   ]
  },
  {
   "cell_type": "markdown",
   "metadata": {},
   "source": [
    "At least when `G201_IF13` is missing (9), the previous value was also missing (999)."
   ]
  },
  {
   "cell_type": "code",
   "execution_count": 6,
   "metadata": {},
   "outputs": [
    {
     "data": {
      "text/plain": [
       "G201_IF12  G201_IF13\n",
       "999.0      9.0          27\n",
       "Name: count, dtype: int64"
      ]
     },
     "execution_count": 6,
     "metadata": {},
     "output_type": "execute_result"
    }
   ],
   "source": [
    "df.loc[df[\"G201_IF13\"] == 9, \"G201_IF12\":\"G201_IF13\"].value_counts()"
   ]
  },
  {
   "cell_type": "markdown",
   "metadata": {},
   "source": [
    "Finally, when `G201_IF13` is 1 or 2, the previous values are 0 or 1; this doesn't specifically highlight any errors."
   ]
  },
  {
   "cell_type": "code",
   "execution_count": 7,
   "metadata": {},
   "outputs": [
    {
     "data": {
      "text/plain": [
       "G201_IF12  G201_IF13\n",
       "1.0        1.0          3\n",
       "0.0        1.0          1\n",
       "1.0        2.0          1\n",
       "Name: count, dtype: int64"
      ]
     },
     "execution_count": 7,
     "metadata": {},
     "output_type": "execute_result"
    }
   ],
   "source": [
    "df.loc[df[\"G201_IF13\"].between(1, 2), \"G201_IF12\":\"G201_IF13\"].value_counts()"
   ]
  },
  {
   "cell_type": "markdown",
   "metadata": {},
   "source": [
    "`G201_IF13` does not align with the previous values, and there are clear logical discrepancies.  \n",
    "Given there is no corresponding `G201_IC13` to explain the few instances of a 1 or 2, and the 0s appear to be unreliable, I plan to drop it."
   ]
  },
  {
   "cell_type": "markdown",
   "metadata": {},
   "source": [
    "### Checking that IF? and IC? variables are correctly aligned"
   ]
  },
  {
   "cell_type": "code",
   "execution_count": 8,
   "metadata": {},
   "outputs": [],
   "source": [
    "IF_ROWS = ['G201_IF1', 'G201_IF2', 'G201_IF3', 'G201_IF4', 'G201_IF5', 'G201_IF6',\n",
    "           'G201_IF7', 'G201_IF8', 'G201_IF9', 'G201_IF10', 'G201_IF11', 'G201_IF12']\n",
    "\n",
    "IC_ROWS = ['G201_IC1', 'G201_IC2', 'G201_IC3', 'G201_IC4', 'G201_IC5', 'G201_IC6',\n",
    "           'G201_IC7', 'G201_IC8', 'G201_IC9', 'G201_IC10', 'G201_IC11', 'G201_IC12']"
   ]
  },
  {
   "cell_type": "markdown",
   "metadata": {},
   "source": [
    "If `G201_IC?` is N/A (\"88888\"), the corresponding `G201_IF?` should also be N/A (88).  \n",
    "Else if `G201_IC?` is Missing (\"99999\"), the corresponding `G201_IF?` should also be Missing (999).    \n",
    "Otherwise, the corresponding `G201_IF?` should not be N/A or Missing."
   ]
  },
  {
   "cell_type": "code",
   "execution_count": 9,
   "metadata": {},
   "outputs": [],
   "source": [
    "for n in range(1, 13): \n",
    "    assert (df.loc[df[f\"G201_IC{n}\"] == \"88888\", f\"G201_IF{n}\"] == 88).all()\n",
    "    assert (df.loc[df[f\"G201_IC{n}\"] == \"99999\", f\"G201_IF{n}\"] == 999).all()\n",
    "    assert not df.loc[~df[f\"G201_IC{n}\"].isin([\"88888\", \"99999\"]), f\"G201_IF{n}\"].isin([88, 999]).all()"
   ]
  },
  {
   "cell_type": "markdown",
   "metadata": {},
   "source": [
    "The reverse of this should also be true, such that if `G201_IF?` is N/A, the corresponding `G201_IC?` value should also be N/A, and so on."
   ]
  },
  {
   "cell_type": "code",
   "execution_count": 10,
   "metadata": {},
   "outputs": [],
   "source": [
    "for n in range(1, 13): \n",
    "    assert (df.loc[df[f\"G201_IF{n}\"] == 88, f\"G201_IC{n}\"] == \"88888\").all()\n",
    "    assert (df.loc[df[f\"G201_IF{n}\"] == 999, f\"G201_IC{n}\"] == \"99999\").all()\n",
    "    assert not df.loc[~df[f\"G201_IF{n}\"].isin([88, 999]), f\"G201_IC{n}\"].isin([\"88888\", \"99999\"]).all()"
   ]
  },
  {
   "cell_type": "markdown",
   "metadata": {},
   "source": [
    "If `G201_IF1` is No (0), then remaining `G201_IF?` values should be N/A (88).  \n",
    "However, a single instance of this was located at ID 10080. "
   ]
  },
  {
   "cell_type": "code",
   "execution_count": 11,
   "metadata": {},
   "outputs": [
    {
     "data": {
      "text/html": [
       "<div>\n",
       "<style scoped>\n",
       "    .dataframe tbody tr th:only-of-type {\n",
       "        vertical-align: middle;\n",
       "    }\n",
       "\n",
       "    .dataframe tbody tr th {\n",
       "        vertical-align: top;\n",
       "    }\n",
       "\n",
       "    .dataframe thead th {\n",
       "        text-align: right;\n",
       "    }\n",
       "</style>\n",
       "<table border=\"1\" class=\"dataframe\">\n",
       "  <thead>\n",
       "    <tr style=\"text-align: right;\">\n",
       "      <th></th>\n",
       "      <th>G201_IC1</th>\n",
       "      <th>G201_IC2</th>\n",
       "      <th>G201_IC3</th>\n",
       "      <th>G201_IC4</th>\n",
       "      <th>G201_IC5</th>\n",
       "      <th>G201_IF1</th>\n",
       "      <th>G201_IF2</th>\n",
       "      <th>G201_IF3</th>\n",
       "      <th>G201_IF4</th>\n",
       "      <th>G201_IF5</th>\n",
       "    </tr>\n",
       "    <tr>\n",
       "      <th>ID</th>\n",
       "      <th></th>\n",
       "      <th></th>\n",
       "      <th></th>\n",
       "      <th></th>\n",
       "      <th></th>\n",
       "      <th></th>\n",
       "      <th></th>\n",
       "      <th></th>\n",
       "      <th></th>\n",
       "      <th></th>\n",
       "    </tr>\n",
       "  </thead>\n",
       "  <tbody>\n",
       "    <tr>\n",
       "      <th>10080.0</th>\n",
       "      <td>69100</td>\n",
       "      <td>69290</td>\n",
       "      <td>88888</td>\n",
       "      <td>88888</td>\n",
       "      <td>88888</td>\n",
       "      <td>0.0</td>\n",
       "      <td>1.0</td>\n",
       "      <td>88.0</td>\n",
       "      <td>88.0</td>\n",
       "      <td>88.0</td>\n",
       "    </tr>\n",
       "  </tbody>\n",
       "</table>\n",
       "</div>"
      ],
      "text/plain": [
       "        G201_IC1 G201_IC2 G201_IC3 G201_IC4 G201_IC5  G201_IF1  G201_IF2  \\\n",
       "ID                                                                         \n",
       "10080.0    69100    69290    88888    88888    88888       0.0       1.0   \n",
       "\n",
       "         G201_IF3  G201_IF4  G201_IF5  \n",
       "ID                                     \n",
       "10080.0      88.0      88.0      88.0  "
      ]
     },
     "execution_count": 11,
     "metadata": {},
     "output_type": "execute_result"
    }
   ],
   "source": [
    "df.loc[df[\"G201_IF1\"] == 0].filter(regex=r'I(C|F)[1-5]\\b')"
   ]
  },
  {
   "cell_type": "markdown",
   "metadata": {},
   "source": [
    "For ID 10080, given both conditions are interrelatated (dermatitis), I believe it's likely the participant would have seen the doctor once for both cases.  \n",
    "Therefore, it makes sense to change IF1 to 1 and IF2 to 0."
   ]
  },
  {
   "cell_type": "code",
   "execution_count": 12,
   "metadata": {},
   "outputs": [],
   "source": [
    "idx = [10080]\n",
    "df.loc[idx, \"G201_IF1\"] = 1\n",
    "df.loc[idx, \"G201_IF2\"] = 0"
   ]
  },
  {
   "cell_type": "markdown",
   "metadata": {},
   "source": [
    "Participants with IDs 17890, 19270, and 20370 had missing values in place of N/A values, detected during testing process."
   ]
  },
  {
   "cell_type": "code",
   "execution_count": 13,
   "metadata": {},
   "outputs": [],
   "source": [
    "idx = [17890, 19270, 20370]\n",
    "df.loc[idx, \"G201_IC1\":\"G201_IF12\"] = df.loc[idx, \"G201_IC1\":\"G201_IF12\"].replace({\"99999\": \"88888\", 999: 88})"
   ]
  },
  {
   "cell_type": "code",
   "execution_count": 14,
   "metadata": {},
   "outputs": [],
   "source": [
    "# If any IF or IC value is missing, all others in that row are also missing\n",
    "for index, row in df.iterrows():\n",
    "    if row[IF_ROWS].isin([999]).any():\n",
    "        assert row[IF_ROWS].isin([999]).all(), f\"ID {index}: Not all IF values are missing when one is missing.\"\n",
    "    if row[IC_ROWS].isin(['99999']).any():\n",
    "        assert row[IC_ROWS].isin(['99999']).all(), f\"ID {index}: Not all IC values are missing when one is missing.\""
   ]
  },
  {
   "cell_type": "markdown",
   "metadata": {},
   "source": [
    "ID 11642: two values for IF and IC that follow a N/A value.\n",
    "It appears a couple of cells of data were accidentally copied down a line, for IF3, IF4, IC3 and IC4.\n",
    "\n",
    "ID 23180: one value for IF and IC that follows a N/A value.\n",
    "Given IF4 and IC4 match IF2 and IC2, and there's a N/A value in-between, it seems likely they've been accidentally copied over."
   ]
  },
  {
   "cell_type": "code",
   "execution_count": 15,
   "metadata": {},
   "outputs": [],
   "source": [
    "df.loc[11642, [\"G201_IF3\", \"G201_IF4\"]] = 88\n",
    "df.loc[11642, [\"G201_IC3\", \"G201_IC4\"]] = \"88888\"\n",
    "\n",
    "df.loc[23180, [\"G201_IF4\"]] = 88\n",
    "df.loc[23180, [\"G201_IC4\"]] = \"88888\""
   ]
  },
  {
   "cell_type": "code",
   "execution_count": 16,
   "metadata": {},
   "outputs": [],
   "source": [
    "# If any IF or IC value is N/A, all following values are also N/A\n",
    "for index, row in df.iterrows():\n",
    "    if row[IF_ROWS].isin([88]).any():\n",
    "        assert row[IF_ROWS].loc[row[IF_ROWS].isin([88]).idxmax():].isin([88]).all(), f\"Row {index}: Not all following IF values are N/A.\"\n",
    "    if row[IC_ROWS].isin(['88888']).any():\n",
    "        assert row[IC_ROWS].loc[row[IC_ROWS].isin(['88888']).idxmax():].isin(['88888']).all(), f\"Row {index}: Not all following IC values are N/A.\""
   ]
  },
  {
   "cell_type": "markdown",
   "metadata": {},
   "source": [
    "## Create, Delete, and Rename Variables"
   ]
  },
  {
   "cell_type": "markdown",
   "metadata": {},
   "source": [
    "Create binary variables `G201_IL`, `G201_INJ` and `G201_HO` to harmonise with other datasets."
   ]
  },
  {
   "cell_type": "code",
   "execution_count": 17,
   "metadata": {},
   "outputs": [
    {
     "name": "stderr",
     "output_type": "stream",
     "text": [
      "C:\\Users\\00113294\\AppData\\Local\\Temp\\ipykernel_29384\\2694142160.py:5: PerformanceWarning: DataFrame is highly fragmented.  This is usually the result of calling `frame.insert` many times, which has poor performance.  Consider joining all columns at once using pd.concat(axis=1) instead. To get a de-fragmented frame, use `newframe = frame.copy()`\n",
      "  df[CREATE] = None\n",
      "C:\\Users\\00113294\\AppData\\Local\\Temp\\ipykernel_29384\\2694142160.py:5: PerformanceWarning: DataFrame is highly fragmented.  This is usually the result of calling `frame.insert` many times, which has poor performance.  Consider joining all columns at once using pd.concat(axis=1) instead. To get a de-fragmented frame, use `newframe = frame.copy()`\n",
      "  df[CREATE] = None\n",
      "C:\\Users\\00113294\\AppData\\Local\\Temp\\ipykernel_29384\\2694142160.py:5: PerformanceWarning: DataFrame is highly fragmented.  This is usually the result of calling `frame.insert` many times, which has poor performance.  Consider joining all columns at once using pd.concat(axis=1) instead. To get a de-fragmented frame, use `newframe = frame.copy()`\n",
      "  df[CREATE] = None\n"
     ]
    }
   ],
   "source": [
    "CREATE = [\"G201_IL\", # answered yes to one or more IF variables\n",
    "          \"G201_INJ\", # answered yes to one or more INF variables\n",
    "          \"G201_HO\"] # answered yes to one or more HOH variables\n",
    "\n",
    "df[CREATE] = None\n",
    "meta[CREATE] = None"
   ]
  },
  {
   "cell_type": "code",
   "execution_count": 18,
   "metadata": {},
   "outputs": [],
   "source": [
    "for var in CREATE:\n",
    "    assert var in df.columns\n",
    "    assert var in meta.columns"
   ]
  },
  {
   "cell_type": "code",
   "execution_count": 19,
   "metadata": {},
   "outputs": [],
   "source": [
    "DELETE = [\"DOB\", # should not be included in the dataset; captured in Longitudinal Data/Gen2_Ages.sav\n",
    "          \"G201_IF13\"] # as stated above, appears unreliable\n",
    "\n",
    "df.drop(DELETE, axis=1, inplace=True)\n",
    "meta.drop(DELETE, axis=1, inplace=True)"
   ]
  },
  {
   "cell_type": "code",
   "execution_count": 20,
   "metadata": {},
   "outputs": [],
   "source": [
    "for var in DELETE:\n",
    "    assert var not in df.columns\n",
    "    assert var not in meta.columns"
   ]
  },
  {
   "cell_type": "code",
   "execution_count": 21,
   "metadata": {},
   "outputs": [],
   "source": [
    "RENAME = {} # no vars to rename\n",
    "\n",
    "df.rename(columns=RENAME, inplace=True)\n",
    "meta.rename(columns=RENAME, inplace=True)"
   ]
  },
  {
   "cell_type": "code",
   "execution_count": 22,
   "metadata": {},
   "outputs": [],
   "source": [
    "for original, updated in RENAME.items():\n",
    "    assert original not in df.columns\n",
    "    assert original not in meta.columns\n",
    "    assert updated in df.columns\n",
    "    assert updated in meta.columns"
   ]
  },
  {
   "cell_type": "markdown",
   "metadata": {},
   "source": [
    "## Save Interim Data"
   ]
  },
  {
   "cell_type": "code",
   "execution_count": 23,
   "metadata": {},
   "outputs": [],
   "source": [
    "def output_metadata(metadata: pd.DataFrame):\n",
    "    \"Convert metadata from a DataFrame to a nested dictionary to be compatible with pyspssio\"\n",
    "    RENAME_COLUMNS = {\n",
    "        \"Label\": \"var_labels\",\n",
    "        \"Field Type\": \"var_formats\",\n",
    "        \"Field Width\": \"var_column_widths\",\n",
    "        # \"Decimals\": , # could write a fn with regex to determine based on var format / field type\n",
    "        \"Variable Type\": \"var_measure_levels\",\n",
    "        \"Field Values\": \"var_value_labels\"\n",
    "    }\n",
    "    metadata = (metadata\n",
    "                .rename(index=RENAME_COLUMNS)\n",
    "                .T\n",
    "                .to_dict())\n",
    "    # Remove instances where values are NaN for compatibility when saving with pyspssio\n",
    "    metadata = {key: {k: v for k, v in value.items() if not pd.isnull(v)} for key, value in metadata.items()}\n",
    "    \n",
    "    return metadata"
   ]
  },
  {
   "cell_type": "code",
   "execution_count": 24,
   "metadata": {},
   "outputs": [
    {
     "name": "stderr",
     "output_type": "stream",
     "text": [
      "C:\\Users\\00113294\\AppData\\Local\\Temp\\ipykernel_29384\\3029853039.py:1: PerformanceWarning: DataFrame is highly fragmented.  This is usually the result of calling `frame.insert` many times, which has poor performance.  Consider joining all columns at once using pd.concat(axis=1) instead. To get a de-fragmented frame, use `newframe = frame.copy()`\n",
      "  df.reset_index(inplace=True)\n"
     ]
    }
   ],
   "source": [
    "df.reset_index(inplace=True)\n",
    "pyspssio.write_sav(OUTPUT, df, output_metadata(meta))"
   ]
  },
  {
   "cell_type": "markdown",
   "metadata": {},
   "source": [
    "### Compare interim with raw data"
   ]
  },
  {
   "cell_type": "code",
   "execution_count": 6,
   "metadata": {},
   "outputs": [],
   "source": [
    "df_old, meta_old = read_sav(INPUT, index=\"ID\")\n",
    "df_new, meta_new = read_sav(OUTPUT, index=\"ID\")"
   ]
  },
  {
   "cell_type": "code",
   "execution_count": 7,
   "metadata": {},
   "outputs": [
    {
     "ename": "NameError",
     "evalue": "name 'DELETE' is not defined",
     "output_type": "error",
     "traceback": [
      "\u001b[1;31m---------------------------------------------------------------------------\u001b[0m",
      "\u001b[1;31mNameError\u001b[0m                                 Traceback (most recent call last)",
      "Cell \u001b[1;32mIn[7], line 5\u001b[0m\n\u001b[0;32m      1\u001b[0m \u001b[38;5;66;03m# Ensure all columns were correctly created, deleted, and/or renamed\u001b[39;00m\n\u001b[0;32m      3\u001b[0m old, new \u001b[38;5;241m=\u001b[39m rn\u001b[38;5;241m.\u001b[39mdiff(df_old\u001b[38;5;241m.\u001b[39mcolumns, df_new\u001b[38;5;241m.\u001b[39mcolumns)\n\u001b[1;32m----> 5\u001b[0m \u001b[38;5;28;01massert\u001b[39;00m \u001b[38;5;28mall\u001b[39m([var \u001b[38;5;129;01min\u001b[39;00m old \u001b[38;5;28;01mfor\u001b[39;00m var \u001b[38;5;129;01min\u001b[39;00m \u001b[43mDELETE\u001b[49m])\n\u001b[0;32m      6\u001b[0m \u001b[38;5;28;01massert\u001b[39;00m \u001b[38;5;28mall\u001b[39m([var \u001b[38;5;129;01min\u001b[39;00m old \u001b[38;5;28;01mfor\u001b[39;00m var \u001b[38;5;129;01min\u001b[39;00m RENAME\u001b[38;5;241m.\u001b[39mkeys()])\n\u001b[0;32m      7\u001b[0m \u001b[38;5;28;01massert\u001b[39;00m \u001b[38;5;28mall\u001b[39m([var \u001b[38;5;129;01min\u001b[39;00m new \u001b[38;5;28;01mfor\u001b[39;00m var \u001b[38;5;129;01min\u001b[39;00m RENAME\u001b[38;5;241m.\u001b[39mvalues()])\n",
      "\u001b[1;31mNameError\u001b[0m: name 'DELETE' is not defined"
     ]
    }
   ],
   "source": [
    "# Ensure all columns were correctly created, deleted, and/or renamed\n",
    "\n",
    "old, new = rn.diff(df_old.columns, df_new.columns)\n",
    "\n",
    "assert all([var in old for var in DELETE])\n",
    "assert all([var in old for var in RENAME.keys()])\n",
    "assert all([var in new for var in RENAME.values()])\n",
    "assert all([var in new for var in CREATE])"
   ]
  },
  {
   "cell_type": "code",
   "execution_count": 27,
   "metadata": {},
   "outputs": [
    {
     "data": {
      "text/html": [
       "<div>\n",
       "<style scoped>\n",
       "    .dataframe tbody tr th:only-of-type {\n",
       "        vertical-align: middle;\n",
       "    }\n",
       "\n",
       "    .dataframe tbody tr th {\n",
       "        vertical-align: top;\n",
       "    }\n",
       "\n",
       "    .dataframe thead tr th {\n",
       "        text-align: left;\n",
       "    }\n",
       "</style>\n",
       "<table border=\"1\" class=\"dataframe\">\n",
       "  <thead>\n",
       "    <tr>\n",
       "      <th></th>\n",
       "      <th colspan=\"2\" halign=\"left\">G201_IC2</th>\n",
       "      <th colspan=\"2\" halign=\"left\">G201_IC3</th>\n",
       "      <th colspan=\"2\" halign=\"left\">G201_IC4</th>\n",
       "      <th colspan=\"2\" halign=\"left\">G201_IC5</th>\n",
       "      <th colspan=\"2\" halign=\"left\">G201_IC6</th>\n",
       "      <th>...</th>\n",
       "      <th colspan=\"2\" halign=\"left\">G201_IF8</th>\n",
       "      <th colspan=\"2\" halign=\"left\">G201_IF9</th>\n",
       "      <th colspan=\"2\" halign=\"left\">G201_IF10</th>\n",
       "      <th colspan=\"2\" halign=\"left\">G201_IF11</th>\n",
       "      <th colspan=\"2\" halign=\"left\">G201_IF12</th>\n",
       "    </tr>\n",
       "    <tr>\n",
       "      <th></th>\n",
       "      <th>self</th>\n",
       "      <th>other</th>\n",
       "      <th>self</th>\n",
       "      <th>other</th>\n",
       "      <th>self</th>\n",
       "      <th>other</th>\n",
       "      <th>self</th>\n",
       "      <th>other</th>\n",
       "      <th>self</th>\n",
       "      <th>other</th>\n",
       "      <th>...</th>\n",
       "      <th>self</th>\n",
       "      <th>other</th>\n",
       "      <th>self</th>\n",
       "      <th>other</th>\n",
       "      <th>self</th>\n",
       "      <th>other</th>\n",
       "      <th>self</th>\n",
       "      <th>other</th>\n",
       "      <th>self</th>\n",
       "      <th>other</th>\n",
       "    </tr>\n",
       "  </thead>\n",
       "  <tbody>\n",
       "    <tr>\n",
       "      <th>135</th>\n",
       "      <td>NaN</td>\n",
       "      <td>NaN</td>\n",
       "      <td>NaN</td>\n",
       "      <td>NaN</td>\n",
       "      <td>NaN</td>\n",
       "      <td>NaN</td>\n",
       "      <td>NaN</td>\n",
       "      <td>NaN</td>\n",
       "      <td>NaN</td>\n",
       "      <td>NaN</td>\n",
       "      <td>...</td>\n",
       "      <td>NaN</td>\n",
       "      <td>NaN</td>\n",
       "      <td>NaN</td>\n",
       "      <td>NaN</td>\n",
       "      <td>NaN</td>\n",
       "      <td>NaN</td>\n",
       "      <td>NaN</td>\n",
       "      <td>NaN</td>\n",
       "      <td>NaN</td>\n",
       "      <td>NaN</td>\n",
       "    </tr>\n",
       "    <tr>\n",
       "      <th>856</th>\n",
       "      <td>88888</td>\n",
       "      <td>99999</td>\n",
       "      <td>88888</td>\n",
       "      <td>99999</td>\n",
       "      <td>88888</td>\n",
       "      <td>99999</td>\n",
       "      <td>88888</td>\n",
       "      <td>99999</td>\n",
       "      <td>88888</td>\n",
       "      <td>99999</td>\n",
       "      <td>...</td>\n",
       "      <td>88.0</td>\n",
       "      <td>999.0</td>\n",
       "      <td>88.0</td>\n",
       "      <td>999.0</td>\n",
       "      <td>88.0</td>\n",
       "      <td>999.0</td>\n",
       "      <td>88.0</td>\n",
       "      <td>999.0</td>\n",
       "      <td>88.0</td>\n",
       "      <td>999.0</td>\n",
       "    </tr>\n",
       "    <tr>\n",
       "      <th>1648</th>\n",
       "      <td>88888</td>\n",
       "      <td>99999</td>\n",
       "      <td>88888</td>\n",
       "      <td>99999</td>\n",
       "      <td>88888</td>\n",
       "      <td>99999</td>\n",
       "      <td>88888</td>\n",
       "      <td>99999</td>\n",
       "      <td>88888</td>\n",
       "      <td>99999</td>\n",
       "      <td>...</td>\n",
       "      <td>88.0</td>\n",
       "      <td>999.0</td>\n",
       "      <td>88.0</td>\n",
       "      <td>999.0</td>\n",
       "      <td>88.0</td>\n",
       "      <td>999.0</td>\n",
       "      <td>88.0</td>\n",
       "      <td>999.0</td>\n",
       "      <td>88.0</td>\n",
       "      <td>999.0</td>\n",
       "    </tr>\n",
       "    <tr>\n",
       "      <th>1750</th>\n",
       "      <td>NaN</td>\n",
       "      <td>NaN</td>\n",
       "      <td>88888</td>\n",
       "      <td>00900</td>\n",
       "      <td>88888</td>\n",
       "      <td>05290</td>\n",
       "      <td>NaN</td>\n",
       "      <td>NaN</td>\n",
       "      <td>NaN</td>\n",
       "      <td>NaN</td>\n",
       "      <td>...</td>\n",
       "      <td>NaN</td>\n",
       "      <td>NaN</td>\n",
       "      <td>NaN</td>\n",
       "      <td>NaN</td>\n",
       "      <td>NaN</td>\n",
       "      <td>NaN</td>\n",
       "      <td>NaN</td>\n",
       "      <td>NaN</td>\n",
       "      <td>NaN</td>\n",
       "      <td>NaN</td>\n",
       "    </tr>\n",
       "    <tr>\n",
       "      <th>1945</th>\n",
       "      <td>NaN</td>\n",
       "      <td>NaN</td>\n",
       "      <td>NaN</td>\n",
       "      <td>NaN</td>\n",
       "      <td>88888</td>\n",
       "      <td>99999</td>\n",
       "      <td>88888</td>\n",
       "      <td>99999</td>\n",
       "      <td>88888</td>\n",
       "      <td>99999</td>\n",
       "      <td>...</td>\n",
       "      <td>88.0</td>\n",
       "      <td>999.0</td>\n",
       "      <td>88.0</td>\n",
       "      <td>999.0</td>\n",
       "      <td>88.0</td>\n",
       "      <td>999.0</td>\n",
       "      <td>88.0</td>\n",
       "      <td>999.0</td>\n",
       "      <td>88.0</td>\n",
       "      <td>999.0</td>\n",
       "    </tr>\n",
       "    <tr>\n",
       "      <th>2034</th>\n",
       "      <td>NaN</td>\n",
       "      <td>NaN</td>\n",
       "      <td>NaN</td>\n",
       "      <td>NaN</td>\n",
       "      <td>88888</td>\n",
       "      <td>V7200</td>\n",
       "      <td>NaN</td>\n",
       "      <td>NaN</td>\n",
       "      <td>NaN</td>\n",
       "      <td>NaN</td>\n",
       "      <td>...</td>\n",
       "      <td>NaN</td>\n",
       "      <td>NaN</td>\n",
       "      <td>NaN</td>\n",
       "      <td>NaN</td>\n",
       "      <td>NaN</td>\n",
       "      <td>NaN</td>\n",
       "      <td>NaN</td>\n",
       "      <td>NaN</td>\n",
       "      <td>NaN</td>\n",
       "      <td>NaN</td>\n",
       "    </tr>\n",
       "  </tbody>\n",
       "</table>\n",
       "<p>6 rows × 46 columns</p>\n",
       "</div>"
      ],
      "text/plain": [
       "     G201_IC2        G201_IC3        G201_IC4        G201_IC5        G201_IC6  \\\n",
       "         self  other     self  other     self  other     self  other     self   \n",
       "135       NaN    NaN      NaN    NaN      NaN    NaN      NaN    NaN      NaN   \n",
       "856     88888  99999    88888  99999    88888  99999    88888  99999    88888   \n",
       "1648    88888  99999    88888  99999    88888  99999    88888  99999    88888   \n",
       "1750      NaN    NaN    88888  00900    88888  05290      NaN    NaN      NaN   \n",
       "1945      NaN    NaN      NaN    NaN    88888  99999    88888  99999    88888   \n",
       "2034      NaN    NaN      NaN    NaN    88888  V7200      NaN    NaN      NaN   \n",
       "\n",
       "             ... G201_IF8        G201_IF9        G201_IF10        G201_IF11  \\\n",
       "      other  ...     self  other     self  other      self  other      self   \n",
       "135     NaN  ...      NaN    NaN      NaN    NaN       NaN    NaN       NaN   \n",
       "856   99999  ...     88.0  999.0     88.0  999.0      88.0  999.0      88.0   \n",
       "1648  99999  ...     88.0  999.0     88.0  999.0      88.0  999.0      88.0   \n",
       "1750    NaN  ...      NaN    NaN      NaN    NaN       NaN    NaN       NaN   \n",
       "1945  99999  ...     88.0  999.0     88.0  999.0      88.0  999.0      88.0   \n",
       "2034    NaN  ...      NaN    NaN      NaN    NaN       NaN    NaN       NaN   \n",
       "\n",
       "            G201_IF12         \n",
       "      other      self  other  \n",
       "135     NaN       NaN    NaN  \n",
       "856   999.0      88.0  999.0  \n",
       "1648  999.0      88.0  999.0  \n",
       "1750    NaN       NaN    NaN  \n",
       "1945  999.0      88.0  999.0  \n",
       "2034    NaN       NaN    NaN  \n",
       "\n",
       "[6 rows x 46 columns]"
      ]
     },
     "execution_count": 27,
     "metadata": {},
     "output_type": "execute_result"
    }
   ],
   "source": [
    "# Compare raw data, not including variables that were created or deleted, and renaming the old variables to match for comparison\n",
    "\n",
    "old_cols = [col for col in df_old.columns if col not in DELETE]\n",
    "new_cols = [col for col in df_new.columns if col not in CREATE]\n",
    "dfx = df_new[new_cols].compare(df_old[old_cols].rename(RENAME))\n",
    "dfx"
   ]
  },
  {
   "cell_type": "code",
   "execution_count": 28,
   "metadata": {},
   "outputs": [],
   "source": [
    "from pandas import DataFrame\n",
    "from typing import List\n",
    "\n",
    "def compare(df1: DataFrame, # updated data\n",
    "            df2: DataFrame, # original data\n",
    "            columns: List[str], # columns impact\n",
    "            idx: List[int], # IDs impacted\n",
    "            new_value: str|int, # new value\n",
    "            old_value: str|int # value that was replaced\n",
    "            ) -> bool: # Output True if all expected changes pass\n",
    "    \"Check that expected changes were correctly implemented.\"\n",
    "    dfx = df1.loc[idx, columns].compare(df2.loc[idx, columns], result_names=(\"new\", \"old\"))\n",
    "    dfx = dfx.stack(future_stack=True).swaplevel()\n",
    "    assert (dfx.loc[\"new\"] == new_value).all().all()\n",
    "    assert (dfx.loc[\"old\"] == old_value).all().all()\n",
    "    print(\"All changes correctly updated.\")"
   ]
  },
  {
   "cell_type": "code",
   "execution_count": 29,
   "metadata": {},
   "outputs": [],
   "source": [
    "# Changes should capture each specific changes, meaning column, the IDs that are affected, and the corresponding change\n",
    "\n",
    "CHANGES = [\n",
    "    {\n",
    "        \"columns\": [\"G201_IF1\"],\n",
    "        \"idx\": [135],\n",
    "        \"old_value\": 0,\n",
    "        \"new_value\": 1 \n",
    "    },\n",
    "    {\n",
    "        \"columns\": [\"G201_IF2\"],\n",
    "        \"idx\": [135],\n",
    "        \"old_value\": 1,\n",
    "        \"new_value\": 0 \n",
    "    },\n",
    "    {\n",
    "        \"columns\": [\"G201_IF3\", \"G201_IF4\"],\n",
    "        \"idx\": [1750],\n",
    "        \"old_value\": 1,\n",
    "        \"new_value\": 88 \n",
    "    },\n",
    "    {\n",
    "        \"columns\": [\"G201_IC3\"],\n",
    "        \"idx\": [1750],\n",
    "        \"old_value\": \"00900\",\n",
    "        \"new_value\": \"88888\"\n",
    "    },\n",
    "    {\n",
    "        \"columns\": [\"G201_IC4\"],\n",
    "        \"idx\": [1750],\n",
    "        \"old_value\": \"05290\",\n",
    "        \"new_value\": \"88888\"\n",
    "    },\n",
    "    {\n",
    "        \"columns\": [\"G201_IF4\"],\n",
    "        \"idx\": [2034],\n",
    "        \"old_value\": 1,\n",
    "        \"new_value\": 88\n",
    "    },\n",
    "    {\n",
    "        \"columns\": [\"G201_IC4\"],\n",
    "        \"idx\": [2034],\n",
    "        \"old_value\": \"V7200\",\n",
    "        \"new_value\": \"88888\"\n",
    "    },\n",
    "    {\n",
    "        \"columns\": ['G201_IC2', 'G201_IC3', 'G201_IC4', 'G201_IC5', 'G201_IC6', 'G201_IC7', 'G201_IC8', 'G201_IC9', 'G201_IC10', 'G201_IC11', 'G201_IC12'],\n",
    "        \"idx\": [856, 1648],\n",
    "        \"old_value\": \"99999\",\n",
    "        \"new_value\": \"88888\"\n",
    "    },\n",
    "    {\n",
    "        \"columns\": ['G201_IF2', 'G201_IF3', 'G201_IF4', 'G201_IF5', 'G201_IF6', 'G201_IF7', 'G201_IF8', 'G201_IF9', 'G201_IF10', 'G201_IF11', 'G201_IF12'],\n",
    "        \"idx\": [856, 1648],\n",
    "        \"old_value\": 999,\n",
    "        \"new_value\": 88\n",
    "    },\n",
    "    {\n",
    "        \"columns\": ['G201_IC4', 'G201_IC5', 'G201_IC6', 'G201_IC7', 'G201_IC8', 'G201_IC9', 'G201_IC10', 'G201_IC11', 'G201_IC12'],\n",
    "        \"idx\": [1945],\n",
    "        \"old_value\": \"99999\",\n",
    "        \"new_value\": \"88888\"\n",
    "    },\n",
    "    {\n",
    "        \"columns\": ['G201_IF4', 'G201_IF5', 'G201_IF6', 'G201_IF7', 'G201_IF8', 'G201_IF9', 'G201_IF10', 'G201_IF11', 'G201_IF12'],\n",
    "        \"idx\": [1945],\n",
    "        \"old_value\": 999,\n",
    "        \"new_value\": 88\n",
    "    },\n",
    "]"
   ]
  },
  {
   "cell_type": "code",
   "execution_count": 30,
   "metadata": {},
   "outputs": [
    {
     "name": "stdout",
     "output_type": "stream",
     "text": [
      "Change 1...\n",
      "All changes correctly updated.\n",
      "Change 2...\n",
      "All changes correctly updated.\n",
      "Change 3...\n",
      "All changes correctly updated.\n",
      "Change 4...\n",
      "All changes correctly updated.\n",
      "Change 5...\n",
      "All changes correctly updated.\n",
      "Change 6...\n",
      "All changes correctly updated.\n",
      "Change 7...\n",
      "All changes correctly updated.\n",
      "Change 8...\n",
      "All changes correctly updated.\n",
      "Change 9...\n",
      "All changes correctly updated.\n",
      "Change 10...\n",
      "All changes correctly updated.\n",
      "Change 11...\n",
      "All changes correctly updated.\n"
     ]
    }
   ],
   "source": [
    "for n, change in enumerate(CHANGES, start=1):\n",
    "    print(f\"Change {n}...\")\n",
    "    columns = change[\"columns\"]\n",
    "    idx = change[\"idx\"]\n",
    "    new_value = change[\"new_value\"]\n",
    "    old_value = change[\"old_value\"]\n",
    "    compare(df_new, df_old, columns, idx, new_value, old_value)"
   ]
  },
  {
   "cell_type": "markdown",
   "metadata": {},
   "source": [
    "### Compare metadata"
   ]
  },
  {
   "cell_type": "code",
   "execution_count": 31,
   "metadata": {},
   "outputs": [
    {
     "data": {
      "text/html": [
       "<div>\n",
       "<style scoped>\n",
       "    .dataframe tbody tr th:only-of-type {\n",
       "        vertical-align: middle;\n",
       "    }\n",
       "\n",
       "    .dataframe tbody tr th {\n",
       "        vertical-align: top;\n",
       "    }\n",
       "\n",
       "    .dataframe thead tr th {\n",
       "        text-align: left;\n",
       "    }\n",
       "</style>\n",
       "<table border=\"1\" class=\"dataframe\">\n",
       "  <thead>\n",
       "  </thead>\n",
       "  <tbody>\n",
       "  </tbody>\n",
       "</table>\n",
       "</div>"
      ],
      "text/plain": [
       "Empty DataFrame\n",
       "Columns: []\n",
       "Index: []"
      ]
     },
     "execution_count": 31,
     "metadata": {},
     "output_type": "execute_result"
    }
   ],
   "source": [
    "# Compare metadata, not including variables that were created or deleted, and renaming the old variables to match for comparison\n",
    "\n",
    "old_cols = [col for col in meta_old.columns if col not in DELETE]\n",
    "new_cols = [col for col in meta_new.columns if col not in CREATE]\n",
    "metax = meta_new[new_cols].compare(meta_old[old_cols].rename(RENAME))\n",
    "metax"
   ]
  }
 ],
 "metadata": {
  "kernelspec": {
   "display_name": "my_env",
   "language": "python",
   "name": "python3"
  },
  "language_info": {
   "codemirror_mode": {
    "name": "ipython",
    "version": 3
   },
   "file_extension": ".py",
   "mimetype": "text/x-python",
   "name": "python",
   "nbconvert_exporter": "python",
   "pygments_lexer": "ipython3",
   "version": "3.12.4"
  }
 },
 "nbformat": 4,
 "nbformat_minor": 2
}
