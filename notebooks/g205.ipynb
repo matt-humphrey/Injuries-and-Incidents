{
 "cells": [
  {
   "cell_type": "markdown",
   "metadata": {},
   "source": [
    "# G205"
   ]
  },
  {
   "cell_type": "markdown",
   "metadata": {},
   "source": [
    "## Exploring the data"
   ]
  },
  {
   "cell_type": "markdown",
   "metadata": {},
   "source": [
    "Time frames are 'since his/her third birthday'; alter variable names to indicate this minor difference? (probably not if the rest are \"since last f/up).  \n",
    "IF? and IC? extend to 15.  \n",
    "Drop IL15, INJ4 and HO8.  \n",
    "Drop OM1, CVLN and UTI - don't add value."
   ]
  },
  {
   "cell_type": "code",
   "execution_count": null,
   "metadata": {},
   "outputs": [],
   "source": []
  },
  {
   "cell_type": "markdown",
   "metadata": {},
   "source": [
    "## Set up"
   ]
  },
  {
   "cell_type": "code",
   "execution_count": 1,
   "metadata": {},
   "outputs": [],
   "source": [
    "from fastcore.test import *\n",
    "from fastcore.utils import *\n",
    "import pandas as pd\n",
    "from pandas import DataFrame\n",
    "import numpy as np\n",
    "import pyspssio\n",
    "\n",
    "import raine_tools as rn\n",
    "from data_harmonising.data import *\n",
    "from data_harmonising.transforms import *\n",
    "from data_harmonising.tests import *\n",
    "\n",
    "from src.config import WORKBOOK, SHEETNAME"
   ]
  },
  {
   "cell_type": "code",
   "execution_count": 2,
   "metadata": {},
   "outputs": [],
   "source": [
    "INPUT = \"../data/raw/G205_Q.sav\"\n",
    "OUTPUT = \"../data/interim/G205_Q.sav\""
   ]
  },
  {
   "cell_type": "code",
   "execution_count": 3,
   "metadata": {},
   "outputs": [],
   "source": [
    "df, meta = read_sav(INPUT, index=\"ID\")"
   ]
  },
  {
   "cell_type": "code",
   "execution_count": 4,
   "metadata": {},
   "outputs": [
    {
     "data": {
      "text/html": [
       "<div>\n",
       "<style scoped>\n",
       "    .dataframe tbody tr th:only-of-type {\n",
       "        vertical-align: middle;\n",
       "    }\n",
       "\n",
       "    .dataframe tbody tr th {\n",
       "        vertical-align: top;\n",
       "    }\n",
       "\n",
       "    .dataframe thead th {\n",
       "        text-align: right;\n",
       "    }\n",
       "</style>\n",
       "<table border=\"1\" class=\"dataframe\">\n",
       "  <thead>\n",
       "    <tr style=\"text-align: right;\">\n",
       "      <th></th>\n",
       "      <th>G205_IF1</th>\n",
       "      <th>G205_IF2</th>\n",
       "      <th>G205_IF3</th>\n",
       "      <th>G205_IF4</th>\n",
       "    </tr>\n",
       "    <tr>\n",
       "      <th>ID</th>\n",
       "      <th></th>\n",
       "      <th></th>\n",
       "      <th></th>\n",
       "      <th></th>\n",
       "    </tr>\n",
       "  </thead>\n",
       "  <tbody>\n",
       "    <tr>\n",
       "      <th>10010.0</th>\n",
       "      <td>2.0</td>\n",
       "      <td>0.0</td>\n",
       "      <td>1.0</td>\n",
       "      <td>1.0</td>\n",
       "    </tr>\n",
       "    <tr>\n",
       "      <th>10210.0</th>\n",
       "      <td>1.0</td>\n",
       "      <td>0.0</td>\n",
       "      <td>1.0</td>\n",
       "      <td>1.0</td>\n",
       "    </tr>\n",
       "    <tr>\n",
       "      <th>10250.0</th>\n",
       "      <td>2.0</td>\n",
       "      <td>0.0</td>\n",
       "      <td>2.0</td>\n",
       "      <td>888.0</td>\n",
       "    </tr>\n",
       "    <tr>\n",
       "      <th>10360.0</th>\n",
       "      <td>1.0</td>\n",
       "      <td>0.0</td>\n",
       "      <td>1.0</td>\n",
       "      <td>0.0</td>\n",
       "    </tr>\n",
       "    <tr>\n",
       "      <th>10570.0</th>\n",
       "      <td>1.0</td>\n",
       "      <td>0.0</td>\n",
       "      <td>888.0</td>\n",
       "      <td>888.0</td>\n",
       "    </tr>\n",
       "    <tr>\n",
       "      <th>...</th>\n",
       "      <td>...</td>\n",
       "      <td>...</td>\n",
       "      <td>...</td>\n",
       "      <td>...</td>\n",
       "    </tr>\n",
       "    <tr>\n",
       "      <th>53510.0</th>\n",
       "      <td>2.0</td>\n",
       "      <td>0.0</td>\n",
       "      <td>1.0</td>\n",
       "      <td>1.0</td>\n",
       "    </tr>\n",
       "    <tr>\n",
       "      <th>53650.0</th>\n",
       "      <td>1.0</td>\n",
       "      <td>0.0</td>\n",
       "      <td>1.0</td>\n",
       "      <td>1.0</td>\n",
       "    </tr>\n",
       "    <tr>\n",
       "      <th>54030.0</th>\n",
       "      <td>1.0</td>\n",
       "      <td>0.0</td>\n",
       "      <td>0.0</td>\n",
       "      <td>10.0</td>\n",
       "    </tr>\n",
       "    <tr>\n",
       "      <th>54350.0</th>\n",
       "      <td>1.0</td>\n",
       "      <td>0.0</td>\n",
       "      <td>1.0</td>\n",
       "      <td>2.0</td>\n",
       "    </tr>\n",
       "    <tr>\n",
       "      <th>54490.0</th>\n",
       "      <td>4.0</td>\n",
       "      <td>0.0</td>\n",
       "      <td>1.0</td>\n",
       "      <td>0.0</td>\n",
       "    </tr>\n",
       "  </tbody>\n",
       "</table>\n",
       "<p>180 rows × 4 columns</p>\n",
       "</div>"
      ],
      "text/plain": [
       "         G205_IF1  G205_IF2  G205_IF3  G205_IF4\n",
       "ID                                             \n",
       "10010.0       2.0       0.0       1.0       1.0\n",
       "10210.0       1.0       0.0       1.0       1.0\n",
       "10250.0       2.0       0.0       2.0     888.0\n",
       "10360.0       1.0       0.0       1.0       0.0\n",
       "10570.0       1.0       0.0     888.0     888.0\n",
       "...           ...       ...       ...       ...\n",
       "53510.0       2.0       0.0       1.0       1.0\n",
       "53650.0       1.0       0.0       1.0       1.0\n",
       "54030.0       1.0       0.0       0.0      10.0\n",
       "54350.0       1.0       0.0       1.0       2.0\n",
       "54490.0       4.0       0.0       1.0       0.0\n",
       "\n",
       "[180 rows x 4 columns]"
      ]
     },
     "execution_count": 4,
     "metadata": {},
     "output_type": "execute_result"
    }
   ],
   "source": [
    "cols = [\n",
    "    'G205_IF1', 'G205_IF2', 'G205_IF3', 'G205_IF4', 'G205_IF5', 'G205_IF6',\n",
    "    'G205_IF7', 'G205_IF8', 'G205_IF9', 'G205_IF10', 'G205_IF11',\n",
    "    'G205_IF12'\n",
    "]\n",
    "\n",
    "df.loc[df['G205_IF2'] == 0, ['G205_IF1', 'G205_IF2', 'G205_IF3', 'G205_IF4']]"
   ]
  },
  {
   "cell_type": "markdown",
   "metadata": {},
   "source": [
    "Check how 0s are used for INF?"
   ]
  },
  {
   "cell_type": "code",
   "execution_count": 5,
   "metadata": {},
   "outputs": [
    {
     "data": {
      "text/plain": [
       "G205_INF1\n",
       "888.0    1393\n",
       "1.0       726\n",
       "999.0      63\n",
       "2.0        43\n",
       "3.0         6\n",
       "0.0         5\n",
       "4.0         1\n",
       "Name: count, dtype: int64"
      ]
     },
     "execution_count": 5,
     "metadata": {},
     "output_type": "execute_result"
    }
   ],
   "source": [
    "df['G205_INF1'].value_counts()"
   ]
  },
  {
   "cell_type": "code",
   "execution_count": 8,
   "metadata": {},
   "outputs": [
    {
     "data": {
      "text/html": [
       "<div>\n",
       "<style scoped>\n",
       "    .dataframe tbody tr th:only-of-type {\n",
       "        vertical-align: middle;\n",
       "    }\n",
       "\n",
       "    .dataframe tbody tr th {\n",
       "        vertical-align: top;\n",
       "    }\n",
       "\n",
       "    .dataframe thead th {\n",
       "        text-align: right;\n",
       "    }\n",
       "</style>\n",
       "<table border=\"1\" class=\"dataframe\">\n",
       "  <thead>\n",
       "    <tr style=\"text-align: right;\">\n",
       "      <th></th>\n",
       "      <th>G205_INF1</th>\n",
       "      <th>G205_INF2</th>\n",
       "      <th>G205_INF3</th>\n",
       "    </tr>\n",
       "    <tr>\n",
       "      <th>ID</th>\n",
       "      <th></th>\n",
       "      <th></th>\n",
       "      <th></th>\n",
       "    </tr>\n",
       "  </thead>\n",
       "  <tbody>\n",
       "    <tr>\n",
       "      <th>21810.0</th>\n",
       "      <td>0.0</td>\n",
       "      <td>888.0</td>\n",
       "      <td>888.0</td>\n",
       "    </tr>\n",
       "    <tr>\n",
       "      <th>47480.0</th>\n",
       "      <td>0.0</td>\n",
       "      <td>888.0</td>\n",
       "      <td>888.0</td>\n",
       "    </tr>\n",
       "    <tr>\n",
       "      <th>48230.0</th>\n",
       "      <td>0.0</td>\n",
       "      <td>888.0</td>\n",
       "      <td>888.0</td>\n",
       "    </tr>\n",
       "    <tr>\n",
       "      <th>48450.0</th>\n",
       "      <td>0.0</td>\n",
       "      <td>888.0</td>\n",
       "      <td>888.0</td>\n",
       "    </tr>\n",
       "    <tr>\n",
       "      <th>50810.0</th>\n",
       "      <td>0.0</td>\n",
       "      <td>888.0</td>\n",
       "      <td>888.0</td>\n",
       "    </tr>\n",
       "  </tbody>\n",
       "</table>\n",
       "</div>"
      ],
      "text/plain": [
       "         G205_INF1  G205_INF2  G205_INF3\n",
       "ID                                      \n",
       "21810.0        0.0      888.0      888.0\n",
       "47480.0        0.0      888.0      888.0\n",
       "48230.0        0.0      888.0      888.0\n",
       "48450.0        0.0      888.0      888.0\n",
       "50810.0        0.0      888.0      888.0"
      ]
     },
     "execution_count": 8,
     "metadata": {},
     "output_type": "execute_result"
    }
   ],
   "source": [
    "df.loc[df['G205_INF1'] == 0, ['G205_INF1', 'G205_INF2', 'G205_INF3']]"
   ]
  },
  {
   "cell_type": "code",
   "execution_count": 6,
   "metadata": {},
   "outputs": [
    {
     "data": {
      "text/html": [
       "<div>\n",
       "<style scoped>\n",
       "    .dataframe tbody tr th:only-of-type {\n",
       "        vertical-align: middle;\n",
       "    }\n",
       "\n",
       "    .dataframe tbody tr th {\n",
       "        vertical-align: top;\n",
       "    }\n",
       "\n",
       "    .dataframe thead th {\n",
       "        text-align: right;\n",
       "    }\n",
       "</style>\n",
       "<table border=\"1\" class=\"dataframe\">\n",
       "  <thead>\n",
       "    <tr style=\"text-align: right;\">\n",
       "      <th></th>\n",
       "      <th>G205_INF1</th>\n",
       "      <th>G205_INF2</th>\n",
       "      <th>G205_INF3</th>\n",
       "    </tr>\n",
       "    <tr>\n",
       "      <th>ID</th>\n",
       "      <th></th>\n",
       "      <th></th>\n",
       "      <th></th>\n",
       "    </tr>\n",
       "  </thead>\n",
       "  <tbody>\n",
       "    <tr>\n",
       "      <th>18000.0</th>\n",
       "      <td>1.0</td>\n",
       "      <td>0.0</td>\n",
       "      <td>888.0</td>\n",
       "    </tr>\n",
       "    <tr>\n",
       "      <th>18240.0</th>\n",
       "      <td>1.0</td>\n",
       "      <td>0.0</td>\n",
       "      <td>1.0</td>\n",
       "    </tr>\n",
       "    <tr>\n",
       "      <th>22670.0</th>\n",
       "      <td>1.0</td>\n",
       "      <td>0.0</td>\n",
       "      <td>888.0</td>\n",
       "    </tr>\n",
       "    <tr>\n",
       "      <th>42620.0</th>\n",
       "      <td>1.0</td>\n",
       "      <td>0.0</td>\n",
       "      <td>888.0</td>\n",
       "    </tr>\n",
       "    <tr>\n",
       "      <th>53680.0</th>\n",
       "      <td>1.0</td>\n",
       "      <td>0.0</td>\n",
       "      <td>888.0</td>\n",
       "    </tr>\n",
       "  </tbody>\n",
       "</table>\n",
       "</div>"
      ],
      "text/plain": [
       "         G205_INF1  G205_INF2  G205_INF3\n",
       "ID                                      \n",
       "18000.0        1.0        0.0      888.0\n",
       "18240.0        1.0        0.0        1.0\n",
       "22670.0        1.0        0.0      888.0\n",
       "42620.0        1.0        0.0      888.0\n",
       "53680.0        1.0        0.0      888.0"
      ]
     },
     "execution_count": 6,
     "metadata": {},
     "output_type": "execute_result"
    }
   ],
   "source": [
    "df.loc[df['G205_INF2'] == 0, ['G205_INF1', 'G205_INF2', 'G205_INF3']]"
   ]
  },
  {
   "cell_type": "code",
   "execution_count": 7,
   "metadata": {},
   "outputs": [
    {
     "data": {
      "text/html": [
       "<div>\n",
       "<style scoped>\n",
       "    .dataframe tbody tr th:only-of-type {\n",
       "        vertical-align: middle;\n",
       "    }\n",
       "\n",
       "    .dataframe tbody tr th {\n",
       "        vertical-align: top;\n",
       "    }\n",
       "\n",
       "    .dataframe thead th {\n",
       "        text-align: right;\n",
       "    }\n",
       "</style>\n",
       "<table border=\"1\" class=\"dataframe\">\n",
       "  <thead>\n",
       "    <tr style=\"text-align: right;\">\n",
       "      <th></th>\n",
       "      <th>G205_INC1</th>\n",
       "      <th>G205_INC2</th>\n",
       "      <th>G205_INC3</th>\n",
       "    </tr>\n",
       "    <tr>\n",
       "      <th>ID</th>\n",
       "      <th></th>\n",
       "      <th></th>\n",
       "      <th></th>\n",
       "    </tr>\n",
       "  </thead>\n",
       "  <tbody>\n",
       "    <tr>\n",
       "      <th>18000.0</th>\n",
       "      <td>E8581</td>\n",
       "      <td>E8555</td>\n",
       "      <td>88888</td>\n",
       "    </tr>\n",
       "    <tr>\n",
       "      <th>18240.0</th>\n",
       "      <td>E8887</td>\n",
       "      <td>E8889</td>\n",
       "      <td>E9063</td>\n",
       "    </tr>\n",
       "    <tr>\n",
       "      <th>22670.0</th>\n",
       "      <td>E8504</td>\n",
       "      <td>E8502</td>\n",
       "      <td>88888</td>\n",
       "    </tr>\n",
       "    <tr>\n",
       "      <th>42620.0</th>\n",
       "      <td>E8581</td>\n",
       "      <td>E8582</td>\n",
       "      <td>88888</td>\n",
       "    </tr>\n",
       "    <tr>\n",
       "      <th>53680.0</th>\n",
       "      <td>E8889</td>\n",
       "      <td>E8887</td>\n",
       "      <td>88888</td>\n",
       "    </tr>\n",
       "  </tbody>\n",
       "</table>\n",
       "</div>"
      ],
      "text/plain": [
       "        G205_INC1 G205_INC2 G205_INC3\n",
       "ID                                   \n",
       "18000.0     E8581     E8555     88888\n",
       "18240.0     E8887     E8889     E9063\n",
       "22670.0     E8504     E8502     88888\n",
       "42620.0     E8581     E8582     88888\n",
       "53680.0     E8889     E8887     88888"
      ]
     },
     "execution_count": 7,
     "metadata": {},
     "output_type": "execute_result"
    }
   ],
   "source": [
    "df.loc[df['G205_INF2'] == 0, ['G205_INC1', 'G205_INC2', 'G205_INC3']]"
   ]
  }
 ],
 "metadata": {
  "kernelspec": {
   "display_name": "my_env",
   "language": "python",
   "name": "python3"
  },
  "language_info": {
   "codemirror_mode": {
    "name": "ipython",
    "version": 3
   },
   "file_extension": ".py",
   "mimetype": "text/x-python",
   "name": "python",
   "nbconvert_exporter": "python",
   "pygments_lexer": "ipython3",
   "version": "3.12.4"
  }
 },
 "nbformat": 4,
 "nbformat_minor": 2
}
