{
 "cells": [
  {
   "cell_type": "markdown",
   "metadata": {},
   "source": [
    "# G205"
   ]
  },
  {
   "cell_type": "markdown",
   "metadata": {},
   "source": [
    "## Exploring the data"
   ]
  },
  {
   "cell_type": "markdown",
   "metadata": {},
   "source": [
    "Time frames are 'since his/her third birthday'; alter variable names to indicate this minor difference.\n",
    "IF? and IC? extend to 15.\n",
    "IL15, INJ4 and HO8; if there were than than X incidents... (drop?)\n",
    "Drop OM1, CVLN and UTI - don't add value."
   ]
  }
 ],
 "metadata": {
  "language_info": {
   "name": "python"
  }
 },
 "nbformat": 4,
 "nbformat_minor": 2
}
