{
 "cells": [
  {
   "cell_type": "markdown",
   "metadata": {},
   "source": [
    "# G217"
   ]
  },
  {
   "cell_type": "markdown",
   "metadata": {},
   "source": [
    "## Exploring the data"
   ]
  },
  {
   "cell_type": "markdown",
   "metadata": {},
   "source": [
    "HO[D|C|F]10 are named H[D|C|F]10? Rest are named as usual. Investigate and fix or drop if no data.\n"
   ]
  },
  {
   "cell_type": "code",
   "execution_count": 1,
   "metadata": {},
   "outputs": [],
   "source": [
    "from fastcore.test import *\n",
    "from fastcore.utils import *\n",
    "import pandas as pd\n",
    "from pandas import DataFrame\n",
    "import numpy as np\n",
    "import pyspssio\n",
    "\n",
    "import raine_tools as rn\n",
    "from data_harmonising.data import *\n",
    "from data_harmonising.transforms import *\n",
    "from data_harmonising.tests import *"
   ]
  },
  {
   "cell_type": "code",
   "execution_count": 2,
   "metadata": {},
   "outputs": [],
   "source": [
    "INPUT = \"../data/raw/G217_TeenQ.sav\"\n",
    "OUTPUT = \"../data/interim/G217_TeenQ.sav\""
   ]
  },
  {
   "cell_type": "code",
   "execution_count": 3,
   "metadata": {},
   "outputs": [],
   "source": [
    "df, meta = read_sav(INPUT, index=\"ID\")"
   ]
  },
  {
   "cell_type": "code",
   "execution_count": 4,
   "metadata": {},
   "outputs": [
    {
     "data": {
      "text/html": [
       "<div>\n",
       "<style scoped>\n",
       "    .dataframe tbody tr th:only-of-type {\n",
       "        vertical-align: middle;\n",
       "    }\n",
       "\n",
       "    .dataframe tbody tr th {\n",
       "        vertical-align: top;\n",
       "    }\n",
       "\n",
       "    .dataframe thead th {\n",
       "        text-align: right;\n",
       "    }\n",
       "</style>\n",
       "<table border=\"1\" class=\"dataframe\">\n",
       "  <thead>\n",
       "    <tr style=\"text-align: right;\">\n",
       "      <th></th>\n",
       "      <th>G217_HD10</th>\n",
       "      <th>G217_HH10</th>\n",
       "      <th>G217_HC10</th>\n",
       "    </tr>\n",
       "    <tr>\n",
       "      <th>ID</th>\n",
       "      <th></th>\n",
       "      <th></th>\n",
       "      <th></th>\n",
       "    </tr>\n",
       "  </thead>\n",
       "  <tbody>\n",
       "    <tr>\n",
       "      <th>10010.0</th>\n",
       "      <td>NaN</td>\n",
       "      <td>0.0</td>\n",
       "      <td>NaN</td>\n",
       "    </tr>\n",
       "    <tr>\n",
       "      <th>10020.0</th>\n",
       "      <td>NaN</td>\n",
       "      <td>8888.0</td>\n",
       "      <td>NaN</td>\n",
       "    </tr>\n",
       "    <tr>\n",
       "      <th>10040.0</th>\n",
       "      <td>NaN</td>\n",
       "      <td>0.0</td>\n",
       "      <td>NaN</td>\n",
       "    </tr>\n",
       "    <tr>\n",
       "      <th>10050.0</th>\n",
       "      <td>NaN</td>\n",
       "      <td>8888.0</td>\n",
       "      <td>NaN</td>\n",
       "    </tr>\n",
       "    <tr>\n",
       "      <th>10100.0</th>\n",
       "      <td>NaN</td>\n",
       "      <td>8888.0</td>\n",
       "      <td>NaN</td>\n",
       "    </tr>\n",
       "    <tr>\n",
       "      <th>...</th>\n",
       "      <td>...</td>\n",
       "      <td>...</td>\n",
       "      <td>...</td>\n",
       "    </tr>\n",
       "    <tr>\n",
       "      <th>54520.0</th>\n",
       "      <td>NaN</td>\n",
       "      <td>8888.0</td>\n",
       "      <td>NaN</td>\n",
       "    </tr>\n",
       "    <tr>\n",
       "      <th>54540.0</th>\n",
       "      <td>NaN</td>\n",
       "      <td>0.0</td>\n",
       "      <td>NaN</td>\n",
       "    </tr>\n",
       "    <tr>\n",
       "      <th>54550.0</th>\n",
       "      <td>NaN</td>\n",
       "      <td>8888.0</td>\n",
       "      <td>NaN</td>\n",
       "    </tr>\n",
       "    <tr>\n",
       "      <th>54580.0</th>\n",
       "      <td>NaN</td>\n",
       "      <td>8888.0</td>\n",
       "      <td>NaN</td>\n",
       "    </tr>\n",
       "    <tr>\n",
       "      <th>54590.0</th>\n",
       "      <td>NaN</td>\n",
       "      <td>8888.0</td>\n",
       "      <td>NaN</td>\n",
       "    </tr>\n",
       "  </tbody>\n",
       "</table>\n",
       "<p>1393 rows × 3 columns</p>\n",
       "</div>"
      ],
      "text/plain": [
       "         G217_HD10  G217_HH10  G217_HC10\n",
       "ID                                      \n",
       "10010.0        NaN        0.0        NaN\n",
       "10020.0        NaN     8888.0        NaN\n",
       "10040.0        NaN        0.0        NaN\n",
       "10050.0        NaN     8888.0        NaN\n",
       "10100.0        NaN     8888.0        NaN\n",
       "...            ...        ...        ...\n",
       "54520.0        NaN     8888.0        NaN\n",
       "54540.0        NaN        0.0        NaN\n",
       "54550.0        NaN     8888.0        NaN\n",
       "54580.0        NaN     8888.0        NaN\n",
       "54590.0        NaN     8888.0        NaN\n",
       "\n",
       "[1393 rows x 3 columns]"
      ]
     },
     "execution_count": 4,
     "metadata": {},
     "output_type": "execute_result"
    }
   ],
   "source": [
    "df[[\"G217_HD10\", \"G217_HH10\", \"G217_HC10\"]].dropna(how='all')"
   ]
  },
  {
   "cell_type": "code",
   "execution_count": null,
   "metadata": {},
   "outputs": [
    {
     "data": {
      "text/plain": [
       "G217_HH10\n",
       "8888.0       1103\n",
       "0.0           287\n",
       "9999.0          2\n",
       "106.0           1\n",
       "Name: count, dtype: int64"
      ]
     },
     "execution_count": 9,
     "metadata": {},
     "output_type": "execute_result"
    }
   ],
   "source": [
    "df.loc[:, [\"G217_HH10\"]].dropna().value_counts()"
   ]
  },
  {
   "cell_type": "code",
   "execution_count": 11,
   "metadata": {},
   "outputs": [
    {
     "data": {
      "text/html": [
       "<div>\n",
       "<style scoped>\n",
       "    .dataframe tbody tr th:only-of-type {\n",
       "        vertical-align: middle;\n",
       "    }\n",
       "\n",
       "    .dataframe tbody tr th {\n",
       "        vertical-align: top;\n",
       "    }\n",
       "\n",
       "    .dataframe thead th {\n",
       "        text-align: right;\n",
       "    }\n",
       "</style>\n",
       "<table border=\"1\" class=\"dataframe\">\n",
       "  <thead>\n",
       "    <tr style=\"text-align: right;\">\n",
       "      <th></th>\n",
       "      <th>G217_HOD1</th>\n",
       "      <th>G217_HOH1</th>\n",
       "      <th>G217_HOC1</th>\n",
       "      <th>G217_HOD2</th>\n",
       "      <th>G217_HOH2</th>\n",
       "      <th>G217_HOC2</th>\n",
       "      <th>G217_HOD3</th>\n",
       "      <th>G217_HOH3</th>\n",
       "      <th>G217_HOC3</th>\n",
       "      <th>G217_HOD4</th>\n",
       "      <th>...</th>\n",
       "      <th>G217_HOC7</th>\n",
       "      <th>G217_HOD8</th>\n",
       "      <th>G217_HOH8</th>\n",
       "      <th>G217_HOC8</th>\n",
       "      <th>G217_HOD9</th>\n",
       "      <th>G217_HOH9</th>\n",
       "      <th>G217_HOC9</th>\n",
       "      <th>G217_HD10</th>\n",
       "      <th>G217_HH10</th>\n",
       "      <th>G217_HC10</th>\n",
       "    </tr>\n",
       "    <tr>\n",
       "      <th>ID</th>\n",
       "      <th></th>\n",
       "      <th></th>\n",
       "      <th></th>\n",
       "      <th></th>\n",
       "      <th></th>\n",
       "      <th></th>\n",
       "      <th></th>\n",
       "      <th></th>\n",
       "      <th></th>\n",
       "      <th></th>\n",
       "      <th></th>\n",
       "      <th></th>\n",
       "      <th></th>\n",
       "      <th></th>\n",
       "      <th></th>\n",
       "      <th></th>\n",
       "      <th></th>\n",
       "      <th></th>\n",
       "      <th></th>\n",
       "      <th></th>\n",
       "      <th></th>\n",
       "    </tr>\n",
       "  </thead>\n",
       "  <tbody>\n",
       "    <tr>\n",
       "      <th>22181.0</th>\n",
       "      <td>15-Nov-08</td>\n",
       "      <td>2.0</td>\n",
       "      <td>S2319</td>\n",
       "      <td>NaN</td>\n",
       "      <td>106.0</td>\n",
       "      <td>NaN</td>\n",
       "      <td>NaN</td>\n",
       "      <td>106.0</td>\n",
       "      <td>NaN</td>\n",
       "      <td>NaN</td>\n",
       "      <td>...</td>\n",
       "      <td>NaN</td>\n",
       "      <td>NaN</td>\n",
       "      <td>106.0</td>\n",
       "      <td>NaN</td>\n",
       "      <td>NaN</td>\n",
       "      <td>106.0</td>\n",
       "      <td>NaN</td>\n",
       "      <td>NaN</td>\n",
       "      <td>106.0</td>\n",
       "      <td>NaN</td>\n",
       "    </tr>\n",
       "  </tbody>\n",
       "</table>\n",
       "<p>1 rows × 30 columns</p>\n",
       "</div>"
      ],
      "text/plain": [
       "         G217_HOD1  G217_HOH1 G217_HOC1  G217_HOD2  G217_HOH2  G217_HOC2  \\\n",
       "ID                                                                         \n",
       "22181.0  15-Nov-08        2.0     S2319        NaN      106.0        NaN   \n",
       "\n",
       "         G217_HOD3  G217_HOH3  G217_HOC3  G217_HOD4  ...  G217_HOC7  \\\n",
       "ID                                                   ...              \n",
       "22181.0        NaN      106.0        NaN        NaN  ...        NaN   \n",
       "\n",
       "         G217_HOD8  G217_HOH8  G217_HOC8  G217_HOD9  G217_HOH9  G217_HOC9  \\\n",
       "ID                                                                          \n",
       "22181.0        NaN      106.0        NaN        NaN      106.0        NaN   \n",
       "\n",
       "         G217_HD10  G217_HH10  G217_HC10  \n",
       "ID                                        \n",
       "22181.0        NaN      106.0        NaN  \n",
       "\n",
       "[1 rows x 30 columns]"
      ]
     },
     "execution_count": 11,
     "metadata": {},
     "output_type": "execute_result"
    }
   ],
   "source": [
    "cols = [\n",
    "    'G217_HOD1', 'G217_HOH1', 'G217_HOC1', 'G217_HOD2',\n",
    "    'G217_HOH2', 'G217_HOC2', 'G217_HOD3', 'G217_HOH3',\n",
    "    'G217_HOC3', 'G217_HOD4', 'G217_HOH4', 'G217_HOC4',\n",
    "    'G217_HOD5', 'G217_HOH5', 'G217_HOC5', 'G217_HOD6',\n",
    "    'G217_HOH6', 'G217_HOC6', 'G217_HOD7', 'G217_HOH7', \n",
    "    'G217_HOC7', 'G217_HOD8', 'G217_HOH8', 'G217_HOC8', \n",
    "    'G217_HOD9', 'G217_HOH9', 'G217_HOC9', 'G217_HD10', \n",
    "    'G217_HH10', 'G217_HC10'\n",
    "]\n",
    "\n",
    "df.loc[df[\"G217_HH10\"] == 106, cols]"
   ]
  },
  {
   "cell_type": "code",
   "execution_count": 22,
   "metadata": {},
   "outputs": [
    {
     "data": {
      "text/html": [
       "<div>\n",
       "<style scoped>\n",
       "    .dataframe tbody tr th:only-of-type {\n",
       "        vertical-align: middle;\n",
       "    }\n",
       "\n",
       "    .dataframe tbody tr th {\n",
       "        vertical-align: top;\n",
       "    }\n",
       "\n",
       "    .dataframe thead th {\n",
       "        text-align: right;\n",
       "    }\n",
       "</style>\n",
       "<table border=\"1\" class=\"dataframe\">\n",
       "  <thead>\n",
       "    <tr style=\"text-align: right;\">\n",
       "      <th></th>\n",
       "      <th>G217_HOD5</th>\n",
       "      <th>G217_HOC5</th>\n",
       "    </tr>\n",
       "    <tr>\n",
       "      <th>ID</th>\n",
       "      <th></th>\n",
       "      <th></th>\n",
       "    </tr>\n",
       "  </thead>\n",
       "  <tbody>\n",
       "    <tr>\n",
       "      <th>47890.0</th>\n",
       "      <td>NaN</td>\n",
       "      <td>99810.0</td>\n",
       "    </tr>\n",
       "  </tbody>\n",
       "</table>\n",
       "</div>"
      ],
      "text/plain": [
       "         G217_HOD5  G217_HOC5\n",
       "ID                           \n",
       "47890.0        NaN    99810.0"
      ]
     },
     "execution_count": 22,
     "metadata": {},
     "output_type": "execute_result"
    }
   ],
   "source": [
    "df[[\"G217_HOD5\", \"G217_HOC5\"]].dropna(how='all')"
   ]
  },
  {
   "cell_type": "markdown",
   "metadata": {},
   "source": [
    "No data captured from 6 onwards; drop 6 and onwards."
   ]
  },
  {
   "cell_type": "code",
   "execution_count": 23,
   "metadata": {},
   "outputs": [
    {
     "data": {
      "text/html": [
       "<div>\n",
       "<style scoped>\n",
       "    .dataframe tbody tr th:only-of-type {\n",
       "        vertical-align: middle;\n",
       "    }\n",
       "\n",
       "    .dataframe tbody tr th {\n",
       "        vertical-align: top;\n",
       "    }\n",
       "\n",
       "    .dataframe thead th {\n",
       "        text-align: right;\n",
       "    }\n",
       "</style>\n",
       "<table border=\"1\" class=\"dataframe\">\n",
       "  <thead>\n",
       "    <tr style=\"text-align: right;\">\n",
       "      <th></th>\n",
       "      <th>G217_HOD6</th>\n",
       "      <th>G217_HOC6</th>\n",
       "    </tr>\n",
       "    <tr>\n",
       "      <th>ID</th>\n",
       "      <th></th>\n",
       "      <th></th>\n",
       "    </tr>\n",
       "  </thead>\n",
       "  <tbody>\n",
       "  </tbody>\n",
       "</table>\n",
       "</div>"
      ],
      "text/plain": [
       "Empty DataFrame\n",
       "Columns: [G217_HOD6, G217_HOC6]\n",
       "Index: []"
      ]
     },
     "execution_count": 23,
     "metadata": {},
     "output_type": "execute_result"
    }
   ],
   "source": [
    "df[[\"G217_HOD6\", \"G217_HOC6\"]].dropna(how='all')"
   ]
  }
 ],
 "metadata": {
  "kernelspec": {
   "display_name": "my_env",
   "language": "python",
   "name": "python3"
  },
  "language_info": {
   "codemirror_mode": {
    "name": "ipython",
    "version": 3
   },
   "file_extension": ".py",
   "mimetype": "text/x-python",
   "name": "python",
   "nbconvert_exporter": "python",
   "pygments_lexer": "ipython3",
   "version": "3.12.4"
  }
 },
 "nbformat": 4,
 "nbformat_minor": 2
}
