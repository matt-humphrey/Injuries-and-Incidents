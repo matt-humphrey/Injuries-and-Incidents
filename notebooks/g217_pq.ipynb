{
 "cells": [
  {
   "cell_type": "markdown",
   "metadata": {},
   "source": [
    "# G217_PQ"
   ]
  },
  {
   "cell_type": "markdown",
   "metadata": {},
   "source": [
    "## Exploring the data"
   ]
  },
  {
   "cell_type": "markdown",
   "metadata": {},
   "source": [
    "HO[D|C|F]10 are named H[D|C|F]10? Rest are named as usual. Investigate and fix or drop if no data.\n"
   ]
  },
  {
   "cell_type": "code",
   "execution_count": 1,
   "metadata": {},
   "outputs": [],
   "source": [
    "from fastcore.test import *\n",
    "from fastcore.utils import *\n",
    "import pandas as pd\n",
    "from pandas import DataFrame\n",
    "import numpy as np\n",
    "import pyspssio\n",
    "\n",
    "import raine_tools as rn\n",
    "from data_harmonising.data import *\n",
    "from data_harmonising.transforms import *\n",
    "from data_harmonising.tests import *"
   ]
  },
  {
   "cell_type": "code",
   "execution_count": 2,
   "metadata": {},
   "outputs": [],
   "source": [
    "INPUT = \"../data/raw/G217_PQ.sav\"\n",
    "OUTPUT = \"../data/interim/G217_PQ.sav\""
   ]
  },
  {
   "cell_type": "code",
   "execution_count": 3,
   "metadata": {},
   "outputs": [],
   "source": [
    "df, meta = read_sav(INPUT, index=\"ID\")"
   ]
  },
  {
   "cell_type": "code",
   "execution_count": 11,
   "metadata": {},
   "outputs": [
    {
     "data": {
      "text/html": [
       "<div>\n",
       "<style scoped>\n",
       "    .dataframe tbody tr th:only-of-type {\n",
       "        vertical-align: middle;\n",
       "    }\n",
       "\n",
       "    .dataframe tbody tr th {\n",
       "        vertical-align: top;\n",
       "    }\n",
       "\n",
       "    .dataframe thead th {\n",
       "        text-align: right;\n",
       "    }\n",
       "</style>\n",
       "<table border=\"1\" class=\"dataframe\">\n",
       "  <thead>\n",
       "    <tr style=\"text-align: right;\">\n",
       "      <th></th>\n",
       "      <th>G217_PQ_HD10</th>\n",
       "      <th>G217_PQ_HH10</th>\n",
       "      <th>G217_PQ_HC10</th>\n",
       "    </tr>\n",
       "    <tr>\n",
       "      <th>ID</th>\n",
       "      <th></th>\n",
       "      <th></th>\n",
       "      <th></th>\n",
       "    </tr>\n",
       "  </thead>\n",
       "  <tbody>\n",
       "    <tr>\n",
       "      <th>10010.0</th>\n",
       "      <td>NaT</td>\n",
       "      <td>8888.0</td>\n",
       "      <td></td>\n",
       "    </tr>\n",
       "    <tr>\n",
       "      <th>10020.0</th>\n",
       "      <td>NaT</td>\n",
       "      <td>8888.0</td>\n",
       "      <td></td>\n",
       "    </tr>\n",
       "    <tr>\n",
       "      <th>10030.0</th>\n",
       "      <td>NaT</td>\n",
       "      <td>8888.0</td>\n",
       "      <td></td>\n",
       "    </tr>\n",
       "    <tr>\n",
       "      <th>10040.0</th>\n",
       "      <td>NaT</td>\n",
       "      <td>0.0</td>\n",
       "      <td></td>\n",
       "    </tr>\n",
       "    <tr>\n",
       "      <th>10050.0</th>\n",
       "      <td>NaT</td>\n",
       "      <td>8888.0</td>\n",
       "      <td></td>\n",
       "    </tr>\n",
       "    <tr>\n",
       "      <th>...</th>\n",
       "      <td>...</td>\n",
       "      <td>...</td>\n",
       "      <td>...</td>\n",
       "    </tr>\n",
       "    <tr>\n",
       "      <th>54560.0</th>\n",
       "      <td>NaT</td>\n",
       "      <td>8888.0</td>\n",
       "      <td></td>\n",
       "    </tr>\n",
       "    <tr>\n",
       "      <th>54580.0</th>\n",
       "      <td>NaT</td>\n",
       "      <td>8888.0</td>\n",
       "      <td></td>\n",
       "    </tr>\n",
       "    <tr>\n",
       "      <th>54590.0</th>\n",
       "      <td>NaT</td>\n",
       "      <td>8888.0</td>\n",
       "      <td></td>\n",
       "    </tr>\n",
       "    <tr>\n",
       "      <th>54601.0</th>\n",
       "      <td>NaT</td>\n",
       "      <td>8888.0</td>\n",
       "      <td></td>\n",
       "    </tr>\n",
       "    <tr>\n",
       "      <th>54602.0</th>\n",
       "      <td>NaT</td>\n",
       "      <td>8888.0</td>\n",
       "      <td></td>\n",
       "    </tr>\n",
       "  </tbody>\n",
       "</table>\n",
       "<p>1416 rows × 3 columns</p>\n",
       "</div>"
      ],
      "text/plain": [
       "        G217_PQ_HD10  G217_PQ_HH10 G217_PQ_HC10\n",
       "ID                                             \n",
       "10010.0          NaT        8888.0             \n",
       "10020.0          NaT        8888.0             \n",
       "10030.0          NaT        8888.0             \n",
       "10040.0          NaT           0.0             \n",
       "10050.0          NaT        8888.0             \n",
       "...              ...           ...          ...\n",
       "54560.0          NaT        8888.0             \n",
       "54580.0          NaT        8888.0             \n",
       "54590.0          NaT        8888.0             \n",
       "54601.0          NaT        8888.0             \n",
       "54602.0          NaT        8888.0             \n",
       "\n",
       "[1416 rows x 3 columns]"
      ]
     },
     "execution_count": 11,
     "metadata": {},
     "output_type": "execute_result"
    }
   ],
   "source": [
    "df[[\"G217_PQ_HD10\", \"G217_PQ_HH10\", \"G217_PQ_HC10\"]].dropna(how='all')"
   ]
  },
  {
   "cell_type": "code",
   "execution_count": 21,
   "metadata": {},
   "outputs": [
    {
     "data": {
      "text/plain": [
       "G217_PQ_HH10\n",
       "8888.0          1119\n",
       "0.0              281\n",
       "9999.0            15\n",
       "103.0              1\n",
       "Name: count, dtype: int64"
      ]
     },
     "execution_count": 21,
     "metadata": {},
     "output_type": "execute_result"
    }
   ],
   "source": [
    "df.loc[:, [\"G217_PQ_HH10\"]].dropna().value_counts()"
   ]
  },
  {
   "cell_type": "code",
   "execution_count": 32,
   "metadata": {},
   "outputs": [
    {
     "data": {
      "text/plain": [
       "Index(['G217_PQ_HOD1', 'G217_PQ_HOH1', 'G217_PQ_HOC1', 'G217_PQ_HOD2',\n",
       "       'G217_PQ_HOH2', 'G217_PQ_HOC2', 'G217_PQ_HOD3', 'G217_PQ_HOH3',\n",
       "       'G217_PQ_HOC3', 'G217_PQ_HOD4', 'G217_PQ_HOH4', 'G217_PQ_HOC4',\n",
       "       'G217_PQ_HOD5', 'G217_PQ_HOH5', 'G217_PQ_HOC5', 'G217_PQ_HOD6',\n",
       "       'G217_PQ_HOH6', 'G217_PQ_HOC6', 'G217_PQ_HOD7', 'G217_PQ_HOH7',\n",
       "       'G217_PQ_HOC7', 'G217_PQ_HOD8', 'G217_PQ_HOH8', 'G217_PQ_HOC8',\n",
       "       'G217_PQ_HOD9', 'G217_PQ_HOH9', 'G217_PQ_HOC9', 'G217_PQ_PT_HON1',\n",
       "       'G217_PQ_PT_HON2', 'G217_PQ_PT_HON3'],\n",
       "      dtype='object')"
      ]
     },
     "execution_count": 32,
     "metadata": {},
     "output_type": "execute_result"
    }
   ],
   "source": [
    "df.filter(regex=r\"_HO\\w\\d\\b\").columns"
   ]
  },
  {
   "cell_type": "code",
   "execution_count": null,
   "metadata": {},
   "outputs": [
    {
     "data": {
      "text/html": [
       "<div>\n",
       "<style scoped>\n",
       "    .dataframe tbody tr th:only-of-type {\n",
       "        vertical-align: middle;\n",
       "    }\n",
       "\n",
       "    .dataframe tbody tr th {\n",
       "        vertical-align: top;\n",
       "    }\n",
       "\n",
       "    .dataframe thead th {\n",
       "        text-align: right;\n",
       "    }\n",
       "</style>\n",
       "<table border=\"1\" class=\"dataframe\">\n",
       "  <thead>\n",
       "    <tr style=\"text-align: right;\">\n",
       "      <th></th>\n",
       "      <th>G217_PQ_HOD1</th>\n",
       "      <th>G217_PQ_HOH1</th>\n",
       "      <th>G217_PQ_HOC1</th>\n",
       "      <th>G217_PQ_HOD2</th>\n",
       "      <th>G217_PQ_HOH2</th>\n",
       "      <th>G217_PQ_HOC2</th>\n",
       "      <th>G217_PQ_HOD3</th>\n",
       "      <th>G217_PQ_HOH3</th>\n",
       "      <th>G217_PQ_HOC3</th>\n",
       "      <th>G217_PQ_HOD4</th>\n",
       "      <th>...</th>\n",
       "      <th>G217_PQ_HOC7</th>\n",
       "      <th>G217_PQ_HOD8</th>\n",
       "      <th>G217_PQ_HOH8</th>\n",
       "      <th>G217_PQ_HOC8</th>\n",
       "      <th>G217_PQ_HOD9</th>\n",
       "      <th>G217_PQ_HOH9</th>\n",
       "      <th>G217_PQ_HOC9</th>\n",
       "      <th>G217_PQ_HD10</th>\n",
       "      <th>G217_PQ_HH10</th>\n",
       "      <th>G217_PQ_HC10</th>\n",
       "    </tr>\n",
       "    <tr>\n",
       "      <th>ID</th>\n",
       "      <th></th>\n",
       "      <th></th>\n",
       "      <th></th>\n",
       "      <th></th>\n",
       "      <th></th>\n",
       "      <th></th>\n",
       "      <th></th>\n",
       "      <th></th>\n",
       "      <th></th>\n",
       "      <th></th>\n",
       "      <th></th>\n",
       "      <th></th>\n",
       "      <th></th>\n",
       "      <th></th>\n",
       "      <th></th>\n",
       "      <th></th>\n",
       "      <th></th>\n",
       "      <th></th>\n",
       "      <th></th>\n",
       "      <th></th>\n",
       "      <th></th>\n",
       "    </tr>\n",
       "  </thead>\n",
       "  <tbody>\n",
       "    <tr>\n",
       "      <th>22181.0</th>\n",
       "      <td>2006-03-15</td>\n",
       "      <td>103.0</td>\n",
       "      <td>V7720</td>\n",
       "      <td>NaT</td>\n",
       "      <td>103.0</td>\n",
       "      <td></td>\n",
       "      <td>NaT</td>\n",
       "      <td>103.0</td>\n",
       "      <td></td>\n",
       "      <td>NaT</td>\n",
       "      <td>...</td>\n",
       "      <td></td>\n",
       "      <td>NaT</td>\n",
       "      <td>103.0</td>\n",
       "      <td></td>\n",
       "      <td>NaT</td>\n",
       "      <td>103.0</td>\n",
       "      <td></td>\n",
       "      <td>NaT</td>\n",
       "      <td>103.0</td>\n",
       "      <td></td>\n",
       "    </tr>\n",
       "  </tbody>\n",
       "</table>\n",
       "<p>1 rows × 30 columns</p>\n",
       "</div>"
      ],
      "text/plain": [
       "        G217_PQ_HOD1  G217_PQ_HOH1 G217_PQ_HOC1 G217_PQ_HOD2  G217_PQ_HOH2  \\\n",
       "ID                                                                           \n",
       "22181.0   2006-03-15         103.0        V7720          NaT         103.0   \n",
       "\n",
       "        G217_PQ_HOC2 G217_PQ_HOD3  G217_PQ_HOH3 G217_PQ_HOC3 G217_PQ_HOD4  \\\n",
       "ID                                                                          \n",
       "22181.0                       NaT         103.0                       NaT   \n",
       "\n",
       "         ...  G217_PQ_HOC7 G217_PQ_HOD8 G217_PQ_HOH8  G217_PQ_HOC8  \\\n",
       "ID       ...                                                         \n",
       "22181.0  ...                        NaT        103.0                 \n",
       "\n",
       "        G217_PQ_HOD9 G217_PQ_HOH9  G217_PQ_HOC9 G217_PQ_HD10 G217_PQ_HH10  \\\n",
       "ID                                                                          \n",
       "22181.0          NaT        103.0                        NaT        103.0   \n",
       "\n",
       "         G217_PQ_HC10  \n",
       "ID                     \n",
       "22181.0                \n",
       "\n",
       "[1 rows x 30 columns]"
      ]
     },
     "execution_count": 35,
     "metadata": {},
     "output_type": "execute_result"
    }
   ],
   "source": [
    "cols = [\n",
    "    'G217_PQ_HOD1', 'G217_PQ_HOH1', 'G217_PQ_HOC1', 'G217_PQ_HOD2',\n",
    "    'G217_PQ_HOH2', 'G217_PQ_HOC2', 'G217_PQ_HOD3', 'G217_PQ_HOH3',\n",
    "    'G217_PQ_HOC3', 'G217_PQ_HOD4', 'G217_PQ_HOH4', 'G217_PQ_HOC4',\n",
    "    'G217_PQ_HOD5', 'G217_PQ_HOH5', 'G217_PQ_HOC5', 'G217_PQ_HOD6',\n",
    "    'G217_PQ_HOH6', 'G217_PQ_HOC6', 'G217_PQ_HOD7', 'G217_PQ_HOH7', \n",
    "    'G217_PQ_HOC7', 'G217_PQ_HOD8', 'G217_PQ_HOH8', 'G217_PQ_HOC8', \n",
    "    'G217_PQ_HOD9', 'G217_PQ_HOH9', 'G217_PQ_HOC9', 'G217_PQ_HD10', \n",
    "    'G217_PQ_HH10', 'G217_PQ_HC10'\n",
    "]\n",
    "\n",
    "df.loc[df[\"G217_PQ_HH10\"] == 103, cols]"
   ]
  },
  {
   "cell_type": "code",
   "execution_count": 19,
   "metadata": {},
   "outputs": [
    {
     "name": "stderr",
     "output_type": "stream",
     "text": [
      "C:\\Users\\00113294\\AppData\\Local\\Temp\\ipykernel_31288\\3350154406.py:1: FutureWarning: Downcasting behavior in `replace` is deprecated and will be removed in a future version. To retain the old behavior, explicitly call `result.infer_objects(copy=False)`. To opt-in to the future behavior, set `pd.set_option('future.no_silent_downcasting', True)`\n",
      "  df.loc[:, [\"G217_PQ_HC10\"]].replace('', np.nan).dropna()\n"
     ]
    },
    {
     "data": {
      "text/html": [
       "<div>\n",
       "<style scoped>\n",
       "    .dataframe tbody tr th:only-of-type {\n",
       "        vertical-align: middle;\n",
       "    }\n",
       "\n",
       "    .dataframe tbody tr th {\n",
       "        vertical-align: top;\n",
       "    }\n",
       "\n",
       "    .dataframe thead th {\n",
       "        text-align: right;\n",
       "    }\n",
       "</style>\n",
       "<table border=\"1\" class=\"dataframe\">\n",
       "  <thead>\n",
       "    <tr style=\"text-align: right;\">\n",
       "      <th></th>\n",
       "      <th>G217_PQ_HC10</th>\n",
       "    </tr>\n",
       "    <tr>\n",
       "      <th>ID</th>\n",
       "      <th></th>\n",
       "    </tr>\n",
       "  </thead>\n",
       "  <tbody>\n",
       "  </tbody>\n",
       "</table>\n",
       "</div>"
      ],
      "text/plain": [
       "Empty DataFrame\n",
       "Columns: [G217_PQ_HC10]\n",
       "Index: []"
      ]
     },
     "execution_count": 19,
     "metadata": {},
     "output_type": "execute_result"
    }
   ],
   "source": [
    "df.loc[:, [\"G217_PQ_HC10\"]].replace('', np.nan).dropna()"
   ]
  },
  {
   "cell_type": "code",
   "execution_count": 42,
   "metadata": {},
   "outputs": [
    {
     "data": {
      "text/html": [
       "<div>\n",
       "<style scoped>\n",
       "    .dataframe tbody tr th:only-of-type {\n",
       "        vertical-align: middle;\n",
       "    }\n",
       "\n",
       "    .dataframe tbody tr th {\n",
       "        vertical-align: top;\n",
       "    }\n",
       "\n",
       "    .dataframe thead th {\n",
       "        text-align: right;\n",
       "    }\n",
       "</style>\n",
       "<table border=\"1\" class=\"dataframe\">\n",
       "  <thead>\n",
       "    <tr style=\"text-align: right;\">\n",
       "      <th></th>\n",
       "      <th>G217_PQ_HOC5</th>\n",
       "    </tr>\n",
       "    <tr>\n",
       "      <th>ID</th>\n",
       "      <th></th>\n",
       "    </tr>\n",
       "  </thead>\n",
       "  <tbody>\n",
       "    <tr>\n",
       "      <th>10420.0</th>\n",
       "      <td>29630</td>\n",
       "    </tr>\n",
       "    <tr>\n",
       "      <th>50470.0</th>\n",
       "      <td>78039</td>\n",
       "    </tr>\n",
       "  </tbody>\n",
       "</table>\n",
       "</div>"
      ],
      "text/plain": [
       "        G217_PQ_HOC5\n",
       "ID                  \n",
       "10420.0        29630\n",
       "50470.0        78039"
      ]
     },
     "execution_count": 42,
     "metadata": {},
     "output_type": "execute_result"
    }
   ],
   "source": [
    "df[[\"G217_PQ_HOC5\"]].replace('', np.nan).dropna(how='all')"
   ]
  },
  {
   "cell_type": "markdown",
   "metadata": {},
   "source": [
    "No data from 6 onwards; drop."
   ]
  },
  {
   "cell_type": "code",
   "execution_count": 43,
   "metadata": {},
   "outputs": [
    {
     "name": "stderr",
     "output_type": "stream",
     "text": [
      "C:\\Users\\00113294\\AppData\\Local\\Temp\\ipykernel_31288\\2271664908.py:1: FutureWarning: Downcasting behavior in `replace` is deprecated and will be removed in a future version. To retain the old behavior, explicitly call `result.infer_objects(copy=False)`. To opt-in to the future behavior, set `pd.set_option('future.no_silent_downcasting', True)`\n",
      "  df[[\"G217_PQ_HOC6\"]].replace('', np.nan).dropna(how='all')\n"
     ]
    },
    {
     "data": {
      "text/html": [
       "<div>\n",
       "<style scoped>\n",
       "    .dataframe tbody tr th:only-of-type {\n",
       "        vertical-align: middle;\n",
       "    }\n",
       "\n",
       "    .dataframe tbody tr th {\n",
       "        vertical-align: top;\n",
       "    }\n",
       "\n",
       "    .dataframe thead th {\n",
       "        text-align: right;\n",
       "    }\n",
       "</style>\n",
       "<table border=\"1\" class=\"dataframe\">\n",
       "  <thead>\n",
       "    <tr style=\"text-align: right;\">\n",
       "      <th></th>\n",
       "      <th>G217_PQ_HOC6</th>\n",
       "    </tr>\n",
       "    <tr>\n",
       "      <th>ID</th>\n",
       "      <th></th>\n",
       "    </tr>\n",
       "  </thead>\n",
       "  <tbody>\n",
       "  </tbody>\n",
       "</table>\n",
       "</div>"
      ],
      "text/plain": [
       "Empty DataFrame\n",
       "Columns: [G217_PQ_HOC6]\n",
       "Index: []"
      ]
     },
     "execution_count": 43,
     "metadata": {},
     "output_type": "execute_result"
    }
   ],
   "source": [
    "df[[\"G217_PQ_HOC6\"]].replace('', np.nan).dropna(how='all')"
   ]
  }
 ],
 "metadata": {
  "kernelspec": {
   "display_name": "my_env",
   "language": "python",
   "name": "python3"
  },
  "language_info": {
   "codemirror_mode": {
    "name": "ipython",
    "version": 3
   },
   "file_extension": ".py",
   "mimetype": "text/x-python",
   "name": "python",
   "nbconvert_exporter": "python",
   "pygments_lexer": "ipython3",
   "version": "3.12.4"
  }
 },
 "nbformat": 4,
 "nbformat_minor": 2
}
